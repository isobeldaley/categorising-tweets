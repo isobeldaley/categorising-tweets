{
 "cells": [
  {
   "cell_type": "markdown",
   "metadata": {},
   "source": [
    "## Import Libraries"
   ]
  },
  {
   "cell_type": "code",
   "execution_count": 175,
   "metadata": {},
   "outputs": [],
   "source": [
    "import pandas as pd\n",
    "import nltk\n",
    "from nltk.corpus import stopwords\n",
    "import re\n",
    "import string\n",
    "from nltk import word_tokenize, FreqDist\n",
    "from nltk.stem.wordnet import WordNetLemmatizer\n",
    "import pickle"
   ]
  },
  {
   "cell_type": "markdown",
   "metadata": {},
   "source": [
    "## Import Data"
   ]
  },
  {
   "cell_type": "code",
   "execution_count": 176,
   "metadata": {},
   "outputs": [],
   "source": [
    "df = pd.read_excel('unlabelled_data.xlsx')"
   ]
  },
  {
   "cell_type": "code",
   "execution_count": 177,
   "metadata": {},
   "outputs": [
    {
     "data": {
      "text/html": [
       "<div>\n",
       "<style scoped>\n",
       "    .dataframe tbody tr th:only-of-type {\n",
       "        vertical-align: middle;\n",
       "    }\n",
       "\n",
       "    .dataframe tbody tr th {\n",
       "        vertical-align: top;\n",
       "    }\n",
       "\n",
       "    .dataframe thead th {\n",
       "        text-align: right;\n",
       "    }\n",
       "</style>\n",
       "<table border=\"1\" class=\"dataframe\">\n",
       "  <thead>\n",
       "    <tr style=\"text-align: right;\">\n",
       "      <th></th>\n",
       "      <th>Unnamed: 0</th>\n",
       "      <th>Mobile Network</th>\n",
       "      <th>Tweet Created At</th>\n",
       "      <th>Tweet Text</th>\n",
       "    </tr>\n",
       "  </thead>\n",
       "  <tbody>\n",
       "    <tr>\n",
       "      <th>0</th>\n",
       "      <td>0</td>\n",
       "      <td>@VodafoneUK</td>\n",
       "      <td>2019-12-04 08:05:14</td>\n",
       "      <td>@VodafoneUK Plus £2.28 package &amp;amp; posting !...</td>\n",
       "    </tr>\n",
       "    <tr>\n",
       "      <th>1</th>\n",
       "      <td>1</td>\n",
       "      <td>@VodafoneUK</td>\n",
       "      <td>2019-12-04 08:04:05</td>\n",
       "      <td>I have repeatedly asked how to get a refund so...</td>\n",
       "    </tr>\n",
       "    <tr>\n",
       "      <th>2</th>\n",
       "      <td>2</td>\n",
       "      <td>@VodafoneUK</td>\n",
       "      <td>2019-12-04 08:01:19</td>\n",
       "      <td>I have supplied visa details twice, I have bee...</td>\n",
       "    </tr>\n",
       "    <tr>\n",
       "      <th>3</th>\n",
       "      <td>3</td>\n",
       "      <td>@VodafoneUK</td>\n",
       "      <td>2019-12-04 07:57:42</td>\n",
       "      <td>@VodafoneIN promised yesterday I’d receive no ...</td>\n",
       "    </tr>\n",
       "    <tr>\n",
       "      <th>4</th>\n",
       "      <td>4</td>\n",
       "      <td>@VodafoneUK</td>\n",
       "      <td>2019-12-04 07:57:16</td>\n",
       "      <td>@VodafoneUK you send texts about rewards - thi...</td>\n",
       "    </tr>\n",
       "  </tbody>\n",
       "</table>\n",
       "</div>"
      ],
      "text/plain": [
       "   Unnamed: 0 Mobile Network    Tweet Created At  \\\n",
       "0           0    @VodafoneUK 2019-12-04 08:05:14   \n",
       "1           1    @VodafoneUK 2019-12-04 08:04:05   \n",
       "2           2    @VodafoneUK 2019-12-04 08:01:19   \n",
       "3           3    @VodafoneUK 2019-12-04 07:57:42   \n",
       "4           4    @VodafoneUK 2019-12-04 07:57:16   \n",
       "\n",
       "                                          Tweet Text  \n",
       "0  @VodafoneUK Plus £2.28 package &amp; posting !...  \n",
       "1  I have repeatedly asked how to get a refund so...  \n",
       "2  I have supplied visa details twice, I have bee...  \n",
       "3  @VodafoneIN promised yesterday I’d receive no ...  \n",
       "4  @VodafoneUK you send texts about rewards - thi...  "
      ]
     },
     "execution_count": 177,
     "metadata": {},
     "output_type": "execute_result"
    }
   ],
   "source": [
    "df.head()"
   ]
  },
  {
   "cell_type": "code",
   "execution_count": 178,
   "metadata": {},
   "outputs": [
    {
     "data": {
      "text/plain": [
       "Unnamed: 0          0\n",
       "Mobile Network      0\n",
       "Tweet Created At    0\n",
       "Tweet Text          1\n",
       "dtype: int64"
      ]
     },
     "execution_count": 178,
     "metadata": {},
     "output_type": "execute_result"
    }
   ],
   "source": [
    "df.isna().sum()"
   ]
  },
  {
   "cell_type": "code",
   "execution_count": 179,
   "metadata": {},
   "outputs": [],
   "source": [
    "df.dropna(inplace=True)"
   ]
  },
  {
   "cell_type": "code",
   "execution_count": 180,
   "metadata": {},
   "outputs": [
    {
     "data": {
      "text/plain": [
       "Unnamed: 0          0\n",
       "Mobile Network      0\n",
       "Tweet Created At    0\n",
       "Tweet Text          0\n",
       "dtype: int64"
      ]
     },
     "execution_count": 180,
     "metadata": {},
     "output_type": "execute_result"
    }
   ],
   "source": [
    "df.isna().sum()"
   ]
  },
  {
   "cell_type": "markdown",
   "metadata": {},
   "source": [
    "## Create List of Stopwords"
   ]
  },
  {
   "cell_type": "code",
   "execution_count": 181,
   "metadata": {},
   "outputs": [],
   "source": [
    "stopwords_list = stopwords.words('english')\n",
    "stopwords_list += string.punctuation\n",
    "stopwords_list += [\"/n\",\"''\", '\"\"', '...', '``',\"'\",'’','amp']"
   ]
  },
  {
   "cell_type": "code",
   "execution_count": 182,
   "metadata": {},
   "outputs": [
    {
     "data": {
      "text/plain": [
       "['i',\n",
       " 'me',\n",
       " 'my',\n",
       " 'myself',\n",
       " 'we',\n",
       " 'our',\n",
       " 'ours',\n",
       " 'ourselves',\n",
       " 'you',\n",
       " \"you're\",\n",
       " \"you've\",\n",
       " \"you'll\",\n",
       " \"you'd\",\n",
       " 'your',\n",
       " 'yours',\n",
       " 'yourself',\n",
       " 'yourselves',\n",
       " 'he',\n",
       " 'him',\n",
       " 'his',\n",
       " 'himself',\n",
       " 'she',\n",
       " \"she's\",\n",
       " 'her',\n",
       " 'hers',\n",
       " 'herself',\n",
       " 'it',\n",
       " \"it's\",\n",
       " 'its',\n",
       " 'itself',\n",
       " 'they',\n",
       " 'them',\n",
       " 'their',\n",
       " 'theirs',\n",
       " 'themselves',\n",
       " 'what',\n",
       " 'which',\n",
       " 'who',\n",
       " 'whom',\n",
       " 'this',\n",
       " 'that',\n",
       " \"that'll\",\n",
       " 'these',\n",
       " 'those',\n",
       " 'am',\n",
       " 'is',\n",
       " 'are',\n",
       " 'was',\n",
       " 'were',\n",
       " 'be',\n",
       " 'been',\n",
       " 'being',\n",
       " 'have',\n",
       " 'has',\n",
       " 'had',\n",
       " 'having',\n",
       " 'do',\n",
       " 'does',\n",
       " 'did',\n",
       " 'doing',\n",
       " 'a',\n",
       " 'an',\n",
       " 'the',\n",
       " 'and',\n",
       " 'but',\n",
       " 'if',\n",
       " 'or',\n",
       " 'because',\n",
       " 'as',\n",
       " 'until',\n",
       " 'while',\n",
       " 'of',\n",
       " 'at',\n",
       " 'by',\n",
       " 'for',\n",
       " 'with',\n",
       " 'about',\n",
       " 'against',\n",
       " 'between',\n",
       " 'into',\n",
       " 'through',\n",
       " 'during',\n",
       " 'before',\n",
       " 'after',\n",
       " 'above',\n",
       " 'below',\n",
       " 'to',\n",
       " 'from',\n",
       " 'up',\n",
       " 'down',\n",
       " 'in',\n",
       " 'out',\n",
       " 'on',\n",
       " 'off',\n",
       " 'over',\n",
       " 'under',\n",
       " 'again',\n",
       " 'further',\n",
       " 'then',\n",
       " 'once',\n",
       " 'here',\n",
       " 'there',\n",
       " 'when',\n",
       " 'where',\n",
       " 'why',\n",
       " 'how',\n",
       " 'all',\n",
       " 'any',\n",
       " 'both',\n",
       " 'each',\n",
       " 'few',\n",
       " 'more',\n",
       " 'most',\n",
       " 'other',\n",
       " 'some',\n",
       " 'such',\n",
       " 'no',\n",
       " 'nor',\n",
       " 'not',\n",
       " 'only',\n",
       " 'own',\n",
       " 'same',\n",
       " 'so',\n",
       " 'than',\n",
       " 'too',\n",
       " 'very',\n",
       " 's',\n",
       " 't',\n",
       " 'can',\n",
       " 'will',\n",
       " 'just',\n",
       " 'don',\n",
       " \"don't\",\n",
       " 'should',\n",
       " \"should've\",\n",
       " 'now',\n",
       " 'd',\n",
       " 'll',\n",
       " 'm',\n",
       " 'o',\n",
       " 're',\n",
       " 've',\n",
       " 'y',\n",
       " 'ain',\n",
       " 'aren',\n",
       " \"aren't\",\n",
       " 'couldn',\n",
       " \"couldn't\",\n",
       " 'didn',\n",
       " \"didn't\",\n",
       " 'doesn',\n",
       " \"doesn't\",\n",
       " 'hadn',\n",
       " \"hadn't\",\n",
       " 'hasn',\n",
       " \"hasn't\",\n",
       " 'haven',\n",
       " \"haven't\",\n",
       " 'isn',\n",
       " \"isn't\",\n",
       " 'ma',\n",
       " 'mightn',\n",
       " \"mightn't\",\n",
       " 'mustn',\n",
       " \"mustn't\",\n",
       " 'needn',\n",
       " \"needn't\",\n",
       " 'shan',\n",
       " \"shan't\",\n",
       " 'shouldn',\n",
       " \"shouldn't\",\n",
       " 'wasn',\n",
       " \"wasn't\",\n",
       " 'weren',\n",
       " \"weren't\",\n",
       " 'won',\n",
       " \"won't\",\n",
       " 'wouldn',\n",
       " \"wouldn't\",\n",
       " '!',\n",
       " '\"',\n",
       " '#',\n",
       " '$',\n",
       " '%',\n",
       " '&',\n",
       " \"'\",\n",
       " '(',\n",
       " ')',\n",
       " '*',\n",
       " '+',\n",
       " ',',\n",
       " '-',\n",
       " '.',\n",
       " '/',\n",
       " ':',\n",
       " ';',\n",
       " '<',\n",
       " '=',\n",
       " '>',\n",
       " '?',\n",
       " '@',\n",
       " '[',\n",
       " '\\\\',\n",
       " ']',\n",
       " '^',\n",
       " '_',\n",
       " '`',\n",
       " '{',\n",
       " '|',\n",
       " '}',\n",
       " '~',\n",
       " '/n',\n",
       " \"''\",\n",
       " '\"\"',\n",
       " '...',\n",
       " '``',\n",
       " \"'\",\n",
       " '’',\n",
       " 'amp']"
      ]
     },
     "execution_count": 182,
     "metadata": {},
     "output_type": "execute_result"
    }
   ],
   "source": [
    "stopwords_list"
   ]
  },
  {
   "cell_type": "markdown",
   "metadata": {},
   "source": [
    "## Create Function to Tokenize, Remove Stopwords, Make Lower Case"
   ]
  },
  {
   "cell_type": "code",
   "execution_count": 183,
   "metadata": {},
   "outputs": [],
   "source": [
    "def process_tweet(tweet):\n",
    "    \n",
    "    ## Remove \"@username\" from each Tweet\n",
    "    pattern = '(\\w*@\\w*)'\n",
    "    p = re.compile(pattern)\n",
    "    tweet = p.sub('',tweet)\n",
    "    \n",
    "    ## Remove links from each Tweet\n",
    "    pattern2 = '(\\w*http\\w*)'\n",
    "    p = re.compile(pattern2)\n",
    "    tweet = p.sub('',tweet)\n",
    "    \n",
    "    pattern3 = '(\\w*//t.co/\\w*)'\n",
    "    p = re.compile(pattern3)\n",
    "    tweet = p.sub('',tweet)\n",
    "    \n",
    "    ## Tokenize tweet\n",
    "    tokens = nltk.word_tokenize(tweet)\n",
    "    \n",
    "    ## Retain only words that are not in the Stopwords list\n",
    "    stopwords_removed = [token.lower() for token in tokens if token.lower() not in stopwords_list]\n",
    "    return stopwords_removed"
   ]
  },
  {
   "cell_type": "markdown",
   "metadata": {},
   "source": [
    "## Tokenize All Tweets"
   ]
  },
  {
   "cell_type": "code",
   "execution_count": 184,
   "metadata": {},
   "outputs": [],
   "source": [
    "tokenized_tweets = []\n",
    "\n",
    "for key, tweet in enumerate(list(df['Tweet Text'])):\n",
    "    \n",
    "    tokenized_tweets.append(process_tweet(tweet))\n",
    "        "
   ]
  },
  {
   "cell_type": "code",
   "execution_count": 185,
   "metadata": {},
   "outputs": [
    {
     "data": {
      "text/plain": [
       "16144"
      ]
     },
     "execution_count": 185,
     "metadata": {},
     "output_type": "execute_result"
    }
   ],
   "source": [
    "len(tokenized_tweets)"
   ]
  },
  {
   "cell_type": "code",
   "execution_count": 186,
   "metadata": {},
   "outputs": [
    {
     "data": {
      "text/plain": [
       "['supplied',\n",
       " 'visa',\n",
       " 'details',\n",
       " 'twice',\n",
       " 'subjected',\n",
       " 'horrendously',\n",
       " 'rude',\n",
       " 'staff',\n",
       " 'instore',\n",
       " 'vodafone',\n",
       " 'stealing',\n",
       " 'money',\n",
       " 'removing',\n",
       " 'services',\n",
       " 'paid',\n",
       " 'tourists',\n",
       " 'use',\n",
       " 'vodafone']"
      ]
     },
     "execution_count": 186,
     "metadata": {},
     "output_type": "execute_result"
    }
   ],
   "source": [
    "tokenized_tweets[2]"
   ]
  },
  {
   "cell_type": "markdown",
   "metadata": {},
   "source": [
    "## Lemmatization"
   ]
  },
  {
   "cell_type": "code",
   "execution_count": 187,
   "metadata": {},
   "outputs": [],
   "source": [
    "lemmatizer = WordNetLemmatizer()"
   ]
  },
  {
   "cell_type": "code",
   "execution_count": 188,
   "metadata": {},
   "outputs": [],
   "source": [
    "\n",
    "lemmatized_tweets = []\n",
    "\n",
    "for tweet in tokenized_tweets:\n",
    "    \n",
    "    lemmatized = []\n",
    "    \n",
    "    for word in tweet:\n",
    "        \n",
    "        lemmatized.append(lemmatizer.lemmatize(word))\n",
    "    \n",
    "    lemmatized_tweets.append(lemmatized)\n",
    "        \n",
    "        "
   ]
  },
  {
   "cell_type": "markdown",
   "metadata": {},
   "source": [
    "## Save Tokenized/Lemmatized Tweets to Modified Dataframe"
   ]
  },
  {
   "cell_type": "code",
   "execution_count": 189,
   "metadata": {},
   "outputs": [],
   "source": [
    "df['Cleaned Tweets'] = lemmatized_tweets"
   ]
  },
  {
   "cell_type": "code",
   "execution_count": 190,
   "metadata": {},
   "outputs": [
    {
     "data": {
      "text/html": [
       "<div>\n",
       "<style scoped>\n",
       "    .dataframe tbody tr th:only-of-type {\n",
       "        vertical-align: middle;\n",
       "    }\n",
       "\n",
       "    .dataframe tbody tr th {\n",
       "        vertical-align: top;\n",
       "    }\n",
       "\n",
       "    .dataframe thead th {\n",
       "        text-align: right;\n",
       "    }\n",
       "</style>\n",
       "<table border=\"1\" class=\"dataframe\">\n",
       "  <thead>\n",
       "    <tr style=\"text-align: right;\">\n",
       "      <th></th>\n",
       "      <th>Unnamed: 0</th>\n",
       "      <th>Mobile Network</th>\n",
       "      <th>Tweet Created At</th>\n",
       "      <th>Tweet Text</th>\n",
       "      <th>Cleaned Tweets</th>\n",
       "    </tr>\n",
       "  </thead>\n",
       "  <tbody>\n",
       "    <tr>\n",
       "      <th>0</th>\n",
       "      <td>0</td>\n",
       "      <td>@VodafoneUK</td>\n",
       "      <td>2019-12-04 08:05:14</td>\n",
       "      <td>@VodafoneUK Plus £2.28 package &amp;amp; posting !...</td>\n",
       "      <td>[plus, £2.28, package, posting]</td>\n",
       "    </tr>\n",
       "    <tr>\n",
       "      <th>1</th>\n",
       "      <td>1</td>\n",
       "      <td>@VodafoneUK</td>\n",
       "      <td>2019-12-04 08:04:05</td>\n",
       "      <td>I have repeatedly asked how to get a refund so...</td>\n",
       "      <td>[repeatedly, asked, get, refund, use, another,...</td>\n",
       "    </tr>\n",
       "    <tr>\n",
       "      <th>2</th>\n",
       "      <td>2</td>\n",
       "      <td>@VodafoneUK</td>\n",
       "      <td>2019-12-04 08:01:19</td>\n",
       "      <td>I have supplied visa details twice, I have bee...</td>\n",
       "      <td>[supplied, visa, detail, twice, subjected, hor...</td>\n",
       "    </tr>\n",
       "    <tr>\n",
       "      <th>3</th>\n",
       "      <td>3</td>\n",
       "      <td>@VodafoneUK</td>\n",
       "      <td>2019-12-04 07:57:42</td>\n",
       "      <td>@VodafoneIN promised yesterday I’d receive no ...</td>\n",
       "      <td>[promised, yesterday, receive, call, would, ge...</td>\n",
       "    </tr>\n",
       "    <tr>\n",
       "      <th>4</th>\n",
       "      <td>4</td>\n",
       "      <td>@VodafoneUK</td>\n",
       "      <td>2019-12-04 07:57:16</td>\n",
       "      <td>@VodafoneUK you send texts about rewards - thi...</td>\n",
       "      <td>[send, text, reward, morning, lindt, take, app...</td>\n",
       "    </tr>\n",
       "  </tbody>\n",
       "</table>\n",
       "</div>"
      ],
      "text/plain": [
       "   Unnamed: 0 Mobile Network    Tweet Created At  \\\n",
       "0           0    @VodafoneUK 2019-12-04 08:05:14   \n",
       "1           1    @VodafoneUK 2019-12-04 08:04:05   \n",
       "2           2    @VodafoneUK 2019-12-04 08:01:19   \n",
       "3           3    @VodafoneUK 2019-12-04 07:57:42   \n",
       "4           4    @VodafoneUK 2019-12-04 07:57:16   \n",
       "\n",
       "                                          Tweet Text  \\\n",
       "0  @VodafoneUK Plus £2.28 package &amp; posting !...   \n",
       "1  I have repeatedly asked how to get a refund so...   \n",
       "2  I have supplied visa details twice, I have bee...   \n",
       "3  @VodafoneIN promised yesterday I’d receive no ...   \n",
       "4  @VodafoneUK you send texts about rewards - thi...   \n",
       "\n",
       "                                      Cleaned Tweets  \n",
       "0                    [plus, £2.28, package, posting]  \n",
       "1  [repeatedly, asked, get, refund, use, another,...  \n",
       "2  [supplied, visa, detail, twice, subjected, hor...  \n",
       "3  [promised, yesterday, receive, call, would, ge...  \n",
       "4  [send, text, reward, morning, lindt, take, app...  "
      ]
     },
     "execution_count": 190,
     "metadata": {},
     "output_type": "execute_result"
    }
   ],
   "source": [
    "df.head()"
   ]
  },
  {
   "cell_type": "code",
   "execution_count": 191,
   "metadata": {},
   "outputs": [],
   "source": [
    "## Save using Pickle\n",
    "df.to_pickle('cleaned_tweets')"
   ]
  },
  {
   "cell_type": "code",
   "execution_count": null,
   "metadata": {},
   "outputs": [],
   "source": []
  }
 ],
 "metadata": {
  "kernelspec": {
   "display_name": "Python 3",
   "language": "python",
   "name": "python3"
  },
  "language_info": {
   "codemirror_mode": {
    "name": "ipython",
    "version": 3
   },
   "file_extension": ".py",
   "mimetype": "text/x-python",
   "name": "python",
   "nbconvert_exporter": "python",
   "pygments_lexer": "ipython3",
   "version": "3.7.3"
  }
 },
 "nbformat": 4,
 "nbformat_minor": 2
}
