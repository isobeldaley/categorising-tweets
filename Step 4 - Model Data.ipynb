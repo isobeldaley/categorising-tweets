{
 "cells": [
  {
   "cell_type": "markdown",
   "metadata": {},
   "source": [
    "## Import Libraries"
   ]
  },
  {
   "cell_type": "code",
   "execution_count": 106,
   "metadata": {},
   "outputs": [
    {
     "name": "stderr",
     "output_type": "stream",
     "text": [
      "Using TensorFlow backend.\n"
     ]
    }
   ],
   "source": [
    "import pandas as pd\n",
    "\n",
    "import pickle\n",
    "\n",
    "import numpy as np\n",
    "\n",
    "import matplotlib.pyplot as plt\n",
    "%matplotlib inline\n",
    "\n",
    "from sklearn.model_selection import train_test_split\n",
    "from sklearn.feature_extraction.text import TfidfVectorizer\n",
    "from sklearn.decomposition import PCA\n",
    "\n",
    "from sklearn.model_selection import GridSearchCV\n",
    "\n",
    "from sklearn.ensemble import RandomForestClassifier\n",
    "from sklearn.naive_bayes import MultinomialNB\n",
    "\n",
    "from sklearn.neighbors import KNeighborsClassifier\n",
    "from sklearn.linear_model import LogisticRegression\n",
    "from sklearn.svm import SVC\n",
    "\n",
    "import xgboost as xgb\n",
    "\n",
    "from sklearn.metrics import accuracy_score\n",
    "from sklearn.metrics import classification_report\n",
    "from sklearn.metrics import confusion_matrix\n",
    "from sklearn.metrics import roc_auc_score, roc_curve, auc\n",
    "\n",
    "from sklearn.metrics import accuracy_score\n",
    "\n",
    "from keras import models\n",
    "from keras import layers\n",
    "from keras import optimizers"
   ]
  },
  {
   "cell_type": "markdown",
   "metadata": {},
   "source": [
    "## Split Data into Training & Test Set"
   ]
  },
  {
   "cell_type": "code",
   "execution_count": 5,
   "metadata": {},
   "outputs": [],
   "source": [
    "## Import saved dataframe using pickle\n",
    "df = pd.read_pickle('cleaned_labelled_tweets')"
   ]
  },
  {
   "cell_type": "code",
   "execution_count": 17,
   "metadata": {},
   "outputs": [
    {
     "data": {
      "text/html": [
       "<div>\n",
       "<style scoped>\n",
       "    .dataframe tbody tr th:only-of-type {\n",
       "        vertical-align: middle;\n",
       "    }\n",
       "\n",
       "    .dataframe tbody tr th {\n",
       "        vertical-align: top;\n",
       "    }\n",
       "\n",
       "    .dataframe thead th {\n",
       "        text-align: right;\n",
       "    }\n",
       "</style>\n",
       "<table border=\"1\" class=\"dataframe\">\n",
       "  <thead>\n",
       "    <tr style=\"text-align: right;\">\n",
       "      <th></th>\n",
       "      <th>network</th>\n",
       "      <th>datetime</th>\n",
       "      <th>original_tweet</th>\n",
       "      <th>subject</th>\n",
       "      <th>sentiment</th>\n",
       "      <th>lemmatized_tweets_tokens</th>\n",
       "      <th>lemmatized_tweets_string</th>\n",
       "    </tr>\n",
       "  </thead>\n",
       "  <tbody>\n",
       "    <tr>\n",
       "      <th>0</th>\n",
       "      <td>@VodafoneUK</td>\n",
       "      <td>2019-12-04 08:05:14</td>\n",
       "      <td>@VodafoneUK Plus £2.28 package &amp;amp; posting !...</td>\n",
       "      <td>device</td>\n",
       "      <td>0.000000</td>\n",
       "      <td>[plus, £2.28, package, posting]</td>\n",
       "      <td>plus £2.28 package posting</td>\n",
       "    </tr>\n",
       "    <tr>\n",
       "      <th>1</th>\n",
       "      <td>@VodafoneUK</td>\n",
       "      <td>2019-12-04 08:04:05</td>\n",
       "      <td>I have repeatedly asked how to get a refund so...</td>\n",
       "      <td>customer service</td>\n",
       "      <td>-0.300000</td>\n",
       "      <td>[repeatedly, asked, get, refund, use, another,...</td>\n",
       "      <td>repeatedly asked get refund use another provid...</td>\n",
       "    </tr>\n",
       "    <tr>\n",
       "      <th>2</th>\n",
       "      <td>@VodafoneUK</td>\n",
       "      <td>2019-12-04 08:01:19</td>\n",
       "      <td>I have supplied visa details twice, I have bee...</td>\n",
       "      <td>customer service</td>\n",
       "      <td>-0.300000</td>\n",
       "      <td>[supplied, visa, detail, twice, subjected, hor...</td>\n",
       "      <td>supplied visa detail twice subjected horrendou...</td>\n",
       "    </tr>\n",
       "    <tr>\n",
       "      <th>3</th>\n",
       "      <td>@VodafoneUK</td>\n",
       "      <td>2019-12-04 07:57:42</td>\n",
       "      <td>@VodafoneIN promised yesterday I’d receive no ...</td>\n",
       "      <td>customer service</td>\n",
       "      <td>-0.250000</td>\n",
       "      <td>[promised, yesterday, receive, call, would, ge...</td>\n",
       "      <td>promised yesterday receive call would get emai...</td>\n",
       "    </tr>\n",
       "    <tr>\n",
       "      <th>4</th>\n",
       "      <td>@VodafoneUK</td>\n",
       "      <td>2019-12-04 07:57:16</td>\n",
       "      <td>@VodafoneUK you send texts about rewards - thi...</td>\n",
       "      <td>promotion</td>\n",
       "      <td>-0.155556</td>\n",
       "      <td>[send, text, reward, morning, lindt, take, app...</td>\n",
       "      <td>send text reward morning lindt take app never ...</td>\n",
       "    </tr>\n",
       "  </tbody>\n",
       "</table>\n",
       "</div>"
      ],
      "text/plain": [
       "       network            datetime  \\\n",
       "0  @VodafoneUK 2019-12-04 08:05:14   \n",
       "1  @VodafoneUK 2019-12-04 08:04:05   \n",
       "2  @VodafoneUK 2019-12-04 08:01:19   \n",
       "3  @VodafoneUK 2019-12-04 07:57:42   \n",
       "4  @VodafoneUK 2019-12-04 07:57:16   \n",
       "\n",
       "                                      original_tweet           subject  \\\n",
       "0  @VodafoneUK Plus £2.28 package &amp; posting !...            device   \n",
       "1  I have repeatedly asked how to get a refund so...  customer service   \n",
       "2  I have supplied visa details twice, I have bee...  customer service   \n",
       "3  @VodafoneIN promised yesterday I’d receive no ...  customer service   \n",
       "4  @VodafoneUK you send texts about rewards - thi...         promotion   \n",
       "\n",
       "   sentiment                           lemmatized_tweets_tokens  \\\n",
       "0   0.000000                    [plus, £2.28, package, posting]   \n",
       "1  -0.300000  [repeatedly, asked, get, refund, use, another,...   \n",
       "2  -0.300000  [supplied, visa, detail, twice, subjected, hor...   \n",
       "3  -0.250000  [promised, yesterday, receive, call, would, ge...   \n",
       "4  -0.155556  [send, text, reward, morning, lindt, take, app...   \n",
       "\n",
       "                            lemmatized_tweets_string  \n",
       "0                         plus £2.28 package posting  \n",
       "1  repeatedly asked get refund use another provid...  \n",
       "2  supplied visa detail twice subjected horrendou...  \n",
       "3  promised yesterday receive call would get emai...  \n",
       "4  send text reward morning lindt take app never ...  "
      ]
     },
     "execution_count": 17,
     "metadata": {},
     "output_type": "execute_result"
    }
   ],
   "source": [
    "df.head()"
   ]
  },
  {
   "cell_type": "code",
   "execution_count": 18,
   "metadata": {},
   "outputs": [],
   "source": [
    "X = df['lemmatized_tweets_string']\n",
    "y = df['subject']"
   ]
  },
  {
   "cell_type": "code",
   "execution_count": 27,
   "metadata": {},
   "outputs": [],
   "source": [
    "X_train, X_test, y_train, y_test = train_test_split(X,y,test_size=0.2, random_state=213)"
   ]
  },
  {
   "cell_type": "markdown",
   "metadata": {},
   "source": [
    "## Vectorize Data"
   ]
  },
  {
   "cell_type": "code",
   "execution_count": 30,
   "metadata": {},
   "outputs": [],
   "source": [
    "vectorizer = TfidfVectorizer()"
   ]
  },
  {
   "cell_type": "code",
   "execution_count": 54,
   "metadata": {},
   "outputs": [],
   "source": [
    "tf_idf_X_train = vectorizer.fit_transform(X_train)"
   ]
  },
  {
   "cell_type": "code",
   "execution_count": 55,
   "metadata": {},
   "outputs": [],
   "source": [
    "tf_idf_X_test = vectorizer.transform(X_test)"
   ]
  },
  {
   "cell_type": "markdown",
   "metadata": {},
   "source": [
    "## Model Data"
   ]
  },
  {
   "cell_type": "code",
   "execution_count": 64,
   "metadata": {},
   "outputs": [],
   "source": [
    "## Function to identify the optimat dataset and parameters for a given classifier and parameter grid\n",
    "def best_model_parameters_dataset(classifier, param_grid, datasets):\n",
    "    \n",
    "    ## Create a list to contain the dataset, optimal parameters, and score for training and test set\n",
    "    score_parameters = []\n",
    "    \n",
    "    ## Create a for loop which iterates through each dataset and identifies the optimal parameters for the given classifier\n",
    "    for data in datasets:\n",
    "        \n",
    "        gs = GridSearchCV(classifier, param_grid, scoring='accuracy', cv=3)\n",
    "        gs.fit(data['X_train'], data['y_train'])\n",
    "        y_test_preds = gs.predict(data['X_test'])\n",
    "        test_score = accuracy_score(y_test_preds, data['y_test'])\n",
    "        score_parameters.append({'Dataset':data['name'], 'Training Score':round(gs.best_score_,2), 'Test Score': round(test_score,2), 'Parameters':gs.best_params_})\n",
    "     \n",
    "    ## Generate a dataframe that contains the optimal parameters for each dataset\n",
    "    df = pd.DataFrame(score_parameters)\n",
    "    df.sort_values(by=['Test Score', 'Training Score'], inplace=True, ascending=False)\n",
    "    \n",
    "    return df"
   ]
  },
  {
   "cell_type": "code",
   "execution_count": 57,
   "metadata": {},
   "outputs": [],
   "source": [
    "datasets = [{'name': 'tf_idf','X_train': tf_idf_X_train, 'y_train':y_train, 'X_test': tf_idf_X_test, 'y_test':y_test}]"
   ]
  },
  {
   "cell_type": "markdown",
   "metadata": {},
   "source": [
    "### K Nearest Neighbours"
   ]
  },
  {
   "cell_type": "code",
   "execution_count": 72,
   "metadata": {},
   "outputs": [],
   "source": [
    "## Specify the classifier, in this case K nearest neighbours\n",
    "knn = KNeighborsClassifier()\n",
    "\n",
    "## Define the parameter grid\n",
    "knn_param_grid = {'n_neighbors':[5,20,40,50,60],\n",
    "              'metric': ['manhattan', 'euclidean','minkowski'],\n",
    "              'weights': ['uniform', 'distance']\n",
    "             }"
   ]
  },
  {
   "cell_type": "code",
   "execution_count": 73,
   "metadata": {},
   "outputs": [
    {
     "data": {
      "text/html": [
       "<div>\n",
       "<style scoped>\n",
       "    .dataframe tbody tr th:only-of-type {\n",
       "        vertical-align: middle;\n",
       "    }\n",
       "\n",
       "    .dataframe tbody tr th {\n",
       "        vertical-align: top;\n",
       "    }\n",
       "\n",
       "    .dataframe thead th {\n",
       "        text-align: right;\n",
       "    }\n",
       "</style>\n",
       "<table border=\"1\" class=\"dataframe\">\n",
       "  <thead>\n",
       "    <tr style=\"text-align: right;\">\n",
       "      <th></th>\n",
       "      <th>Dataset</th>\n",
       "      <th>Parameters</th>\n",
       "      <th>Test Score</th>\n",
       "      <th>Training Score</th>\n",
       "    </tr>\n",
       "  </thead>\n",
       "  <tbody>\n",
       "    <tr>\n",
       "      <th>0</th>\n",
       "      <td>tf_idf</td>\n",
       "      <td>{'metric': 'manhattan', 'n_neighbors': 5, 'wei...</td>\n",
       "      <td>0.44</td>\n",
       "      <td>0.4</td>\n",
       "    </tr>\n",
       "  </tbody>\n",
       "</table>\n",
       "</div>"
      ],
      "text/plain": [
       "  Dataset                                         Parameters  Test Score  \\\n",
       "0  tf_idf  {'metric': 'manhattan', 'n_neighbors': 5, 'wei...        0.44   \n",
       "\n",
       "   Training Score  \n",
       "0             0.4  "
      ]
     },
     "execution_count": 73,
     "metadata": {},
     "output_type": "execute_result"
    }
   ],
   "source": [
    "best_model_parameters_dataset(knn, knn_param_grid, datasets)"
   ]
  },
  {
   "cell_type": "markdown",
   "metadata": {},
   "source": [
    "### Multinomial Naive Bayes Classifier"
   ]
  },
  {
   "cell_type": "code",
   "execution_count": 97,
   "metadata": {},
   "outputs": [],
   "source": [
    "## Specify the classifier, in this case naive bayes\n",
    "nb = MultinomialNB()\n",
    "\n",
    "## Create a parameter grid to identify optimal parameters\n",
    "nb_param_grid = {'alpha':[0.5,0.8,1]}"
   ]
  },
  {
   "cell_type": "code",
   "execution_count": 98,
   "metadata": {},
   "outputs": [
    {
     "data": {
      "text/html": [
       "<div>\n",
       "<style scoped>\n",
       "    .dataframe tbody tr th:only-of-type {\n",
       "        vertical-align: middle;\n",
       "    }\n",
       "\n",
       "    .dataframe tbody tr th {\n",
       "        vertical-align: top;\n",
       "    }\n",
       "\n",
       "    .dataframe thead th {\n",
       "        text-align: right;\n",
       "    }\n",
       "</style>\n",
       "<table border=\"1\" class=\"dataframe\">\n",
       "  <thead>\n",
       "    <tr style=\"text-align: right;\">\n",
       "      <th></th>\n",
       "      <th>Dataset</th>\n",
       "      <th>Parameters</th>\n",
       "      <th>Test Score</th>\n",
       "      <th>Training Score</th>\n",
       "    </tr>\n",
       "  </thead>\n",
       "  <tbody>\n",
       "    <tr>\n",
       "      <th>0</th>\n",
       "      <td>tf_idf</td>\n",
       "      <td>{'alpha': 0.5}</td>\n",
       "      <td>0.66</td>\n",
       "      <td>0.59</td>\n",
       "    </tr>\n",
       "  </tbody>\n",
       "</table>\n",
       "</div>"
      ],
      "text/plain": [
       "  Dataset      Parameters  Test Score  Training Score\n",
       "0  tf_idf  {'alpha': 0.5}        0.66            0.59"
      ]
     },
     "execution_count": 98,
     "metadata": {},
     "output_type": "execute_result"
    }
   ],
   "source": [
    "best_model_parameters_dataset(nb, nb_param_grid, datasets)"
   ]
  },
  {
   "cell_type": "markdown",
   "metadata": {},
   "source": [
    "### Multinomial Logistic Regression"
   ]
  },
  {
   "cell_type": "code",
   "execution_count": 83,
   "metadata": {},
   "outputs": [],
   "source": [
    "## Specify the classifier, in this case LogisticRegression()\n",
    "logreg = LogisticRegression(random_state=55, max_iter=15000, multi_class='multinomial')\n",
    "\n",
    "## Create a parameter grid to identify optimal parameters\n",
    "logreg_param_grid = {'C':[1,2,10],\n",
    "                     'class_weight': ['balanced', None],\n",
    "                     'solver':['newton-cg', 'sag', 'saga','lbfgs']}"
   ]
  },
  {
   "cell_type": "code",
   "execution_count": 84,
   "metadata": {},
   "outputs": [
    {
     "name": "stderr",
     "output_type": "stream",
     "text": [
      "/Users/isobeldaley/anaconda3/lib/python3.7/site-packages/sklearn/linear_model/sag.py:337: ConvergenceWarning: The max_iter was reached which means the coef_ did not converge\n",
      "  \"the coef_ did not converge\", ConvergenceWarning)\n",
      "/Users/isobeldaley/anaconda3/lib/python3.7/site-packages/sklearn/linear_model/sag.py:337: ConvergenceWarning: The max_iter was reached which means the coef_ did not converge\n",
      "  \"the coef_ did not converge\", ConvergenceWarning)\n",
      "/Users/isobeldaley/anaconda3/lib/python3.7/site-packages/sklearn/linear_model/sag.py:337: ConvergenceWarning: The max_iter was reached which means the coef_ did not converge\n",
      "  \"the coef_ did not converge\", ConvergenceWarning)\n"
     ]
    },
    {
     "data": {
      "text/html": [
       "<div>\n",
       "<style scoped>\n",
       "    .dataframe tbody tr th:only-of-type {\n",
       "        vertical-align: middle;\n",
       "    }\n",
       "\n",
       "    .dataframe tbody tr th {\n",
       "        vertical-align: top;\n",
       "    }\n",
       "\n",
       "    .dataframe thead th {\n",
       "        text-align: right;\n",
       "    }\n",
       "</style>\n",
       "<table border=\"1\" class=\"dataframe\">\n",
       "  <thead>\n",
       "    <tr style=\"text-align: right;\">\n",
       "      <th></th>\n",
       "      <th>Dataset</th>\n",
       "      <th>Parameters</th>\n",
       "      <th>Test Score</th>\n",
       "      <th>Training Score</th>\n",
       "    </tr>\n",
       "  </thead>\n",
       "  <tbody>\n",
       "    <tr>\n",
       "      <th>0</th>\n",
       "      <td>tf_idf</td>\n",
       "      <td>{'C': 2, 'class_weight': 'balanced', 'solver':...</td>\n",
       "      <td>0.76</td>\n",
       "      <td>0.71</td>\n",
       "    </tr>\n",
       "  </tbody>\n",
       "</table>\n",
       "</div>"
      ],
      "text/plain": [
       "  Dataset                                         Parameters  Test Score  \\\n",
       "0  tf_idf  {'C': 2, 'class_weight': 'balanced', 'solver':...        0.76   \n",
       "\n",
       "   Training Score  \n",
       "0            0.71  "
      ]
     },
     "execution_count": 84,
     "metadata": {},
     "output_type": "execute_result"
    }
   ],
   "source": [
    "best_model_parameters_dataset(logreg, logreg_param_grid, datasets)"
   ]
  },
  {
   "cell_type": "markdown",
   "metadata": {},
   "source": [
    "### Random Forest"
   ]
  },
  {
   "cell_type": "code",
   "execution_count": 86,
   "metadata": {},
   "outputs": [],
   "source": [
    "## Define the classifier to be used, in this case RandomForestClassifier(), specify a random_state\n",
    "## so that the results are reproducible\n",
    "forest = RandomForestClassifier(random_state=55)\n",
    "\n",
    "## Specify the parameter grid to be assessed\n",
    "forest_param_grid = {'n_estimators': [4,10,50,75,150],\n",
    "                    'criterion': ['gini', 'entropy'],\n",
    "                  'max_depth':[None, 5, 10, 15],\n",
    "                  'class_weight': ['balanced', None],\n",
    "                  'bootstrap': [True, False]\n",
    "             }"
   ]
  },
  {
   "cell_type": "code",
   "execution_count": 87,
   "metadata": {},
   "outputs": [
    {
     "data": {
      "text/html": [
       "<div>\n",
       "<style scoped>\n",
       "    .dataframe tbody tr th:only-of-type {\n",
       "        vertical-align: middle;\n",
       "    }\n",
       "\n",
       "    .dataframe tbody tr th {\n",
       "        vertical-align: top;\n",
       "    }\n",
       "\n",
       "    .dataframe thead th {\n",
       "        text-align: right;\n",
       "    }\n",
       "</style>\n",
       "<table border=\"1\" class=\"dataframe\">\n",
       "  <thead>\n",
       "    <tr style=\"text-align: right;\">\n",
       "      <th></th>\n",
       "      <th>Dataset</th>\n",
       "      <th>Parameters</th>\n",
       "      <th>Test Score</th>\n",
       "      <th>Training Score</th>\n",
       "    </tr>\n",
       "  </thead>\n",
       "  <tbody>\n",
       "    <tr>\n",
       "      <th>0</th>\n",
       "      <td>tf_idf</td>\n",
       "      <td>{'bootstrap': False, 'class_weight': 'balanced...</td>\n",
       "      <td>0.75</td>\n",
       "      <td>0.68</td>\n",
       "    </tr>\n",
       "  </tbody>\n",
       "</table>\n",
       "</div>"
      ],
      "text/plain": [
       "  Dataset                                         Parameters  Test Score  \\\n",
       "0  tf_idf  {'bootstrap': False, 'class_weight': 'balanced...        0.75   \n",
       "\n",
       "   Training Score  \n",
       "0            0.68  "
      ]
     },
     "execution_count": 87,
     "metadata": {},
     "output_type": "execute_result"
    }
   ],
   "source": [
    "best_model_parameters_dataset(forest, forest_param_grid, datasets)"
   ]
  },
  {
   "cell_type": "markdown",
   "metadata": {},
   "source": [
    "### Support Vector Machine"
   ]
  },
  {
   "cell_type": "code",
   "execution_count": 88,
   "metadata": {},
   "outputs": [],
   "source": [
    "## Specify the classification model, in this case a support vector machine\n",
    "svm = SVC(gamma='auto', random_state=55)\n",
    "\n",
    "## Specify the parameter grid to be used during the GridSearchCV\n",
    "svm_param_grid = {'C':[1,5,10],\n",
    "                'class_weight':['balanced', None]}"
   ]
  },
  {
   "cell_type": "code",
   "execution_count": 90,
   "metadata": {},
   "outputs": [
    {
     "data": {
      "text/html": [
       "<div>\n",
       "<style scoped>\n",
       "    .dataframe tbody tr th:only-of-type {\n",
       "        vertical-align: middle;\n",
       "    }\n",
       "\n",
       "    .dataframe tbody tr th {\n",
       "        vertical-align: top;\n",
       "    }\n",
       "\n",
       "    .dataframe thead th {\n",
       "        text-align: right;\n",
       "    }\n",
       "</style>\n",
       "<table border=\"1\" class=\"dataframe\">\n",
       "  <thead>\n",
       "    <tr style=\"text-align: right;\">\n",
       "      <th></th>\n",
       "      <th>Dataset</th>\n",
       "      <th>Parameters</th>\n",
       "      <th>Test Score</th>\n",
       "      <th>Training Score</th>\n",
       "    </tr>\n",
       "  </thead>\n",
       "  <tbody>\n",
       "    <tr>\n",
       "      <th>0</th>\n",
       "      <td>tf_idf</td>\n",
       "      <td>{'C': 1, 'class_weight': None}</td>\n",
       "      <td>0.4</td>\n",
       "      <td>0.37</td>\n",
       "    </tr>\n",
       "  </tbody>\n",
       "</table>\n",
       "</div>"
      ],
      "text/plain": [
       "  Dataset                      Parameters  Test Score  Training Score\n",
       "0  tf_idf  {'C': 1, 'class_weight': None}         0.4            0.37"
      ]
     },
     "execution_count": 90,
     "metadata": {},
     "output_type": "execute_result"
    }
   ],
   "source": [
    "best_model_parameters_dataset(svm, svm_param_grid, datasets)"
   ]
  },
  {
   "cell_type": "markdown",
   "metadata": {},
   "source": [
    "### XG Boost"
   ]
  },
  {
   "cell_type": "code",
   "execution_count": 101,
   "metadata": {},
   "outputs": [
    {
     "data": {
      "text/plain": [
       "XGBClassifier(base_score=0.5, booster='gbtree', colsample_bylevel=1,\n",
       "              colsample_bynode=1, colsample_bytree=1, gamma=0,\n",
       "              learning_rate=0.1, max_delta_step=0, max_depth=3,\n",
       "              min_child_weight=1, missing=None, n_estimators=100, n_jobs=1,\n",
       "              nthread=None, objective='multi:softprob', random_state=0,\n",
       "              reg_alpha=0, reg_lambda=1, scale_pos_weight=1, seed=None,\n",
       "              silent=None, subsample=1, verbosity=1)"
      ]
     },
     "execution_count": 101,
     "metadata": {},
     "output_type": "execute_result"
    }
   ],
   "source": [
    "## Specify the classifier, in this case XG Boost\n",
    "boost = xgb.XGBClassifier()\n",
    "\n",
    "## Fit the model using the training data\n",
    "boost.fit(tf_idf_X_train, y_train)"
   ]
  },
  {
   "cell_type": "code",
   "execution_count": 103,
   "metadata": {},
   "outputs": [],
   "source": [
    "## Create predictions for the training and test datasets\n",
    "boost_preds_train = boost.predict(tf_idf_X_train)\n",
    "boost_preds_test = boost.predict(tf_idf_X_test)"
   ]
  },
  {
   "cell_type": "code",
   "execution_count": 104,
   "metadata": {},
   "outputs": [
    {
     "data": {
      "text/plain": [
       "0.7803149606299212"
      ]
     },
     "execution_count": 104,
     "metadata": {},
     "output_type": "execute_result"
    }
   ],
   "source": [
    "accuracy_score(y_train, boost_preds_train)"
   ]
  },
  {
   "cell_type": "code",
   "execution_count": 105,
   "metadata": {},
   "outputs": [
    {
     "data": {
      "text/plain": [
       "0.6992125984251969"
      ]
     },
     "execution_count": 105,
     "metadata": {},
     "output_type": "execute_result"
    }
   ],
   "source": [
    "accuracy_score(y_test, boost_preds_test)"
   ]
  },
  {
   "cell_type": "markdown",
   "metadata": {},
   "source": [
    "### Neural Network"
   ]
  },
  {
   "cell_type": "code",
   "execution_count": 108,
   "metadata": {},
   "outputs": [
    {
     "data": {
      "text/plain": [
       "(2540, 4589)"
      ]
     },
     "execution_count": 108,
     "metadata": {},
     "output_type": "execute_result"
    }
   ],
   "source": [
    "tf_idf_X_train.shape"
   ]
  },
  {
   "cell_type": "code",
   "execution_count": 126,
   "metadata": {},
   "outputs": [],
   "source": [
    "from sklearn.preprocessing import LabelEncoder\n",
    "from keras.utils.np_utils import to_categorical\n",
    "from keras.preprocessing.text import Tokenizer"
   ]
  },
  {
   "cell_type": "code",
   "execution_count": 146,
   "metadata": {},
   "outputs": [],
   "source": [
    "le = LabelEncoder()"
   ]
  },
  {
   "cell_type": "code",
   "execution_count": 149,
   "metadata": {},
   "outputs": [],
   "source": [
    "le.fit(df['subject'])\n",
    "tweet_category = le.transform(df['subject'])"
   ]
  },
  {
   "cell_type": "code",
   "execution_count": 150,
   "metadata": {},
   "outputs": [
    {
     "data": {
      "text/plain": [
       "array([3, 2, 2, ..., 6, 6, 4])"
      ]
     },
     "execution_count": 150,
     "metadata": {},
     "output_type": "execute_result"
    }
   ],
   "source": [
    "tweet_category"
   ]
  },
  {
   "cell_type": "code",
   "execution_count": 151,
   "metadata": {},
   "outputs": [],
   "source": [
    "tweet_onehot = to_categorical(tweet_category)"
   ]
  },
  {
   "cell_type": "code",
   "execution_count": 152,
   "metadata": {},
   "outputs": [
    {
     "data": {
      "text/plain": [
       "(3175, 7)"
      ]
     },
     "execution_count": 152,
     "metadata": {},
     "output_type": "execute_result"
    }
   ],
   "source": [
    "tweet_onehot.shape"
   ]
  },
  {
   "cell_type": "code",
   "execution_count": 154,
   "metadata": {},
   "outputs": [],
   "source": [
    "tweets = df['lemmatized_tweets_string']"
   ]
  },
  {
   "cell_type": "code",
   "execution_count": 155,
   "metadata": {},
   "outputs": [],
   "source": [
    "tokenizer = Tokenizer(num_words=2000)\n",
    "tokenizer.fit_on_texts(tweets)"
   ]
  },
  {
   "cell_type": "code",
   "execution_count": 156,
   "metadata": {},
   "outputs": [],
   "source": [
    "tokenized_X_train = tokenizer.texts_to_matrix(tweets,mode='binary')"
   ]
  },
  {
   "cell_type": "code",
   "execution_count": 157,
   "metadata": {},
   "outputs": [
    {
     "data": {
      "text/plain": [
       "(3175, 2000)"
      ]
     },
     "execution_count": 157,
     "metadata": {},
     "output_type": "execute_result"
    }
   ],
   "source": [
    "tokenized_X_train.shape"
   ]
  },
  {
   "cell_type": "code",
   "execution_count": 158,
   "metadata": {},
   "outputs": [],
   "source": [
    "model = models.Sequential()"
   ]
  },
  {
   "cell_type": "code",
   "execution_count": 159,
   "metadata": {},
   "outputs": [],
   "source": [
    "model.add(layers.Dense(50, activation='relu', input_shape=(2000,))) #2 hidden layers\n",
    "model.add(layers.Dense(25, activation='relu'))\n",
    "model.add(layers.Dense(7, activation='softmax'))"
   ]
  },
  {
   "cell_type": "code",
   "execution_count": 160,
   "metadata": {},
   "outputs": [],
   "source": [
    "model.compile(optimizer='SGD',\n",
    "              loss='categorical_crossentropy',\n",
    "              metrics=['accuracy'])"
   ]
  },
  {
   "cell_type": "code",
   "execution_count": 161,
   "metadata": {},
   "outputs": [
    {
     "name": "stdout",
     "output_type": "stream",
     "text": [
      "Epoch 1/120\n",
      "3175/3175 [==============================] - 0s 47us/step - loss: 1.9548 - accuracy: 0.1332\n",
      "Epoch 2/120\n",
      "3175/3175 [==============================] - 0s 21us/step - loss: 1.9393 - accuracy: 0.2381\n",
      "Epoch 3/120\n",
      "3175/3175 [==============================] - 0s 22us/step - loss: 1.9249 - accuracy: 0.3165\n",
      "Epoch 4/120\n",
      "3175/3175 [==============================] - 0s 21us/step - loss: 1.9113 - accuracy: 0.3613\n",
      "Epoch 5/120\n",
      "3175/3175 [==============================] - 0s 21us/step - loss: 1.8984 - accuracy: 0.3814\n",
      "Epoch 6/120\n",
      "3175/3175 [==============================] - 0s 21us/step - loss: 1.8862 - accuracy: 0.3887\n",
      "Epoch 7/120\n",
      "3175/3175 [==============================] - 0s 20us/step - loss: 1.8744 - accuracy: 0.3846\n",
      "Epoch 8/120\n",
      "3175/3175 [==============================] - 0s 21us/step - loss: 1.8634 - accuracy: 0.3820\n",
      "Epoch 9/120\n",
      "3175/3175 [==============================] - 0s 21us/step - loss: 1.8529 - accuracy: 0.3761\n",
      "Epoch 10/120\n",
      "3175/3175 [==============================] - 0s 21us/step - loss: 1.8429 - accuracy: 0.3748\n",
      "Epoch 11/120\n",
      "3175/3175 [==============================] - 0s 21us/step - loss: 1.8333 - accuracy: 0.3748\n",
      "Epoch 12/120\n",
      "3175/3175 [==============================] - 0s 22us/step - loss: 1.8243 - accuracy: 0.3729\n",
      "Epoch 13/120\n",
      "3175/3175 [==============================] - 0s 22us/step - loss: 1.8157 - accuracy: 0.3726\n",
      "Epoch 14/120\n",
      "3175/3175 [==============================] - 0s 22us/step - loss: 1.8075 - accuracy: 0.3726\n",
      "Epoch 15/120\n",
      "3175/3175 [==============================] - 0s 21us/step - loss: 1.7997 - accuracy: 0.3726\n",
      "Epoch 16/120\n",
      "3175/3175 [==============================] - 0s 21us/step - loss: 1.7920 - accuracy: 0.3726\n",
      "Epoch 17/120\n",
      "3175/3175 [==============================] - 0s 21us/step - loss: 1.7846 - accuracy: 0.3726\n",
      "Epoch 18/120\n",
      "3175/3175 [==============================] - 0s 21us/step - loss: 1.7776 - accuracy: 0.3726\n",
      "Epoch 19/120\n",
      "3175/3175 [==============================] - 0s 21us/step - loss: 1.7709 - accuracy: 0.3726\n",
      "Epoch 20/120\n",
      "3175/3175 [==============================] - 0s 21us/step - loss: 1.7646 - accuracy: 0.3726\n",
      "Epoch 21/120\n",
      "3175/3175 [==============================] - 0s 21us/step - loss: 1.7586 - accuracy: 0.3726\n",
      "Epoch 22/120\n",
      "3175/3175 [==============================] - 0s 21us/step - loss: 1.7528 - accuracy: 0.3726\n",
      "Epoch 23/120\n",
      "3175/3175 [==============================] - 0s 21us/step - loss: 1.7472 - accuracy: 0.3726\n",
      "Epoch 24/120\n",
      "3175/3175 [==============================] - 0s 21us/step - loss: 1.7419 - accuracy: 0.3726\n",
      "Epoch 25/120\n",
      "3175/3175 [==============================] - 0s 22us/step - loss: 1.7368 - accuracy: 0.3726\n",
      "Epoch 26/120\n",
      "3175/3175 [==============================] - 0s 21us/step - loss: 1.7319 - accuracy: 0.3726\n",
      "Epoch 27/120\n",
      "3175/3175 [==============================] - 0s 21us/step - loss: 1.7272 - accuracy: 0.3726\n",
      "Epoch 28/120\n",
      "3175/3175 [==============================] - 0s 22us/step - loss: 1.7226 - accuracy: 0.3726\n",
      "Epoch 29/120\n",
      "3175/3175 [==============================] - 0s 22us/step - loss: 1.7181 - accuracy: 0.3726\n",
      "Epoch 30/120\n",
      "3175/3175 [==============================] - 0s 21us/step - loss: 1.7140 - accuracy: 0.3726\n",
      "Epoch 31/120\n",
      "3175/3175 [==============================] - 0s 22us/step - loss: 1.7098 - accuracy: 0.3726\n",
      "Epoch 32/120\n",
      "3175/3175 [==============================] - 0s 21us/step - loss: 1.7059 - accuracy: 0.3726\n",
      "Epoch 33/120\n",
      "3175/3175 [==============================] - 0s 21us/step - loss: 1.7020 - accuracy: 0.3726\n",
      "Epoch 34/120\n",
      "3175/3175 [==============================] - 0s 23us/step - loss: 1.6981 - accuracy: 0.3726\n",
      "Epoch 35/120\n",
      "3175/3175 [==============================] - 0s 23us/step - loss: 1.6944 - accuracy: 0.3729\n",
      "Epoch 36/120\n",
      "3175/3175 [==============================] - 0s 22us/step - loss: 1.6907 - accuracy: 0.3729\n",
      "Epoch 37/120\n",
      "3175/3175 [==============================] - 0s 21us/step - loss: 1.6872 - accuracy: 0.3729\n",
      "Epoch 38/120\n",
      "3175/3175 [==============================] - 0s 21us/step - loss: 1.6837 - accuracy: 0.3732\n",
      "Epoch 39/120\n",
      "3175/3175 [==============================] - 0s 22us/step - loss: 1.6801 - accuracy: 0.3732\n",
      "Epoch 40/120\n",
      "3175/3175 [==============================] - 0s 23us/step - loss: 1.6766 - accuracy: 0.3735\n",
      "Epoch 41/120\n",
      "3175/3175 [==============================] - 0s 22us/step - loss: 1.6731 - accuracy: 0.3735\n",
      "Epoch 42/120\n",
      "3175/3175 [==============================] - 0s 21us/step - loss: 1.6695 - accuracy: 0.3742\n",
      "Epoch 43/120\n",
      "3175/3175 [==============================] - 0s 21us/step - loss: 1.6659 - accuracy: 0.3745\n",
      "Epoch 44/120\n",
      "3175/3175 [==============================] - 0s 21us/step - loss: 1.6624 - accuracy: 0.3754\n",
      "Epoch 45/120\n",
      "3175/3175 [==============================] - 0s 21us/step - loss: 1.6587 - accuracy: 0.3764\n",
      "Epoch 46/120\n",
      "3175/3175 [==============================] - 0s 21us/step - loss: 1.6551 - accuracy: 0.3776\n",
      "Epoch 47/120\n",
      "3175/3175 [==============================] - 0s 22us/step - loss: 1.6515 - accuracy: 0.3783\n",
      "Epoch 48/120\n",
      "3175/3175 [==============================] - 0s 21us/step - loss: 1.6477 - accuracy: 0.3798\n",
      "Epoch 49/120\n",
      "3175/3175 [==============================] - 0s 21us/step - loss: 1.6440 - accuracy: 0.3811\n",
      "Epoch 50/120\n",
      "3175/3175 [==============================] - 0s 21us/step - loss: 1.6403 - accuracy: 0.3833\n",
      "Epoch 51/120\n",
      "3175/3175 [==============================] - 0s 21us/step - loss: 1.6365 - accuracy: 0.3861\n",
      "Epoch 52/120\n",
      "3175/3175 [==============================] - 0s 20us/step - loss: 1.6327 - accuracy: 0.3887\n",
      "Epoch 53/120\n",
      "3175/3175 [==============================] - 0s 21us/step - loss: 1.6288 - accuracy: 0.3912\n",
      "Epoch 54/120\n",
      "3175/3175 [==============================] - 0s 21us/step - loss: 1.6248 - accuracy: 0.3953\n",
      "Epoch 55/120\n",
      "3175/3175 [==============================] - 0s 22us/step - loss: 1.6208 - accuracy: 0.3975\n",
      "Epoch 56/120\n",
      "3175/3175 [==============================] - 0s 21us/step - loss: 1.6167 - accuracy: 0.4031\n",
      "Epoch 57/120\n",
      "3175/3175 [==============================] - 0s 21us/step - loss: 1.6126 - accuracy: 0.4079\n",
      "Epoch 58/120\n",
      "3175/3175 [==============================] - 0s 21us/step - loss: 1.6085 - accuracy: 0.4104\n",
      "Epoch 59/120\n",
      "3175/3175 [==============================] - 0s 20us/step - loss: 1.6043 - accuracy: 0.4142\n",
      "Epoch 60/120\n",
      "3175/3175 [==============================] - 0s 20us/step - loss: 1.6001 - accuracy: 0.4161\n",
      "Epoch 61/120\n",
      "3175/3175 [==============================] - 0s 21us/step - loss: 1.5959 - accuracy: 0.4198\n",
      "Epoch 62/120\n",
      "3175/3175 [==============================] - 0s 21us/step - loss: 1.5915 - accuracy: 0.4202\n",
      "Epoch 63/120\n",
      "3175/3175 [==============================] - 0s 21us/step - loss: 1.5872 - accuracy: 0.4239\n",
      "Epoch 64/120\n",
      "3175/3175 [==============================] - 0s 20us/step - loss: 1.5830 - accuracy: 0.4261\n",
      "Epoch 65/120\n",
      "3175/3175 [==============================] - 0s 21us/step - loss: 1.5785 - accuracy: 0.4321\n",
      "Epoch 66/120\n",
      "3175/3175 [==============================] - 0s 20us/step - loss: 1.5742 - accuracy: 0.4362\n",
      "Epoch 67/120\n",
      "3175/3175 [==============================] - 0s 22us/step - loss: 1.5697 - accuracy: 0.4375\n",
      "Epoch 68/120\n",
      "3175/3175 [==============================] - 0s 22us/step - loss: 1.5653 - accuracy: 0.4409\n",
      "Epoch 69/120\n",
      "3175/3175 [==============================] - 0s 21us/step - loss: 1.5607 - accuracy: 0.4435\n",
      "Epoch 70/120\n",
      "3175/3175 [==============================] - 0s 20us/step - loss: 1.5561 - accuracy: 0.4454\n",
      "Epoch 71/120\n",
      "3175/3175 [==============================] - 0s 20us/step - loss: 1.5515 - accuracy: 0.4482\n",
      "Epoch 72/120\n",
      "3175/3175 [==============================] - 0s 20us/step - loss: 1.5469 - accuracy: 0.4513\n",
      "Epoch 73/120\n",
      "3175/3175 [==============================] - 0s 20us/step - loss: 1.5422 - accuracy: 0.4564\n",
      "Epoch 74/120\n",
      "3175/3175 [==============================] - 0s 20us/step - loss: 1.5374 - accuracy: 0.4589\n",
      "Epoch 75/120\n",
      "3175/3175 [==============================] - 0s 21us/step - loss: 1.5327 - accuracy: 0.4611\n",
      "Epoch 76/120\n",
      "3175/3175 [==============================] - 0s 21us/step - loss: 1.5278 - accuracy: 0.4624\n",
      "Epoch 77/120\n",
      "3175/3175 [==============================] - 0s 20us/step - loss: 1.5229 - accuracy: 0.4652\n",
      "Epoch 78/120\n",
      "3175/3175 [==============================] - 0s 21us/step - loss: 1.5180 - accuracy: 0.4671\n",
      "Epoch 79/120\n"
     ]
    },
    {
     "name": "stdout",
     "output_type": "stream",
     "text": [
      "3175/3175 [==============================] - 0s 20us/step - loss: 1.5131 - accuracy: 0.4668\n",
      "Epoch 80/120\n",
      "3175/3175 [==============================] - 0s 20us/step - loss: 1.5081 - accuracy: 0.4674\n",
      "Epoch 81/120\n",
      "3175/3175 [==============================] - 0s 20us/step - loss: 1.5031 - accuracy: 0.4706\n",
      "Epoch 82/120\n",
      "3175/3175 [==============================] - 0s 20us/step - loss: 1.4981 - accuracy: 0.4731\n",
      "Epoch 83/120\n",
      "3175/3175 [==============================] - 0s 21us/step - loss: 1.4930 - accuracy: 0.4772\n",
      "Epoch 84/120\n",
      "3175/3175 [==============================] - 0s 20us/step - loss: 1.4880 - accuracy: 0.4784\n",
      "Epoch 85/120\n",
      "3175/3175 [==============================] - 0s 20us/step - loss: 1.4829 - accuracy: 0.4787\n",
      "Epoch 86/120\n",
      "3175/3175 [==============================] - 0s 20us/step - loss: 1.4778 - accuracy: 0.4803\n",
      "Epoch 87/120\n",
      "3175/3175 [==============================] - 0s 20us/step - loss: 1.4727 - accuracy: 0.4819\n",
      "Epoch 88/120\n",
      "3175/3175 [==============================] - 0s 20us/step - loss: 1.4675 - accuracy: 0.4838\n",
      "Epoch 89/120\n",
      "3175/3175 [==============================] - 0s 20us/step - loss: 1.4623 - accuracy: 0.4863\n",
      "Epoch 90/120\n",
      "3175/3175 [==============================] - 0s 20us/step - loss: 1.4571 - accuracy: 0.4891\n",
      "Epoch 91/120\n",
      "3175/3175 [==============================] - 0s 20us/step - loss: 1.4520 - accuracy: 0.4885\n",
      "Epoch 92/120\n",
      "3175/3175 [==============================] - 0s 20us/step - loss: 1.4468 - accuracy: 0.4901\n",
      "Epoch 93/120\n",
      "3175/3175 [==============================] - 0s 20us/step - loss: 1.4416 - accuracy: 0.4904\n",
      "Epoch 94/120\n",
      "3175/3175 [==============================] - 0s 19us/step - loss: 1.4364 - accuracy: 0.4923\n",
      "Epoch 95/120\n",
      "3175/3175 [==============================] - 0s 19us/step - loss: 1.4312 - accuracy: 0.4942\n",
      "Epoch 96/120\n",
      "3175/3175 [==============================] - 0s 19us/step - loss: 1.4260 - accuracy: 0.4970\n",
      "Epoch 97/120\n",
      "3175/3175 [==============================] - 0s 20us/step - loss: 1.4207 - accuracy: 0.4989\n",
      "Epoch 98/120\n",
      "3175/3175 [==============================] - 0s 20us/step - loss: 1.4155 - accuracy: 0.4992\n",
      "Epoch 99/120\n",
      "3175/3175 [==============================] - 0s 20us/step - loss: 1.4102 - accuracy: 0.4995\n",
      "Epoch 100/120\n",
      "3175/3175 [==============================] - 0s 20us/step - loss: 1.4050 - accuracy: 0.5002\n",
      "Epoch 101/120\n",
      "3175/3175 [==============================] - 0s 20us/step - loss: 1.3998 - accuracy: 0.5030\n",
      "Epoch 102/120\n",
      "3175/3175 [==============================] - 0s 19us/step - loss: 1.3945 - accuracy: 0.5039\n",
      "Epoch 103/120\n",
      "3175/3175 [==============================] - 0s 19us/step - loss: 1.3893 - accuracy: 0.5068\n",
      "Epoch 104/120\n",
      "3175/3175 [==============================] - 0s 20us/step - loss: 1.3840 - accuracy: 0.5090\n",
      "Epoch 105/120\n",
      "3175/3175 [==============================] - 0s 19us/step - loss: 1.3788 - accuracy: 0.5096\n",
      "Epoch 106/120\n",
      "3175/3175 [==============================] - 0s 20us/step - loss: 1.3736 - accuracy: 0.5121\n",
      "Epoch 107/120\n",
      "3175/3175 [==============================] - 0s 20us/step - loss: 1.3684 - accuracy: 0.5131\n",
      "Epoch 108/120\n",
      "3175/3175 [==============================] - 0s 20us/step - loss: 1.3633 - accuracy: 0.5156\n",
      "Epoch 109/120\n",
      "3175/3175 [==============================] - 0s 20us/step - loss: 1.3581 - accuracy: 0.5178\n",
      "Epoch 110/120\n",
      "3175/3175 [==============================] - 0s 20us/step - loss: 1.3528 - accuracy: 0.5222\n",
      "Epoch 111/120\n",
      "3175/3175 [==============================] - 0s 19us/step - loss: 1.3476 - accuracy: 0.5241\n",
      "Epoch 112/120\n",
      "3175/3175 [==============================] - 0s 20us/step - loss: 1.3425 - accuracy: 0.5260\n",
      "Epoch 113/120\n",
      "3175/3175 [==============================] - 0s 20us/step - loss: 1.3374 - accuracy: 0.5266\n",
      "Epoch 114/120\n",
      "3175/3175 [==============================] - 0s 19us/step - loss: 1.3323 - accuracy: 0.5282\n",
      "Epoch 115/120\n",
      "3175/3175 [==============================] - 0s 20us/step - loss: 1.3272 - accuracy: 0.5310\n",
      "Epoch 116/120\n",
      "3175/3175 [==============================] - 0s 19us/step - loss: 1.3221 - accuracy: 0.5351\n",
      "Epoch 117/120\n",
      "3175/3175 [==============================] - 0s 20us/step - loss: 1.3171 - accuracy: 0.5376\n",
      "Epoch 118/120\n",
      "3175/3175 [==============================] - 0s 19us/step - loss: 1.3121 - accuracy: 0.5383\n",
      "Epoch 119/120\n",
      "3175/3175 [==============================] - 0s 20us/step - loss: 1.3070 - accuracy: 0.5402\n",
      "Epoch 120/120\n",
      "3175/3175 [==============================] - 0s 20us/step - loss: 1.3020 - accuracy: 0.5430\n"
     ]
    }
   ],
   "source": [
    "history = model.fit(tokenized_X_train,\n",
    "                    tweet_onehot,\n",
    "                    epochs=120,\n",
    "                    batch_size=256)"
   ]
  },
  {
   "cell_type": "code",
   "execution_count": null,
   "metadata": {},
   "outputs": [],
   "source": []
  }
 ],
 "metadata": {
  "kernelspec": {
   "display_name": "Python 3",
   "language": "python",
   "name": "python3"
  },
  "language_info": {
   "codemirror_mode": {
    "name": "ipython",
    "version": 3
   },
   "file_extension": ".py",
   "mimetype": "text/x-python",
   "name": "python",
   "nbconvert_exporter": "python",
   "pygments_lexer": "ipython3",
   "version": "3.7.3"
  }
 },
 "nbformat": 4,
 "nbformat_minor": 2
}
