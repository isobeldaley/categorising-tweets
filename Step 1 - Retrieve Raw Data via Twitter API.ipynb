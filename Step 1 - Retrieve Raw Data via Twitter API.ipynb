{
 "cells": [
  {
   "cell_type": "markdown",
   "metadata": {},
   "source": [
    "## Import Libraries"
   ]
  },
  {
   "cell_type": "code",
   "execution_count": 50,
   "metadata": {},
   "outputs": [],
   "source": [
    "## json required . to import user credentials\n",
    "import json\n",
    "\n",
    "## Tweepy required to interact with Twitter API\n",
    "import tweepy\n",
    "\n",
    "\n",
    "## Pandas required to manipulate data into user-friendly data structure\n",
    "import pandas as pd"
   ]
  },
  {
   "cell_type": "markdown",
   "metadata": {},
   "source": [
    "## Set Pandas Display Options"
   ]
  },
  {
   "cell_type": "code",
   "execution_count": 69,
   "metadata": {},
   "outputs": [],
   "source": [
    "## Set width of pandas dataframe to ensure entire Tweet is displayed\n",
    "pd.set_option('display.max_colwidth', 3000)"
   ]
  },
  {
   "cell_type": "markdown",
   "metadata": {},
   "source": [
    "## Retrieve API User Credentials"
   ]
  },
  {
   "cell_type": "code",
   "execution_count": 52,
   "metadata": {},
   "outputs": [],
   "source": [
    "## Create function to open secret file containing API user credentials\n",
    "def get_keys(path):\n",
    "    with open(path) as f:\n",
    "        return json.load(f)"
   ]
  },
  {
   "cell_type": "code",
   "execution_count": 53,
   "metadata": {},
   "outputs": [],
   "source": [
    "## Store user credentials in named variables\n",
    "consumer_key = get_keys(\"/Users/isobeldaley/.secret/twitter_api.json\")['consumer_key']\n",
    "consumer_secret = get_keys(\"/Users/isobeldaley/.secret/twitter_api.json\")['consumer_secret']\n",
    "access_token = get_keys(\"/Users/isobeldaley/.secret/twitter_api.json\")['access_token']\n",
    "access_secret = get_keys(\"/Users/isobeldaley/.secret/twitter_api.json\")['access_secret']"
   ]
  },
  {
   "cell_type": "code",
   "execution_count": 54,
   "metadata": {},
   "outputs": [],
   "source": [
    "## Provide Twitter API with credentials\n",
    "auth = tweepy.OAuthHandler(consumer_key, consumer_secret)\n",
    "auth.set_access_token(access_token, access_secret)\n",
    "\n",
    "## Set wait_on_rate_limit to True to force queries to wait until rate limit has been replenished\n",
    "api = tweepy.API(auth, wait_on_rate_limit=True)"
   ]
  },
  {
   "cell_type": "markdown",
   "metadata": {},
   "source": [
    "## Use Tweepy to Retrieve Tweets to Major UK Mobile Networks"
   ]
  },
  {
   "cell_type": "code",
   "execution_count": 56,
   "metadata": {},
   "outputs": [],
   "source": [
    "## List of mobile networks for which tweets will be retrieved\n",
    "networks = ['@VodafoneUK','@EE','@ThreeUK','@O2']"
   ]
  },
  {
   "cell_type": "code",
   "execution_count": 93,
   "metadata": {},
   "outputs": [],
   "source": [
    "## Create empty list to contain tweets retrieved\n",
    "list_of_tweets = []\n",
    "\n",
    "\n",
    "## For loop to iterate through each mobile network for which tweets are to be retrieved\n",
    "for network in networks:\n",
    "    \n",
    "    ## Create a cursor object that will automatically paginate through each search result \n",
    "    result = tweepy.Cursor(api.search, q=network, tweet_mode='extended')\n",
    "    \n",
    "    ## Retrieve the most recent tweets for each mobile network and add to list_of_tweets\n",
    "    for tweet in result.items(10000):\n",
    "        \n",
    "        dict_ = {'Mobile Network':network,\n",
    "                'Tweet Created At': tweet.created_at,\n",
    "                'Tweet Text': tweet.full_text,\n",
    "                }\n",
    "        list_of_tweets.append(dict_) \n",
    "        "
   ]
  },
  {
   "cell_type": "code",
   "execution_count": 94,
   "metadata": {},
   "outputs": [],
   "source": [
    "## Manipulate tweets into a DataFrame\n",
    "df = pd.DataFrame(list_of_tweets)"
   ]
  },
  {
   "cell_type": "code",
   "execution_count": 98,
   "metadata": {},
   "outputs": [
    {
     "data": {
      "text/html": [
       "<div>\n",
       "<style scoped>\n",
       "    .dataframe tbody tr th:only-of-type {\n",
       "        vertical-align: middle;\n",
       "    }\n",
       "\n",
       "    .dataframe tbody tr th {\n",
       "        vertical-align: top;\n",
       "    }\n",
       "\n",
       "    .dataframe thead th {\n",
       "        text-align: right;\n",
       "    }\n",
       "</style>\n",
       "<table border=\"1\" class=\"dataframe\">\n",
       "  <thead>\n",
       "    <tr style=\"text-align: right;\">\n",
       "      <th></th>\n",
       "      <th>Mobile Network</th>\n",
       "      <th>Tweet Created At</th>\n",
       "      <th>Tweet Text</th>\n",
       "    </tr>\n",
       "  </thead>\n",
       "  <tbody>\n",
       "    <tr>\n",
       "      <th>0</th>\n",
       "      <td>@VodafoneUK</td>\n",
       "      <td>2019-12-04 08:05:14</td>\n",
       "      <td>@VodafoneUK Plus £2.28 package &amp;amp; posting ! ! !</td>\n",
       "    </tr>\n",
       "    <tr>\n",
       "      <th>1</th>\n",
       "      <td>@VodafoneUK</td>\n",
       "      <td>2019-12-04 08:04:05</td>\n",
       "      <td>I have repeatedly asked how to get a refund so I can use another provider. I have also asked how to escalate my complaint. @VodafoneIN refuses to give me this information. @VodafoneUK @VodafoneGroup @rmstakkar @Nairkavita</td>\n",
       "    </tr>\n",
       "    <tr>\n",
       "      <th>2</th>\n",
       "      <td>@VodafoneUK</td>\n",
       "      <td>2019-12-04 08:01:19</td>\n",
       "      <td>I have supplied visa details twice, I have been subjected to horrendously rude staff instore, and now Vodafone are stealing my money by removing services I have paid for. Tourists should not use Vodafone. @VodafoneIn @VodafoneUK @VodafoneGroup @rmstakkar @Nairkavita</td>\n",
       "    </tr>\n",
       "    <tr>\n",
       "      <th>3</th>\n",
       "      <td>@VodafoneUK</td>\n",
       "      <td>2019-12-04 07:57:42</td>\n",
       "      <td>@VodafoneIN promised yesterday I’d receive no more calls and would get an email in 30 mins. No email received. Today I received yet another call. Vodaphone incompetence means I’ll be losing the data I’ve paid for from midnight @VodafoneUK @VodafoneGroup @rmstakkar @Nairkavita</td>\n",
       "    </tr>\n",
       "    <tr>\n",
       "      <th>4</th>\n",
       "      <td>@VodafoneUK</td>\n",
       "      <td>2019-12-04 07:57:16</td>\n",
       "      <td>@VodafoneUK you send texts about rewards - this morning Lindt. It takes me to my app but they are never there. Doesn’t matter how quickly I look. It actually becomes annoying.</td>\n",
       "    </tr>\n",
       "  </tbody>\n",
       "</table>\n",
       "</div>"
      ],
      "text/plain": [
       "  Mobile Network    Tweet Created At  \\\n",
       "0    @VodafoneUK 2019-12-04 08:05:14   \n",
       "1    @VodafoneUK 2019-12-04 08:04:05   \n",
       "2    @VodafoneUK 2019-12-04 08:01:19   \n",
       "3    @VodafoneUK 2019-12-04 07:57:42   \n",
       "4    @VodafoneUK 2019-12-04 07:57:16   \n",
       "\n",
       "                                                                                                                                                                                                                                                                             Tweet Text  \n",
       "0                                                                                                                                                                                                                                    @VodafoneUK Plus £2.28 package &amp; posting ! ! !  \n",
       "1                                                         I have repeatedly asked how to get a refund so I can use another provider. I have also asked how to escalate my complaint. @VodafoneIN refuses to give me this information. @VodafoneUK @VodafoneGroup @rmstakkar @Nairkavita  \n",
       "2            I have supplied visa details twice, I have been subjected to horrendously rude staff instore, and now Vodafone are stealing my money by removing services I have paid for. Tourists should not use Vodafone. @VodafoneIn @VodafoneUK @VodafoneGroup @rmstakkar @Nairkavita  \n",
       "3  @VodafoneIN promised yesterday I’d receive no more calls and would get an email in 30 mins. No email received. Today I received yet another call. Vodaphone incompetence means I’ll be losing the data I’ve paid for from midnight @VodafoneUK @VodafoneGroup @rmstakkar @Nairkavita  \n",
       "4                                                                                                       @VodafoneUK you send texts about rewards - this morning Lindt. It takes me to my app but they are never there. Doesn’t matter how quickly I look. It actually becomes annoying.  "
      ]
     },
     "execution_count": 98,
     "metadata": {},
     "output_type": "execute_result"
    }
   ],
   "source": [
    "## Preview dataframe to ensure correct information/formatting etc.\n",
    "df.head()"
   ]
  },
  {
   "cell_type": "markdown",
   "metadata": {},
   "source": [
    "## Export Raw Data to Excel for Labelling"
   ]
  },
  {
   "cell_type": "code",
   "execution_count": 97,
   "metadata": {},
   "outputs": [
    {
     "name": "stderr",
     "output_type": "stream",
     "text": [
      "/Users/isobeldaley/anaconda3/lib/python3.7/site-packages/xlsxwriter/worksheet.py:912: UserWarning: Ignoring URL 'https://t.co/D0wYWWyLwl%20@BBC%20@ABC%20@NBCNews%20@SkyNews%20@guardiannews%20@AFP%20@AP%20@maddow%20@MSNBC%20@AppleNews%20@HongKongFP%20@Stand_with_HK%20@VOT_Tibetan%20@usmissiongeneva%20@ThreeUK%20@bbcthree%20@USATODAY%20@Toyota%20@dwnews%20@FRANCE24%20@CBC%20@CBCAlerts%20@MOFA_Taiwan%20@CulturalTaiwan%20@MOI_QatarEn%20@BBCAfric' with link or location/anchor > 255 characters since it exceeds Excel's limit for URLS\n",
      "  force_unicode(url))\n"
     ]
    }
   ],
   "source": [
    "## Export raw data to Excel for labelling using Pandas to_excel() function\n",
    "df.to_excel('unlabelled_data.xlsx')"
   ]
  }
 ],
 "metadata": {
  "kernelspec": {
   "display_name": "Python 3",
   "language": "python",
   "name": "python3"
  },
  "language_info": {
   "codemirror_mode": {
    "name": "ipython",
    "version": 3
   },
   "file_extension": ".py",
   "mimetype": "text/x-python",
   "name": "python",
   "nbconvert_exporter": "python",
   "pygments_lexer": "ipython3",
   "version": "3.7.3"
  }
 },
 "nbformat": 4,
 "nbformat_minor": 2
}
