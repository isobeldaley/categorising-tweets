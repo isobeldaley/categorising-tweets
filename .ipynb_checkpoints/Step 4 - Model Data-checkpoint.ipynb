{
 "cells": [
  {
   "cell_type": "markdown",
   "metadata": {},
   "source": [
    "## Import Libraries"
   ]
  },
  {
   "cell_type": "markdown",
   "metadata": {},
   "source": [
    "All libraries required to create a model capable of classifying tweets by category are imported.  These are described in the comments below."
   ]
  },
  {
   "cell_type": "code",
   "execution_count": 463,
   "metadata": {},
   "outputs": [],
   "source": [
    "## Pandas required to manipulate data into user-friendly data structure\n",
    "import pandas as pd\n",
    "\n",
    "## Pickle allows Python objects to be saved for later use, and retrieved\n",
    "import pickle\n",
    "\n",
    "## Numpy is used to execute various mathematical functions\n",
    "import numpy as np\n",
    "\n",
    "## Matplotlib and Seaborn are both plotting tools used to support datavisualisation\n",
    "import matplotlib.pyplot as plt\n",
    "%matplotlib inline\n",
    "import seaborn as sns\n",
    "\n",
    "## Function to enable random split of data into training and test set\n",
    "from sklearn.model_selection import train_test_split\n",
    "\n",
    "## Import the TfidfVectorizer to convert a collection of raw documents to a matrix of TF-IDF features.\n",
    "from sklearn.feature_extraction.text import TfidfVectorizer\n",
    "\n",
    "## Gridsearch enables the optimal combination of parameters to be selected for a given classifier\n",
    "from sklearn.model_selection import GridSearchCV\n",
    "\n",
    "## A number of different classification models\n",
    "from sklearn.ensemble import RandomForestClassifier\n",
    "from sklearn.naive_bayes import MultinomialNB\n",
    "from sklearn.neighbors import KNeighborsClassifier\n",
    "from sklearn.linear_model import LogisticRegression\n",
    "from sklearn.svm import SVC\n",
    "import xgboost as xgb\n",
    "\n",
    "## Metrics to help evaluate the performance of each model\n",
    "from sklearn.metrics import accuracy_score\n",
    "from sklearn.metrics import classification_report\n",
    "from sklearn.metrics import confusion_matrix\n",
    "from sklearn.metrics import roc_auc_score, roc_curve, auc\n",
    "\n",
    "## Modules required to build neural network\n",
    "from sklearn.preprocessing import LabelEncoder\n",
    "from keras.utils.np_utils import to_categorical\n",
    "from keras.preprocessing.text import Tokenizer\n",
    "from keras import regularizers\n",
    "from keras.optimizers import SGD\n",
    "from keras.optimizers import RMSprop\n",
    "from keras.layers import Dropout"
   ]
  },
  {
   "cell_type": "markdown",
   "metadata": {},
   "source": [
    "## Set Random Seed"
   ]
  },
  {
   "cell_type": "markdown",
   "metadata": {},
   "source": [
    "To ensure results are reproducible, a random see is set using Numpy."
   ]
  },
  {
   "cell_type": "code",
   "execution_count": 464,
   "metadata": {},
   "outputs": [],
   "source": [
    "## Set a random seed to ensure results are reproducible\n",
    "np.random.seed(10)"
   ]
  },
  {
   "cell_type": "markdown",
   "metadata": {},
   "source": [
    "## Set Pandas Display Options"
   ]
  },
  {
   "cell_type": "markdown",
   "metadata": {},
   "source": [
    "Pandas display settings are chosen to ensure that the full contents of each column can be seen."
   ]
  },
  {
   "cell_type": "code",
   "execution_count": 627,
   "metadata": {},
   "outputs": [],
   "source": [
    "## Set width of pandas dataframe to ensure entire Tweet is displayed\n",
    "pd.set_option('display.max_colwidth', 3000)"
   ]
  },
  {
   "cell_type": "markdown",
   "metadata": {},
   "source": [
    "## Split Data into Training & Test Set"
   ]
  },
  {
   "cell_type": "markdown",
   "metadata": {},
   "source": []
  },
  {
   "cell_type": "code",
   "execution_count": 465,
   "metadata": {},
   "outputs": [],
   "source": [
    "## Import saved dataframe using pickle\n",
    "df = pd.read_pickle('cleaned_labelled_tweets')"
   ]
  },
  {
   "cell_type": "code",
   "execution_count": 466,
   "metadata": {},
   "outputs": [
    {
     "data": {
      "text/html": [
       "<div>\n",
       "<style scoped>\n",
       "    .dataframe tbody tr th:only-of-type {\n",
       "        vertical-align: middle;\n",
       "    }\n",
       "\n",
       "    .dataframe tbody tr th {\n",
       "        vertical-align: top;\n",
       "    }\n",
       "\n",
       "    .dataframe thead th {\n",
       "        text-align: right;\n",
       "    }\n",
       "</style>\n",
       "<table border=\"1\" class=\"dataframe\">\n",
       "  <thead>\n",
       "    <tr style=\"text-align: right;\">\n",
       "      <th></th>\n",
       "      <th>network</th>\n",
       "      <th>datetime</th>\n",
       "      <th>original_tweet</th>\n",
       "      <th>subject</th>\n",
       "      <th>sentiment</th>\n",
       "      <th>lemmatized_tweets_tokens</th>\n",
       "      <th>lemmatized_tweets_string</th>\n",
       "    </tr>\n",
       "  </thead>\n",
       "  <tbody>\n",
       "    <tr>\n",
       "      <th>0</th>\n",
       "      <td>@VodafoneUK</td>\n",
       "      <td>2019-12-04 08:05:14</td>\n",
       "      <td>@VodafoneUK Plus £2.28 package &amp;amp; posting !...</td>\n",
       "      <td>device</td>\n",
       "      <td>0.000000</td>\n",
       "      <td>[plus, 2.28, package, posting]</td>\n",
       "      <td>plus 2.28 package posting</td>\n",
       "    </tr>\n",
       "    <tr>\n",
       "      <th>1</th>\n",
       "      <td>@VodafoneUK</td>\n",
       "      <td>2019-12-04 08:04:05</td>\n",
       "      <td>I have repeatedly asked how to get a refund so...</td>\n",
       "      <td>customer service</td>\n",
       "      <td>-0.300000</td>\n",
       "      <td>[repeatedly, asked, get, refund, use, another,...</td>\n",
       "      <td>repeatedly asked get refund use another provid...</td>\n",
       "    </tr>\n",
       "    <tr>\n",
       "      <th>2</th>\n",
       "      <td>@VodafoneUK</td>\n",
       "      <td>2019-12-04 08:01:19</td>\n",
       "      <td>I have supplied visa details twice, I have bee...</td>\n",
       "      <td>customer service</td>\n",
       "      <td>-0.300000</td>\n",
       "      <td>[supplied, visa, detail, twice, subjected, hor...</td>\n",
       "      <td>supplied visa detail twice subjected horrendou...</td>\n",
       "    </tr>\n",
       "    <tr>\n",
       "      <th>3</th>\n",
       "      <td>@VodafoneUK</td>\n",
       "      <td>2019-12-04 07:57:42</td>\n",
       "      <td>@VodafoneIN promised yesterday I’d receive no ...</td>\n",
       "      <td>customer service</td>\n",
       "      <td>-0.250000</td>\n",
       "      <td>[promised, yesterday, id, receive, call, would...</td>\n",
       "      <td>promised yesterday id receive call would get e...</td>\n",
       "    </tr>\n",
       "    <tr>\n",
       "      <th>4</th>\n",
       "      <td>@VodafoneUK</td>\n",
       "      <td>2019-12-04 07:57:16</td>\n",
       "      <td>@VodafoneUK you send texts about rewards - thi...</td>\n",
       "      <td>promotion</td>\n",
       "      <td>-0.155556</td>\n",
       "      <td>[send, text, reward, morning, lindt, take, app...</td>\n",
       "      <td>send text reward morning lindt take app never ...</td>\n",
       "    </tr>\n",
       "  </tbody>\n",
       "</table>\n",
       "</div>"
      ],
      "text/plain": [
       "       network            datetime  \\\n",
       "0  @VodafoneUK 2019-12-04 08:05:14   \n",
       "1  @VodafoneUK 2019-12-04 08:04:05   \n",
       "2  @VodafoneUK 2019-12-04 08:01:19   \n",
       "3  @VodafoneUK 2019-12-04 07:57:42   \n",
       "4  @VodafoneUK 2019-12-04 07:57:16   \n",
       "\n",
       "                                      original_tweet           subject  \\\n",
       "0  @VodafoneUK Plus £2.28 package &amp; posting !...            device   \n",
       "1  I have repeatedly asked how to get a refund so...  customer service   \n",
       "2  I have supplied visa details twice, I have bee...  customer service   \n",
       "3  @VodafoneIN promised yesterday I’d receive no ...  customer service   \n",
       "4  @VodafoneUK you send texts about rewards - thi...         promotion   \n",
       "\n",
       "   sentiment                           lemmatized_tweets_tokens  \\\n",
       "0   0.000000                     [plus, 2.28, package, posting]   \n",
       "1  -0.300000  [repeatedly, asked, get, refund, use, another,...   \n",
       "2  -0.300000  [supplied, visa, detail, twice, subjected, hor...   \n",
       "3  -0.250000  [promised, yesterday, id, receive, call, would...   \n",
       "4  -0.155556  [send, text, reward, morning, lindt, take, app...   \n",
       "\n",
       "                            lemmatized_tweets_string  \n",
       "0                          plus 2.28 package posting  \n",
       "1  repeatedly asked get refund use another provid...  \n",
       "2  supplied visa detail twice subjected horrendou...  \n",
       "3  promised yesterday id receive call would get e...  \n",
       "4  send text reward morning lindt take app never ...  "
      ]
     },
     "execution_count": 466,
     "metadata": {},
     "output_type": "execute_result"
    }
   ],
   "source": [
    "df.head()"
   ]
  },
  {
   "cell_type": "code",
   "execution_count": 467,
   "metadata": {},
   "outputs": [
    {
     "data": {
      "text/plain": [
       "other               0.387252\n",
       "customer service    0.212703\n",
       "network             0.123829\n",
       "contract            0.120631\n",
       "promotion           0.073338\n",
       "device              0.063057\n",
       "broadband           0.019191\n",
       "Name: subject, dtype: float64"
      ]
     },
     "execution_count": 467,
     "metadata": {},
     "output_type": "execute_result"
    }
   ],
   "source": [
    "df['subject'].value_counts(normalize=True)"
   ]
  },
  {
   "cell_type": "code",
   "execution_count": 640,
   "metadata": {},
   "outputs": [],
   "source": [
    "X = df['lemmatized_tweets_string']\n",
    "y = df['subject']"
   ]
  },
  {
   "cell_type": "code",
   "execution_count": 641,
   "metadata": {},
   "outputs": [],
   "source": [
    "X_train, X_test, y_train, y_test = train_test_split(X,y,test_size=0.2, random_state=213)"
   ]
  },
  {
   "cell_type": "markdown",
   "metadata": {},
   "source": [
    "## Vectorize Data"
   ]
  },
  {
   "cell_type": "code",
   "execution_count": 642,
   "metadata": {},
   "outputs": [],
   "source": [
    "vectorizer = TfidfVectorizer()"
   ]
  },
  {
   "cell_type": "code",
   "execution_count": 643,
   "metadata": {},
   "outputs": [],
   "source": [
    "tf_idf_X_train = vectorizer.fit_transform(X_train)"
   ]
  },
  {
   "cell_type": "code",
   "execution_count": 644,
   "metadata": {},
   "outputs": [],
   "source": [
    "tf_idf_X_test = vectorizer.transform(X_test)"
   ]
  },
  {
   "cell_type": "markdown",
   "metadata": {},
   "source": [
    "## Model Data"
   ]
  },
  {
   "cell_type": "code",
   "execution_count": 473,
   "metadata": {},
   "outputs": [],
   "source": [
    "## Function to identify the optimat dataset and parameters for a given classifier and parameter grid\n",
    "def best_model_parameters_dataset(classifier, param_grid, datasets):\n",
    "    \n",
    "    ## Create a list to contain the dataset, optimal parameters, and score for training and test set\n",
    "    score_parameters = []\n",
    "    \n",
    "    ## Create a for loop which iterates through each dataset and identifies the optimal parameters for the given classifier\n",
    "    for data in datasets:\n",
    "        \n",
    "        gs = GridSearchCV(classifier, param_grid, scoring='accuracy', cv=3)\n",
    "        gs.fit(data['X_train'], data['y_train'])\n",
    "        y_test_preds = gs.predict(data['X_test'])\n",
    "        test_score = accuracy_score(y_test_preds, data['y_test'])\n",
    "        score_parameters.append({'Dataset':data['name'], 'Training Score':round(gs.best_score_,2), 'Test Score': round(test_score,2), 'Parameters':gs.best_params_})\n",
    "     \n",
    "    ## Generate a dataframe that contains the optimal parameters for each dataset\n",
    "    df = pd.DataFrame(score_parameters)\n",
    "    df.sort_values(by=['Test Score', 'Training Score'], inplace=True, ascending=False)\n",
    "    \n",
    "    return df"
   ]
  },
  {
   "cell_type": "code",
   "execution_count": 474,
   "metadata": {},
   "outputs": [],
   "source": [
    "datasets = [{'name': 'tf_idf','X_train': tf_idf_X_train, 'y_train':y_train, 'X_test': tf_idf_X_test, 'y_test':y_test}]"
   ]
  },
  {
   "cell_type": "markdown",
   "metadata": {},
   "source": [
    "### K Nearest Neighbours"
   ]
  },
  {
   "cell_type": "code",
   "execution_count": 475,
   "metadata": {},
   "outputs": [],
   "source": [
    "## Specify the classifier, in this case K nearest neighbours\n",
    "knn = KNeighborsClassifier()\n",
    "\n",
    "## Define the parameter grid\n",
    "knn_param_grid = {'n_neighbors':[5,20,40,50,60],\n",
    "              'metric': ['manhattan', 'euclidean','minkowski'],\n",
    "              'weights': ['uniform', 'distance']\n",
    "             }"
   ]
  },
  {
   "cell_type": "code",
   "execution_count": 476,
   "metadata": {},
   "outputs": [
    {
     "data": {
      "text/html": [
       "<div>\n",
       "<style scoped>\n",
       "    .dataframe tbody tr th:only-of-type {\n",
       "        vertical-align: middle;\n",
       "    }\n",
       "\n",
       "    .dataframe tbody tr th {\n",
       "        vertical-align: top;\n",
       "    }\n",
       "\n",
       "    .dataframe thead th {\n",
       "        text-align: right;\n",
       "    }\n",
       "</style>\n",
       "<table border=\"1\" class=\"dataframe\">\n",
       "  <thead>\n",
       "    <tr style=\"text-align: right;\">\n",
       "      <th></th>\n",
       "      <th>Dataset</th>\n",
       "      <th>Parameters</th>\n",
       "      <th>Test Score</th>\n",
       "      <th>Training Score</th>\n",
       "    </tr>\n",
       "  </thead>\n",
       "  <tbody>\n",
       "    <tr>\n",
       "      <th>0</th>\n",
       "      <td>tf_idf</td>\n",
       "      <td>{'metric': 'manhattan', 'n_neighbors': 5, 'wei...</td>\n",
       "      <td>0.44</td>\n",
       "      <td>0.42</td>\n",
       "    </tr>\n",
       "  </tbody>\n",
       "</table>\n",
       "</div>"
      ],
      "text/plain": [
       "  Dataset                                         Parameters  Test Score  \\\n",
       "0  tf_idf  {'metric': 'manhattan', 'n_neighbors': 5, 'wei...        0.44   \n",
       "\n",
       "   Training Score  \n",
       "0            0.42  "
      ]
     },
     "execution_count": 476,
     "metadata": {},
     "output_type": "execute_result"
    }
   ],
   "source": [
    "best_model_parameters_dataset(knn, knn_param_grid, datasets)"
   ]
  },
  {
   "cell_type": "markdown",
   "metadata": {},
   "source": [
    "### Multinomial Naive Bayes Classifier"
   ]
  },
  {
   "cell_type": "code",
   "execution_count": 477,
   "metadata": {},
   "outputs": [],
   "source": [
    "## Specify the classifier, in this case naive bayes\n",
    "nb = MultinomialNB()\n",
    "\n",
    "## Create a parameter grid to identify optimal parameters\n",
    "nb_param_grid = {'alpha':[0.5,0.8,1]}"
   ]
  },
  {
   "cell_type": "code",
   "execution_count": 478,
   "metadata": {},
   "outputs": [
    {
     "data": {
      "text/html": [
       "<div>\n",
       "<style scoped>\n",
       "    .dataframe tbody tr th:only-of-type {\n",
       "        vertical-align: middle;\n",
       "    }\n",
       "\n",
       "    .dataframe tbody tr th {\n",
       "        vertical-align: top;\n",
       "    }\n",
       "\n",
       "    .dataframe thead th {\n",
       "        text-align: right;\n",
       "    }\n",
       "</style>\n",
       "<table border=\"1\" class=\"dataframe\">\n",
       "  <thead>\n",
       "    <tr style=\"text-align: right;\">\n",
       "      <th></th>\n",
       "      <th>Dataset</th>\n",
       "      <th>Parameters</th>\n",
       "      <th>Test Score</th>\n",
       "      <th>Training Score</th>\n",
       "    </tr>\n",
       "  </thead>\n",
       "  <tbody>\n",
       "    <tr>\n",
       "      <th>0</th>\n",
       "      <td>tf_idf</td>\n",
       "      <td>{'alpha': 0.5}</td>\n",
       "      <td>0.64</td>\n",
       "      <td>0.61</td>\n",
       "    </tr>\n",
       "  </tbody>\n",
       "</table>\n",
       "</div>"
      ],
      "text/plain": [
       "  Dataset      Parameters  Test Score  Training Score\n",
       "0  tf_idf  {'alpha': 0.5}        0.64            0.61"
      ]
     },
     "execution_count": 478,
     "metadata": {},
     "output_type": "execute_result"
    }
   ],
   "source": [
    "best_model_parameters_dataset(nb, nb_param_grid, datasets)"
   ]
  },
  {
   "cell_type": "markdown",
   "metadata": {},
   "source": [
    "### Multinomial Logistic Regression"
   ]
  },
  {
   "cell_type": "code",
   "execution_count": 479,
   "metadata": {},
   "outputs": [],
   "source": [
    "## Specify the classifier, in this case LogisticRegression()\n",
    "logreg = LogisticRegression(random_state=55, max_iter=15000, multi_class='multinomial')\n",
    "\n",
    "## Create a parameter grid to identify optimal parameters\n",
    "logreg_param_grid = {'C':[1,2,10],\n",
    "                     'class_weight': ['balanced', None],\n",
    "                     'solver':['newton-cg', 'sag', 'saga','lbfgs']}"
   ]
  },
  {
   "cell_type": "code",
   "execution_count": 480,
   "metadata": {},
   "outputs": [
    {
     "name": "stderr",
     "output_type": "stream",
     "text": [
      "/Users/isobeldaley/anaconda3/lib/python3.7/site-packages/sklearn/linear_model/sag.py:337: ConvergenceWarning: The max_iter was reached which means the coef_ did not converge\n",
      "  \"the coef_ did not converge\", ConvergenceWarning)\n",
      "/Users/isobeldaley/anaconda3/lib/python3.7/site-packages/sklearn/linear_model/sag.py:337: ConvergenceWarning: The max_iter was reached which means the coef_ did not converge\n",
      "  \"the coef_ did not converge\", ConvergenceWarning)\n",
      "/Users/isobeldaley/anaconda3/lib/python3.7/site-packages/sklearn/linear_model/sag.py:337: ConvergenceWarning: The max_iter was reached which means the coef_ did not converge\n",
      "  \"the coef_ did not converge\", ConvergenceWarning)\n",
      "/Users/isobeldaley/anaconda3/lib/python3.7/site-packages/sklearn/linear_model/sag.py:337: ConvergenceWarning: The max_iter was reached which means the coef_ did not converge\n",
      "  \"the coef_ did not converge\", ConvergenceWarning)\n",
      "/Users/isobeldaley/anaconda3/lib/python3.7/site-packages/sklearn/linear_model/sag.py:337: ConvergenceWarning: The max_iter was reached which means the coef_ did not converge\n",
      "  \"the coef_ did not converge\", ConvergenceWarning)\n",
      "/Users/isobeldaley/anaconda3/lib/python3.7/site-packages/sklearn/linear_model/sag.py:337: ConvergenceWarning: The max_iter was reached which means the coef_ did not converge\n",
      "  \"the coef_ did not converge\", ConvergenceWarning)\n",
      "/Users/isobeldaley/anaconda3/lib/python3.7/site-packages/sklearn/linear_model/sag.py:337: ConvergenceWarning: The max_iter was reached which means the coef_ did not converge\n",
      "  \"the coef_ did not converge\", ConvergenceWarning)\n",
      "/Users/isobeldaley/anaconda3/lib/python3.7/site-packages/sklearn/linear_model/sag.py:337: ConvergenceWarning: The max_iter was reached which means the coef_ did not converge\n",
      "  \"the coef_ did not converge\", ConvergenceWarning)\n",
      "/Users/isobeldaley/anaconda3/lib/python3.7/site-packages/sklearn/linear_model/sag.py:337: ConvergenceWarning: The max_iter was reached which means the coef_ did not converge\n",
      "  \"the coef_ did not converge\", ConvergenceWarning)\n",
      "/Users/isobeldaley/anaconda3/lib/python3.7/site-packages/sklearn/linear_model/sag.py:337: ConvergenceWarning: The max_iter was reached which means the coef_ did not converge\n",
      "  \"the coef_ did not converge\", ConvergenceWarning)\n",
      "/Users/isobeldaley/anaconda3/lib/python3.7/site-packages/sklearn/linear_model/sag.py:337: ConvergenceWarning: The max_iter was reached which means the coef_ did not converge\n",
      "  \"the coef_ did not converge\", ConvergenceWarning)\n",
      "/Users/isobeldaley/anaconda3/lib/python3.7/site-packages/sklearn/linear_model/sag.py:337: ConvergenceWarning: The max_iter was reached which means the coef_ did not converge\n",
      "  \"the coef_ did not converge\", ConvergenceWarning)\n",
      "/Users/isobeldaley/anaconda3/lib/python3.7/site-packages/sklearn/linear_model/sag.py:337: ConvergenceWarning: The max_iter was reached which means the coef_ did not converge\n",
      "  \"the coef_ did not converge\", ConvergenceWarning)\n"
     ]
    },
    {
     "data": {
      "text/html": [
       "<div>\n",
       "<style scoped>\n",
       "    .dataframe tbody tr th:only-of-type {\n",
       "        vertical-align: middle;\n",
       "    }\n",
       "\n",
       "    .dataframe tbody tr th {\n",
       "        vertical-align: top;\n",
       "    }\n",
       "\n",
       "    .dataframe thead th {\n",
       "        text-align: right;\n",
       "    }\n",
       "</style>\n",
       "<table border=\"1\" class=\"dataframe\">\n",
       "  <thead>\n",
       "    <tr style=\"text-align: right;\">\n",
       "      <th></th>\n",
       "      <th>Dataset</th>\n",
       "      <th>Parameters</th>\n",
       "      <th>Test Score</th>\n",
       "      <th>Training Score</th>\n",
       "    </tr>\n",
       "  </thead>\n",
       "  <tbody>\n",
       "    <tr>\n",
       "      <th>0</th>\n",
       "      <td>tf_idf</td>\n",
       "      <td>{'C': 2, 'class_weight': 'balanced', 'solver':...</td>\n",
       "      <td>0.75</td>\n",
       "      <td>0.71</td>\n",
       "    </tr>\n",
       "  </tbody>\n",
       "</table>\n",
       "</div>"
      ],
      "text/plain": [
       "  Dataset                                         Parameters  Test Score  \\\n",
       "0  tf_idf  {'C': 2, 'class_weight': 'balanced', 'solver':...        0.75   \n",
       "\n",
       "   Training Score  \n",
       "0            0.71  "
      ]
     },
     "execution_count": 480,
     "metadata": {},
     "output_type": "execute_result"
    }
   ],
   "source": [
    "best_model_parameters_dataset(logreg, logreg_param_grid, datasets)"
   ]
  },
  {
   "cell_type": "markdown",
   "metadata": {},
   "source": [
    "### Random Forest"
   ]
  },
  {
   "cell_type": "code",
   "execution_count": 630,
   "metadata": {},
   "outputs": [],
   "source": [
    "## Define the classifier to be used, in this case RandomForestClassifier(), specify a random_state\n",
    "## so that the results are reproducible\n",
    "forest = RandomForestClassifier(random_state=55)\n",
    "\n",
    "## Specify the parameter grid to be assessed\n",
    "forest_param_grid = {'n_estimators': [75,150,300,450],\n",
    "                    'criterion': ['gini', 'entropy'],\n",
    "                  'max_depth':[None, 5, 10, 15],\n",
    "                  'class_weight': ['balanced', None],\n",
    "                  'bootstrap': [True, False]\n",
    "             }"
   ]
  },
  {
   "cell_type": "code",
   "execution_count": 631,
   "metadata": {},
   "outputs": [
    {
     "data": {
      "text/html": [
       "<div>\n",
       "<style scoped>\n",
       "    .dataframe tbody tr th:only-of-type {\n",
       "        vertical-align: middle;\n",
       "    }\n",
       "\n",
       "    .dataframe tbody tr th {\n",
       "        vertical-align: top;\n",
       "    }\n",
       "\n",
       "    .dataframe thead th {\n",
       "        text-align: right;\n",
       "    }\n",
       "</style>\n",
       "<table border=\"1\" class=\"dataframe\">\n",
       "  <thead>\n",
       "    <tr style=\"text-align: right;\">\n",
       "      <th></th>\n",
       "      <th>Dataset</th>\n",
       "      <th>Parameters</th>\n",
       "      <th>Test Score</th>\n",
       "      <th>Training Score</th>\n",
       "    </tr>\n",
       "  </thead>\n",
       "  <tbody>\n",
       "    <tr>\n",
       "      <th>0</th>\n",
       "      <td>tf_idf</td>\n",
       "      <td>{'bootstrap': False, 'class_weight': 'balanced', 'criterion': 'gini', 'max_depth': None, 'n_estimators': 450}</td>\n",
       "      <td>0.76</td>\n",
       "      <td>0.7</td>\n",
       "    </tr>\n",
       "  </tbody>\n",
       "</table>\n",
       "</div>"
      ],
      "text/plain": [
       "  Dataset  \\\n",
       "0  tf_idf   \n",
       "\n",
       "                                                                                                      Parameters  \\\n",
       "0  {'bootstrap': False, 'class_weight': 'balanced', 'criterion': 'gini', 'max_depth': None, 'n_estimators': 450}   \n",
       "\n",
       "   Test Score  Training Score  \n",
       "0        0.76             0.7  "
      ]
     },
     "execution_count": 631,
     "metadata": {},
     "output_type": "execute_result"
    }
   ],
   "source": [
    "best_model_parameters_dataset(forest, forest_param_grid, datasets)"
   ]
  },
  {
   "cell_type": "markdown",
   "metadata": {},
   "source": [
    "### Support Vector Machine"
   ]
  },
  {
   "cell_type": "code",
   "execution_count": 483,
   "metadata": {},
   "outputs": [],
   "source": [
    "## Specify the classification model, in this case a support vector machine\n",
    "svm = SVC(gamma='auto', random_state=55)\n",
    "\n",
    "## Specify the parameter grid to be used during the GridSearchCV\n",
    "svm_param_grid = {'C':[1,5,10],\n",
    "                'class_weight':['balanced', None]}"
   ]
  },
  {
   "cell_type": "code",
   "execution_count": 484,
   "metadata": {},
   "outputs": [
    {
     "data": {
      "text/html": [
       "<div>\n",
       "<style scoped>\n",
       "    .dataframe tbody tr th:only-of-type {\n",
       "        vertical-align: middle;\n",
       "    }\n",
       "\n",
       "    .dataframe tbody tr th {\n",
       "        vertical-align: top;\n",
       "    }\n",
       "\n",
       "    .dataframe thead th {\n",
       "        text-align: right;\n",
       "    }\n",
       "</style>\n",
       "<table border=\"1\" class=\"dataframe\">\n",
       "  <thead>\n",
       "    <tr style=\"text-align: right;\">\n",
       "      <th></th>\n",
       "      <th>Dataset</th>\n",
       "      <th>Parameters</th>\n",
       "      <th>Test Score</th>\n",
       "      <th>Training Score</th>\n",
       "    </tr>\n",
       "  </thead>\n",
       "  <tbody>\n",
       "    <tr>\n",
       "      <th>0</th>\n",
       "      <td>tf_idf</td>\n",
       "      <td>{'C': 1, 'class_weight': None}</td>\n",
       "      <td>0.4</td>\n",
       "      <td>0.38</td>\n",
       "    </tr>\n",
       "  </tbody>\n",
       "</table>\n",
       "</div>"
      ],
      "text/plain": [
       "  Dataset                      Parameters  Test Score  Training Score\n",
       "0  tf_idf  {'C': 1, 'class_weight': None}         0.4            0.38"
      ]
     },
     "execution_count": 484,
     "metadata": {},
     "output_type": "execute_result"
    }
   ],
   "source": [
    "best_model_parameters_dataset(svm, svm_param_grid, datasets)"
   ]
  },
  {
   "cell_type": "markdown",
   "metadata": {},
   "source": [
    "### XG Boost"
   ]
  },
  {
   "cell_type": "code",
   "execution_count": 485,
   "metadata": {},
   "outputs": [
    {
     "data": {
      "text/plain": [
       "XGBClassifier(base_score=0.5, booster='gbtree', colsample_bylevel=1,\n",
       "              colsample_bynode=1, colsample_bytree=1, gamma=0,\n",
       "              learning_rate=0.1, max_delta_step=0, max_depth=3,\n",
       "              min_child_weight=1, missing=None, n_estimators=100, n_jobs=1,\n",
       "              nthread=None, objective='multi:softprob', random_state=0,\n",
       "              reg_alpha=0, reg_lambda=1, scale_pos_weight=1, seed=None,\n",
       "              silent=None, subsample=1, verbosity=1)"
      ]
     },
     "execution_count": 485,
     "metadata": {},
     "output_type": "execute_result"
    }
   ],
   "source": [
    "## Specify the classifier, in this case XG Boost\n",
    "boost = xgb.XGBClassifier()\n",
    "\n",
    "## Fit the model using the training data\n",
    "boost.fit(tf_idf_X_train, y_train)"
   ]
  },
  {
   "cell_type": "code",
   "execution_count": 486,
   "metadata": {},
   "outputs": [],
   "source": [
    "## Create predictions for the training and test datasets\n",
    "boost_preds_train = boost.predict(tf_idf_X_train)\n",
    "boost_preds_test = boost.predict(tf_idf_X_test)"
   ]
  },
  {
   "cell_type": "code",
   "execution_count": 487,
   "metadata": {},
   "outputs": [
    {
     "data": {
      "text/plain": [
       "0.7649243073407598"
      ]
     },
     "execution_count": 487,
     "metadata": {},
     "output_type": "execute_result"
    }
   ],
   "source": [
    "accuracy_score(y_train, boost_preds_train)"
   ]
  },
  {
   "cell_type": "code",
   "execution_count": 488,
   "metadata": {},
   "outputs": [
    {
     "data": {
      "text/plain": [
       "0.7203196347031964"
      ]
     },
     "execution_count": 488,
     "metadata": {},
     "output_type": "execute_result"
    }
   ],
   "source": [
    "accuracy_score(y_test, boost_preds_test)"
   ]
  },
  {
   "cell_type": "markdown",
   "metadata": {},
   "source": [
    "### Neural Network"
   ]
  },
  {
   "cell_type": "code",
   "execution_count": 567,
   "metadata": {},
   "outputs": [
    {
     "data": {
      "text/plain": [
       "array([3, 2, 2, ..., 6, 6, 4])"
      ]
     },
     "execution_count": 567,
     "metadata": {},
     "output_type": "execute_result"
    }
   ],
   "source": [
    "le = LabelEncoder()\n",
    "le.fit(df['subject'])\n",
    "tweet_category = le.transform(df['subject'])\n",
    "tweet_category"
   ]
  },
  {
   "cell_type": "code",
   "execution_count": 568,
   "metadata": {},
   "outputs": [
    {
     "data": {
      "text/plain": [
       "array([[0., 0., 0., ..., 0., 0., 0.],\n",
       "       [0., 0., 1., ..., 0., 0., 0.],\n",
       "       [0., 0., 1., ..., 0., 0., 0.],\n",
       "       ...,\n",
       "       [0., 0., 0., ..., 0., 0., 1.],\n",
       "       [0., 0., 0., ..., 0., 0., 1.],\n",
       "       [0., 0., 0., ..., 1., 0., 0.]], dtype=float32)"
      ]
     },
     "execution_count": 568,
     "metadata": {},
     "output_type": "execute_result"
    }
   ],
   "source": [
    "tweet_onehot = to_categorical(tweet_category)\n",
    "tweet_onehot"
   ]
  },
  {
   "cell_type": "code",
   "execution_count": 569,
   "metadata": {},
   "outputs": [],
   "source": [
    "tweets = df['lemmatized_tweets_string']"
   ]
  },
  {
   "cell_type": "code",
   "execution_count": 570,
   "metadata": {},
   "outputs": [],
   "source": [
    "tokenizer = Tokenizer(num_words=2000)\n",
    "tokenizer.fit_on_texts(tweets)\n",
    "tokenized_X = tokenizer.texts_to_matrix(tweets,mode='binary')"
   ]
  },
  {
   "cell_type": "code",
   "execution_count": 571,
   "metadata": {},
   "outputs": [],
   "source": [
    "nn_X_train, nn_X_test, nn_y_train, nn_y_test = train_test_split(tokenized_X,tweet_onehot,test_size=0.2, random_state=213)"
   ]
  },
  {
   "cell_type": "code",
   "execution_count": 572,
   "metadata": {},
   "outputs": [],
   "source": [
    "nn_X_train, nn_X_val, nn_y_train, nn_y_val = train_test_split(nn_X_train,nn_y_train,test_size=0.2, random_state=213)"
   ]
  },
  {
   "cell_type": "code",
   "execution_count": 606,
   "metadata": {},
   "outputs": [],
   "source": [
    "epochs=15\n",
    "learning_rate = 0.2\n",
    "decay_rate = learning_rate / epochs\n",
    "momentum = 0.8\n",
    "\n",
    "sgd = SGD(lr=learning_rate, momentum=momentum, nesterov=False)"
   ]
  },
  {
   "cell_type": "code",
   "execution_count": 607,
   "metadata": {},
   "outputs": [],
   "source": [
    "model = models.Sequential()"
   ]
  },
  {
   "cell_type": "code",
   "execution_count": 608,
   "metadata": {},
   "outputs": [],
   "source": [
    "model.add(layers.Dense(50, activation='relu', input_shape=(2000,)))\n",
    "model.add(layers.Dense(25, activation='relu'))\n",
    "model.add(layers.Dense(7, activation='softmax'))"
   ]
  },
  {
   "cell_type": "code",
   "execution_count": 609,
   "metadata": {},
   "outputs": [],
   "source": [
    "model.compile(optimizer=sgd,\n",
    "              loss='categorical_crossentropy',\n",
    "              metrics=['accuracy'])"
   ]
  },
  {
   "cell_type": "code",
   "execution_count": 610,
   "metadata": {},
   "outputs": [
    {
     "name": "stdout",
     "output_type": "stream",
     "text": [
      "Train on 2800 samples, validate on 701 samples\n",
      "Epoch 1/15\n",
      "2800/2800 [==============================] - 1s 249us/step - loss: 1.7424 - accuracy: 0.3629 - val_loss: 1.6030 - val_accuracy: 0.4080\n",
      "Epoch 2/15\n",
      "2800/2800 [==============================] - 0s 25us/step - loss: 1.4721 - accuracy: 0.4789 - val_loss: 1.3139 - val_accuracy: 0.5549\n",
      "Epoch 3/15\n",
      "2800/2800 [==============================] - 0s 30us/step - loss: 1.1492 - accuracy: 0.6218 - val_loss: 1.0699 - val_accuracy: 0.6348\n",
      "Epoch 4/15\n",
      "2800/2800 [==============================] - 0s 28us/step - loss: 0.8767 - accuracy: 0.7143 - val_loss: 0.9497 - val_accuracy: 0.6904\n",
      "Epoch 5/15\n",
      "2800/2800 [==============================] - 0s 25us/step - loss: 0.6813 - accuracy: 0.7757 - val_loss: 0.9114 - val_accuracy: 0.7033\n",
      "Epoch 6/15\n",
      "2800/2800 [==============================] - 0s 28us/step - loss: 0.5144 - accuracy: 0.8364 - val_loss: 0.9762 - val_accuracy: 0.7047\n",
      "Epoch 7/15\n",
      "2800/2800 [==============================] - 0s 28us/step - loss: 0.3885 - accuracy: 0.8846 - val_loss: 0.9743 - val_accuracy: 0.7061\n",
      "Epoch 8/15\n",
      "2800/2800 [==============================] - 0s 25us/step - loss: 0.2894 - accuracy: 0.9154 - val_loss: 1.0372 - val_accuracy: 0.7090\n",
      "Epoch 9/15\n",
      "2800/2800 [==============================] - 0s 26us/step - loss: 0.2203 - accuracy: 0.9421 - val_loss: 1.0844 - val_accuracy: 0.7133\n",
      "Epoch 10/15\n",
      "2800/2800 [==============================] - 0s 27us/step - loss: 0.1752 - accuracy: 0.9529 - val_loss: 1.1402 - val_accuracy: 0.7090\n",
      "Epoch 11/15\n",
      "2800/2800 [==============================] - 0s 27us/step - loss: 0.1590 - accuracy: 0.9586 - val_loss: 1.1924 - val_accuracy: 0.7133\n",
      "Epoch 12/15\n",
      "2800/2800 [==============================] - 0s 28us/step - loss: 0.1438 - accuracy: 0.9607 - val_loss: 1.2453 - val_accuracy: 0.7147\n",
      "Epoch 13/15\n",
      "2800/2800 [==============================] - 0s 28us/step - loss: 0.1242 - accuracy: 0.9682 - val_loss: 1.3231 - val_accuracy: 0.7133\n",
      "Epoch 14/15\n",
      "2800/2800 [==============================] - 0s 28us/step - loss: 0.1112 - accuracy: 0.9746 - val_loss: 1.3602 - val_accuracy: 0.7104\n",
      "Epoch 15/15\n",
      "2800/2800 [==============================] - 0s 28us/step - loss: 0.0987 - accuracy: 0.9750 - val_loss: 1.3722 - val_accuracy: 0.7090\n"
     ]
    }
   ],
   "source": [
    "history = model.fit(nn_X_train,\n",
    "                    nn_y_train,\n",
    "                    epochs=epochs,\n",
    "                    batch_size=200, validation_data=(X_val, y_val))"
   ]
  },
  {
   "cell_type": "code",
   "execution_count": 612,
   "metadata": {},
   "outputs": [
    {
     "data": {
      "image/png": "[encoded data removed]",
      "text/plain": [
       "<Figure size 864x576 with 1 Axes>"
      ]
     },
     "metadata": {
      "needs_background": "light"
     },
     "output_type": "display_data"
    }
   ],
   "source": [
    "fig, ax = plt.subplots(figsize=(12, 8))\n",
    "\n",
    "acc_values = history.history['accuracy'] \n",
    "val_acc_values = history.history['val_accuracy']\n",
    "epochs = range(1,16)\n",
    "\n",
    "ax.plot(epochs, acc_values, label='Training acc')\n",
    "ax.plot(epochs, val_acc_values, label='Validation acc')\n",
    "ax.set_title('Training & validation accuracy')\n",
    "ax.set_xlabel('Epochs')\n",
    "ax.set_ylabel('Loss')\n",
    "ax.legend();"
   ]
  },
  {
   "cell_type": "code",
   "execution_count": 613,
   "metadata": {},
   "outputs": [],
   "source": [
    "preds = model.predict_classes(nn_X_test)"
   ]
  },
  {
   "cell_type": "code",
   "execution_count": 614,
   "metadata": {},
   "outputs": [],
   "source": [
    "def decode(datum):\n",
    "    return np.argmax(datum)"
   ]
  },
  {
   "cell_type": "code",
   "execution_count": 615,
   "metadata": {},
   "outputs": [],
   "source": [
    "decoded_y_test = []\n",
    "for i in range(nn_y_test.shape[0]):\n",
    "    decoded_y_test.append(decode(nn_y_test[i]))"
   ]
  },
  {
   "cell_type": "code",
   "execution_count": 616,
   "metadata": {},
   "outputs": [
    {
     "data": {
      "text/plain": [
       "0.7168949771689498"
      ]
     },
     "execution_count": 616,
     "metadata": {},
     "output_type": "execute_result"
    }
   ],
   "source": [
    "accuracy_score(decoded_y_test, preds)"
   ]
  },
  {
   "cell_type": "code",
   "execution_count": 617,
   "metadata": {},
   "outputs": [
    {
     "data": {
      "text/plain": [
       "array([0., 0., 0., 0., 0., 0., 1.], dtype=float32)"
      ]
     },
     "execution_count": 617,
     "metadata": {},
     "output_type": "execute_result"
    }
   ],
   "source": [
    "to_categorical(preds)[0]"
   ]
  },
  {
   "cell_type": "markdown",
   "metadata": {},
   "source": [
    "## Label Unlabelled Data"
   ]
  },
  {
   "cell_type": "code",
   "execution_count": 618,
   "metadata": {},
   "outputs": [],
   "source": [
    "unlabelled_df = pd.read_pickle('cleaned_unlabelled_tweets')"
   ]
  },
  {
   "cell_type": "code",
   "execution_count": 619,
   "metadata": {},
   "outputs": [
    {
     "data": {
      "text/html": [
       "<div>\n",
       "<style scoped>\n",
       "    .dataframe tbody tr th:only-of-type {\n",
       "        vertical-align: middle;\n",
       "    }\n",
       "\n",
       "    .dataframe tbody tr th {\n",
       "        vertical-align: top;\n",
       "    }\n",
       "\n",
       "    .dataframe thead th {\n",
       "        text-align: right;\n",
       "    }\n",
       "</style>\n",
       "<table border=\"1\" class=\"dataframe\">\n",
       "  <thead>\n",
       "    <tr style=\"text-align: right;\">\n",
       "      <th></th>\n",
       "      <th>network</th>\n",
       "      <th>datetime</th>\n",
       "      <th>original_tweet</th>\n",
       "      <th>subject</th>\n",
       "      <th>sentiment</th>\n",
       "      <th>lemmatized_tweets_tokens</th>\n",
       "      <th>lemmatized_tweets_string</th>\n",
       "    </tr>\n",
       "  </thead>\n",
       "  <tbody>\n",
       "    <tr>\n",
       "      <th>39</th>\n",
       "      <td>@VodafoneUK</td>\n",
       "      <td>2019-12-04 01:20:56</td>\n",
       "      <td>@avipan_lko @VodafoneIN @VodafoneGroup @Vodafo...</td>\n",
       "      <td></td>\n",
       "      <td>0.0</td>\n",
       "      <td>[]</td>\n",
       "      <td></td>\n",
       "    </tr>\n",
       "    <tr>\n",
       "      <th>41</th>\n",
       "      <td>@VodafoneUK</td>\n",
       "      <td>2019-12-04 00:48:17</td>\n",
       "      <td>@danielrome18 @VodafoneUK fucking hell 😱</td>\n",
       "      <td></td>\n",
       "      <td>-0.6</td>\n",
       "      <td>[fucking, hell]</td>\n",
       "      <td>fucking hell</td>\n",
       "    </tr>\n",
       "    <tr>\n",
       "      <th>56</th>\n",
       "      <td>@VodafoneUK</td>\n",
       "      <td>2019-12-03 22:46:47</td>\n",
       "      <td>@VodafoneUK I was hoping you’d say that.</td>\n",
       "      <td></td>\n",
       "      <td>0.0</td>\n",
       "      <td>[hoping, youd, say]</td>\n",
       "      <td>hoping youd say</td>\n",
       "    </tr>\n",
       "    <tr>\n",
       "      <th>61</th>\n",
       "      <td>@VodafoneUK</td>\n",
       "      <td>2019-12-03 22:38:07</td>\n",
       "      <td>@VodafoneUK please explain https://t.co/PhHJdM...</td>\n",
       "      <td></td>\n",
       "      <td>0.0</td>\n",
       "      <td>[please, explain]</td>\n",
       "      <td>please explain</td>\n",
       "    </tr>\n",
       "    <tr>\n",
       "      <th>65</th>\n",
       "      <td>@VodafoneUK</td>\n",
       "      <td>2019-12-03 22:22:46</td>\n",
       "      <td>@Townsley85 @VodafoneUK Hear, hear!</td>\n",
       "      <td></td>\n",
       "      <td>0.0</td>\n",
       "      <td>[hear, hear]</td>\n",
       "      <td>hear hear</td>\n",
       "    </tr>\n",
       "  </tbody>\n",
       "</table>\n",
       "</div>"
      ],
      "text/plain": [
       "        network            datetime  \\\n",
       "39  @VodafoneUK 2019-12-04 01:20:56   \n",
       "41  @VodafoneUK 2019-12-04 00:48:17   \n",
       "56  @VodafoneUK 2019-12-03 22:46:47   \n",
       "61  @VodafoneUK 2019-12-03 22:38:07   \n",
       "65  @VodafoneUK 2019-12-03 22:22:46   \n",
       "\n",
       "                                       original_tweet subject  sentiment  \\\n",
       "39  @avipan_lko @VodafoneIN @VodafoneGroup @Vodafo...                0.0   \n",
       "41           @danielrome18 @VodafoneUK fucking hell 😱               -0.6   \n",
       "56           @VodafoneUK I was hoping you’d say that.                0.0   \n",
       "61  @VodafoneUK please explain https://t.co/PhHJdM...                0.0   \n",
       "65                @Townsley85 @VodafoneUK Hear, hear!                0.0   \n",
       "\n",
       "   lemmatized_tweets_tokens lemmatized_tweets_string  \n",
       "39                       []                           \n",
       "41          [fucking, hell]             fucking hell  \n",
       "56      [hoping, youd, say]          hoping youd say  \n",
       "61        [please, explain]           please explain  \n",
       "65             [hear, hear]                hear hear  "
      ]
     },
     "execution_count": 619,
     "metadata": {},
     "output_type": "execute_result"
    }
   ],
   "source": [
    "unlabelled_df.head()"
   ]
  },
  {
   "cell_type": "code",
   "execution_count": 686,
   "metadata": {},
   "outputs": [],
   "source": [
    "all_X_train = list(X_train)\n",
    "all_X_train.extend(unlabelled_df['lemmatized_tweets_string'])"
   ]
  },
  {
   "cell_type": "code",
   "execution_count": 688,
   "metadata": {},
   "outputs": [],
   "source": [
    "tf_idf_all_X_train = vectorizer.transform(all_X_train)"
   ]
  },
  {
   "cell_type": "code",
   "execution_count": 689,
   "metadata": {},
   "outputs": [
    {
     "data": {
      "text/plain": [
       "RandomForestClassifier(bootstrap=False, class_weight='balanced',\n",
       "                       criterion='gini', max_depth=None, max_features='auto',\n",
       "                       max_leaf_nodes=None, min_impurity_decrease=0.0,\n",
       "                       min_impurity_split=None, min_samples_leaf=1,\n",
       "                       min_samples_split=2, min_weight_fraction_leaf=0.0,\n",
       "                       n_estimators=450, n_jobs=None, oob_score=False,\n",
       "                       random_state=None, verbose=0, warm_start=False)"
      ]
     },
     "execution_count": 689,
     "metadata": {},
     "output_type": "execute_result"
    }
   ],
   "source": [
    "rf = RandomForestClassifier(bootstrap=False, class_weight='balanced', criterion= 'gini', max_depth= None,n_estimators=450)\n",
    "rf.fit(tf_idf_X_train, y_train)                    \n",
    "                            "
   ]
  },
  {
   "cell_type": "code",
   "execution_count": 690,
   "metadata": {},
   "outputs": [],
   "source": [
    "unlabelled_y_train = rf.predict(tf_idf_unlabelled_X_train)"
   ]
  },
  {
   "cell_type": "code",
   "execution_count": 691,
   "metadata": {},
   "outputs": [],
   "source": [
    "all_y_train = np.append(values=np.array(y_train), arr=unlabelled_y_train)"
   ]
  },
  {
   "cell_type": "code",
   "execution_count": null,
   "metadata": {},
   "outputs": [],
   "source": []
  },
  {
   "cell_type": "code",
   "execution_count": 693,
   "metadata": {},
   "outputs": [
    {
     "data": {
      "text/plain": [
       "RandomForestClassifier(bootstrap=False, class_weight='balanced',\n",
       "                       criterion='gini', max_depth=None, max_features='auto',\n",
       "                       max_leaf_nodes=None, min_impurity_decrease=0.0,\n",
       "                       min_impurity_split=None, min_samples_leaf=1,\n",
       "                       min_samples_split=2, min_weight_fraction_leaf=0.0,\n",
       "                       n_estimators=450, n_jobs=None, oob_score=False,\n",
       "                       random_state=None, verbose=0, warm_start=False)"
      ]
     },
     "execution_count": 693,
     "metadata": {},
     "output_type": "execute_result"
    }
   ],
   "source": []
  },
  {
   "cell_type": "code",
   "execution_count": 694,
   "metadata": {},
   "outputs": [],
   "source": []
  },
  {
   "cell_type": "code",
   "execution_count": null,
   "metadata": {},
   "outputs": [],
   "source": []
  },
  {
   "cell_type": "code",
   "execution_count": 695,
   "metadata": {},
   "outputs": [
    {
     "data": {
      "text/plain": [
       "0.24315068493150685"
      ]
     },
     "execution_count": 695,
     "metadata": {},
     "output_type": "execute_result"
    }
   ],
   "source": []
  },
  {
   "cell_type": "code",
   "execution_count": null,
   "metadata": {},
   "outputs": [],
   "source": []
  },
  {
   "cell_type": "markdown",
   "metadata": {},
   "source": [
    "## Re-Run Model"
   ]
  },
  {
   "cell_type": "code",
   "execution_count": 700,
   "metadata": {},
   "outputs": [],
   "source": [
    "complete_datasets = [{'name': 'complete_tf_idf','X_train': tf_idf_all_X_train, 'y_train':all_y_train, 'X_test': tf_idf_X_test, 'y_test':y_test}]\n"
   ]
  },
  {
   "cell_type": "code",
   "execution_count": 701,
   "metadata": {},
   "outputs": [],
   "source": [
    "## Define the classifier to be used, in this case RandomForestClassifier(), specify a random_state\n",
    "## so that the results are reproducible\n",
    "forest = RandomForestClassifier(random_state=55)\n",
    "\n",
    "## Specify the parameter grid to be assessed\n",
    "forest_param_grid = {'n_estimators': [75,150,300,450],\n",
    "                    'criterion': ['gini', 'entropy'],\n",
    "                  'max_depth':[None, 5, 10, 15],\n",
    "                  'class_weight': ['balanced', None],\n",
    "                  'bootstrap': [True, False]\n",
    "             }"
   ]
  },
  {
   "cell_type": "code",
   "execution_count": 702,
   "metadata": {},
   "outputs": [
    {
     "data": {
      "text/html": [
       "<div>\n",
       "<style scoped>\n",
       "    .dataframe tbody tr th:only-of-type {\n",
       "        vertical-align: middle;\n",
       "    }\n",
       "\n",
       "    .dataframe tbody tr th {\n",
       "        vertical-align: top;\n",
       "    }\n",
       "\n",
       "    .dataframe thead th {\n",
       "        text-align: right;\n",
       "    }\n",
       "</style>\n",
       "<table border=\"1\" class=\"dataframe\">\n",
       "  <thead>\n",
       "    <tr style=\"text-align: right;\">\n",
       "      <th></th>\n",
       "      <th>Dataset</th>\n",
       "      <th>Parameters</th>\n",
       "      <th>Test Score</th>\n",
       "      <th>Training Score</th>\n",
       "    </tr>\n",
       "  </thead>\n",
       "  <tbody>\n",
       "    <tr>\n",
       "      <th>0</th>\n",
       "      <td>complete_tf_idf</td>\n",
       "      <td>{'bootstrap': True, 'class_weight': None, 'criterion': 'gini', 'max_depth': 5, 'n_estimators': 75}</td>\n",
       "      <td>0.4</td>\n",
       "      <td>0.43</td>\n",
       "    </tr>\n",
       "  </tbody>\n",
       "</table>\n",
       "</div>"
      ],
      "text/plain": [
       "           Dataset  \\\n",
       "0  complete_tf_idf   \n",
       "\n",
       "                                                                                           Parameters  \\\n",
       "0  {'bootstrap': True, 'class_weight': None, 'criterion': 'gini', 'max_depth': 5, 'n_estimators': 75}   \n",
       "\n",
       "   Test Score  Training Score  \n",
       "0         0.4            0.43  "
      ]
     },
     "execution_count": 702,
     "metadata": {},
     "output_type": "execute_result"
    }
   ],
   "source": [
    "best_model_parameters_dataset(forest, forest_param_grid, complete_datasets)"
   ]
  },
  {
   "cell_type": "code",
   "execution_count": null,
   "metadata": {},
   "outputs": [],
   "source": [
    "preds = rf.predict(tf_idf_X_test)"
   ]
  },
  {
   "cell_type": "code",
   "execution_count": null,
   "metadata": {},
   "outputs": [],
   "source": [
    "accuracy_score(y_test, preds)"
   ]
  },
  {
   "cell_type": "code",
   "execution_count": null,
   "metadata": {},
   "outputs": [],
   "source": []
  }
 ],
 "metadata": {
  "kernelspec": {
   "display_name": "Python 3",
   "language": "python",
   "name": "python3"
  },
  "language_info": {
   "codemirror_mode": {
    "name": "ipython",
    "version": 3
   },
   "file_extension": ".py",
   "mimetype": "text/x-python",
   "name": "python",
   "nbconvert_exporter": "python",
   "pygments_lexer": "ipython3",
   "version": "3.7.3"
  }
 },
 "nbformat": 4,
 "nbformat_minor": 2
}
