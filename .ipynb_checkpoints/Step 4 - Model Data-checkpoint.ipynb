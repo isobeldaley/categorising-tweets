{
 "cells": [
  {
   "cell_type": "markdown",
   "metadata": {},
   "source": [
    "## Import Libraries"
   ]
  },
  {
   "cell_type": "code",
   "execution_count": 106,
   "metadata": {},
   "outputs": [
    {
     "name": "stderr",
     "output_type": "stream",
     "text": [
      "Using TensorFlow backend.\n"
     ]
    }
   ],
   "source": [
    "import pandas as pd\n",
    "\n",
    "import pickle\n",
    "\n",
    "import numpy as np\n",
    "\n",
    "import matplotlib.pyplot as plt\n",
    "%matplotlib inline\n",
    "\n",
    "from sklearn.model_selection import train_test_split\n",
    "from sklearn.feature_extraction.text import TfidfVectorizer\n",
    "from sklearn.decomposition import PCA\n",
    "\n",
    "from sklearn.model_selection import GridSearchCV\n",
    "\n",
    "from sklearn.ensemble import RandomForestClassifier\n",
    "from sklearn.naive_bayes import MultinomialNB\n",
    "\n",
    "from sklearn.neighbors import KNeighborsClassifier\n",
    "from sklearn.linear_model import LogisticRegression\n",
    "from sklearn.svm import SVC\n",
    "\n",
    "import xgboost as xgb\n",
    "\n",
    "from sklearn.metrics import accuracy_score\n",
    "from sklearn.metrics import classification_report\n",
    "from sklearn.metrics import confusion_matrix\n",
    "from sklearn.metrics import roc_auc_score, roc_curve, auc\n",
    "\n",
    "from sklearn.metrics import accuracy_score\n",
    "\n",
    "from keras import models\n",
    "from keras import layers\n",
    "from keras import optimizers"
   ]
  },
  {
   "cell_type": "code",
   "execution_count": 225,
   "metadata": {},
   "outputs": [],
   "source": [
    "np.random.seed(10)"
   ]
  },
  {
   "cell_type": "markdown",
   "metadata": {},
   "source": [
    "## Split Data into Training & Test Set"
   ]
  },
  {
   "cell_type": "code",
   "execution_count": 5,
   "metadata": {},
   "outputs": [],
   "source": [
    "## Import saved dataframe using pickle\n",
    "df = pd.read_pickle('cleaned_labelled_tweets')"
   ]
  },
  {
   "cell_type": "code",
   "execution_count": 17,
   "metadata": {},
   "outputs": [
    {
     "data": {
      "text/html": [
       "<div>\n",
       "<style scoped>\n",
       "    .dataframe tbody tr th:only-of-type {\n",
       "        vertical-align: middle;\n",
       "    }\n",
       "\n",
       "    .dataframe tbody tr th {\n",
       "        vertical-align: top;\n",
       "    }\n",
       "\n",
       "    .dataframe thead th {\n",
       "        text-align: right;\n",
       "    }\n",
       "</style>\n",
       "<table border=\"1\" class=\"dataframe\">\n",
       "  <thead>\n",
       "    <tr style=\"text-align: right;\">\n",
       "      <th></th>\n",
       "      <th>network</th>\n",
       "      <th>datetime</th>\n",
       "      <th>original_tweet</th>\n",
       "      <th>subject</th>\n",
       "      <th>sentiment</th>\n",
       "      <th>lemmatized_tweets_tokens</th>\n",
       "      <th>lemmatized_tweets_string</th>\n",
       "    </tr>\n",
       "  </thead>\n",
       "  <tbody>\n",
       "    <tr>\n",
       "      <th>0</th>\n",
       "      <td>@VodafoneUK</td>\n",
       "      <td>2019-12-04 08:05:14</td>\n",
       "      <td>@VodafoneUK Plus £2.28 package &amp;amp; posting !...</td>\n",
       "      <td>device</td>\n",
       "      <td>0.000000</td>\n",
       "      <td>[plus, £2.28, package, posting]</td>\n",
       "      <td>plus £2.28 package posting</td>\n",
       "    </tr>\n",
       "    <tr>\n",
       "      <th>1</th>\n",
       "      <td>@VodafoneUK</td>\n",
       "      <td>2019-12-04 08:04:05</td>\n",
       "      <td>I have repeatedly asked how to get a refund so...</td>\n",
       "      <td>customer service</td>\n",
       "      <td>-0.300000</td>\n",
       "      <td>[repeatedly, asked, get, refund, use, another,...</td>\n",
       "      <td>repeatedly asked get refund use another provid...</td>\n",
       "    </tr>\n",
       "    <tr>\n",
       "      <th>2</th>\n",
       "      <td>@VodafoneUK</td>\n",
       "      <td>2019-12-04 08:01:19</td>\n",
       "      <td>I have supplied visa details twice, I have bee...</td>\n",
       "      <td>customer service</td>\n",
       "      <td>-0.300000</td>\n",
       "      <td>[supplied, visa, detail, twice, subjected, hor...</td>\n",
       "      <td>supplied visa detail twice subjected horrendou...</td>\n",
       "    </tr>\n",
       "    <tr>\n",
       "      <th>3</th>\n",
       "      <td>@VodafoneUK</td>\n",
       "      <td>2019-12-04 07:57:42</td>\n",
       "      <td>@VodafoneIN promised yesterday I’d receive no ...</td>\n",
       "      <td>customer service</td>\n",
       "      <td>-0.250000</td>\n",
       "      <td>[promised, yesterday, receive, call, would, ge...</td>\n",
       "      <td>promised yesterday receive call would get emai...</td>\n",
       "    </tr>\n",
       "    <tr>\n",
       "      <th>4</th>\n",
       "      <td>@VodafoneUK</td>\n",
       "      <td>2019-12-04 07:57:16</td>\n",
       "      <td>@VodafoneUK you send texts about rewards - thi...</td>\n",
       "      <td>promotion</td>\n",
       "      <td>-0.155556</td>\n",
       "      <td>[send, text, reward, morning, lindt, take, app...</td>\n",
       "      <td>send text reward morning lindt take app never ...</td>\n",
       "    </tr>\n",
       "  </tbody>\n",
       "</table>\n",
       "</div>"
      ],
      "text/plain": [
       "       network            datetime  \\\n",
       "0  @VodafoneUK 2019-12-04 08:05:14   \n",
       "1  @VodafoneUK 2019-12-04 08:04:05   \n",
       "2  @VodafoneUK 2019-12-04 08:01:19   \n",
       "3  @VodafoneUK 2019-12-04 07:57:42   \n",
       "4  @VodafoneUK 2019-12-04 07:57:16   \n",
       "\n",
       "                                      original_tweet           subject  \\\n",
       "0  @VodafoneUK Plus £2.28 package &amp; posting !...            device   \n",
       "1  I have repeatedly asked how to get a refund so...  customer service   \n",
       "2  I have supplied visa details twice, I have bee...  customer service   \n",
       "3  @VodafoneIN promised yesterday I’d receive no ...  customer service   \n",
       "4  @VodafoneUK you send texts about rewards - thi...         promotion   \n",
       "\n",
       "   sentiment                           lemmatized_tweets_tokens  \\\n",
       "0   0.000000                    [plus, £2.28, package, posting]   \n",
       "1  -0.300000  [repeatedly, asked, get, refund, use, another,...   \n",
       "2  -0.300000  [supplied, visa, detail, twice, subjected, hor...   \n",
       "3  -0.250000  [promised, yesterday, receive, call, would, ge...   \n",
       "4  -0.155556  [send, text, reward, morning, lindt, take, app...   \n",
       "\n",
       "                            lemmatized_tweets_string  \n",
       "0                         plus £2.28 package posting  \n",
       "1  repeatedly asked get refund use another provid...  \n",
       "2  supplied visa detail twice subjected horrendou...  \n",
       "3  promised yesterday receive call would get emai...  \n",
       "4  send text reward morning lindt take app never ...  "
      ]
     },
     "execution_count": 17,
     "metadata": {},
     "output_type": "execute_result"
    }
   ],
   "source": [
    "df.head()"
   ]
  },
  {
   "cell_type": "code",
   "execution_count": 284,
   "metadata": {},
   "outputs": [
    {
     "data": {
      "text/plain": [
       "other               0.372598\n",
       "customer service    0.206929\n",
       "network             0.120000\n",
       "contract            0.115591\n",
       "promotion           0.089449\n",
       "device              0.075591\n",
       "broadband           0.019843\n",
       "Name: subject, dtype: float64"
      ]
     },
     "execution_count": 284,
     "metadata": {},
     "output_type": "execute_result"
    }
   ],
   "source": [
    "df['subject'].value_counts(normalize=True)"
   ]
  },
  {
   "cell_type": "code",
   "execution_count": 18,
   "metadata": {},
   "outputs": [],
   "source": [
    "X = df['lemmatized_tweets_string']\n",
    "y = df['subject']"
   ]
  },
  {
   "cell_type": "code",
   "execution_count": 27,
   "metadata": {},
   "outputs": [],
   "source": [
    "X_train, X_test, y_train, y_test = train_test_split(X,y,test_size=0.2, random_state=213)"
   ]
  },
  {
   "cell_type": "markdown",
   "metadata": {},
   "source": [
    "## Vectorize Data"
   ]
  },
  {
   "cell_type": "code",
   "execution_count": 30,
   "metadata": {},
   "outputs": [],
   "source": [
    "vectorizer = TfidfVectorizer()"
   ]
  },
  {
   "cell_type": "code",
   "execution_count": 54,
   "metadata": {},
   "outputs": [],
   "source": [
    "tf_idf_X_train = vectorizer.fit_transform(X_train)"
   ]
  },
  {
   "cell_type": "code",
   "execution_count": 55,
   "metadata": {},
   "outputs": [],
   "source": [
    "tf_idf_X_test = vectorizer.transform(X_test)"
   ]
  },
  {
   "cell_type": "markdown",
   "metadata": {},
   "source": [
    "## Model Data"
   ]
  },
  {
   "cell_type": "code",
   "execution_count": 64,
   "metadata": {},
   "outputs": [],
   "source": [
    "## Function to identify the optimat dataset and parameters for a given classifier and parameter grid\n",
    "def best_model_parameters_dataset(classifier, param_grid, datasets):\n",
    "    \n",
    "    ## Create a list to contain the dataset, optimal parameters, and score for training and test set\n",
    "    score_parameters = []\n",
    "    \n",
    "    ## Create a for loop which iterates through each dataset and identifies the optimal parameters for the given classifier\n",
    "    for data in datasets:\n",
    "        \n",
    "        gs = GridSearchCV(classifier, param_grid, scoring='accuracy', cv=3)\n",
    "        gs.fit(data['X_train'], data['y_train'])\n",
    "        y_test_preds = gs.predict(data['X_test'])\n",
    "        test_score = accuracy_score(y_test_preds, data['y_test'])\n",
    "        score_parameters.append({'Dataset':data['name'], 'Training Score':round(gs.best_score_,2), 'Test Score': round(test_score,2), 'Parameters':gs.best_params_})\n",
    "     \n",
    "    ## Generate a dataframe that contains the optimal parameters for each dataset\n",
    "    df = pd.DataFrame(score_parameters)\n",
    "    df.sort_values(by=['Test Score', 'Training Score'], inplace=True, ascending=False)\n",
    "    \n",
    "    return df"
   ]
  },
  {
   "cell_type": "code",
   "execution_count": 57,
   "metadata": {},
   "outputs": [],
   "source": [
    "datasets = [{'name': 'tf_idf','X_train': tf_idf_X_train, 'y_train':y_train, 'X_test': tf_idf_X_test, 'y_test':y_test}]"
   ]
  },
  {
   "cell_type": "markdown",
   "metadata": {},
   "source": [
    "### K Nearest Neighbours"
   ]
  },
  {
   "cell_type": "code",
   "execution_count": 72,
   "metadata": {},
   "outputs": [],
   "source": [
    "## Specify the classifier, in this case K nearest neighbours\n",
    "knn = KNeighborsClassifier()\n",
    "\n",
    "## Define the parameter grid\n",
    "knn_param_grid = {'n_neighbors':[5,20,40,50,60],\n",
    "              'metric': ['manhattan', 'euclidean','minkowski'],\n",
    "              'weights': ['uniform', 'distance']\n",
    "             }"
   ]
  },
  {
   "cell_type": "code",
   "execution_count": 73,
   "metadata": {},
   "outputs": [
    {
     "data": {
      "text/html": [
       "<div>\n",
       "<style scoped>\n",
       "    .dataframe tbody tr th:only-of-type {\n",
       "        vertical-align: middle;\n",
       "    }\n",
       "\n",
       "    .dataframe tbody tr th {\n",
       "        vertical-align: top;\n",
       "    }\n",
       "\n",
       "    .dataframe thead th {\n",
       "        text-align: right;\n",
       "    }\n",
       "</style>\n",
       "<table border=\"1\" class=\"dataframe\">\n",
       "  <thead>\n",
       "    <tr style=\"text-align: right;\">\n",
       "      <th></th>\n",
       "      <th>Dataset</th>\n",
       "      <th>Parameters</th>\n",
       "      <th>Test Score</th>\n",
       "      <th>Training Score</th>\n",
       "    </tr>\n",
       "  </thead>\n",
       "  <tbody>\n",
       "    <tr>\n",
       "      <th>0</th>\n",
       "      <td>tf_idf</td>\n",
       "      <td>{'metric': 'manhattan', 'n_neighbors': 5, 'wei...</td>\n",
       "      <td>0.44</td>\n",
       "      <td>0.4</td>\n",
       "    </tr>\n",
       "  </tbody>\n",
       "</table>\n",
       "</div>"
      ],
      "text/plain": [
       "  Dataset                                         Parameters  Test Score  \\\n",
       "0  tf_idf  {'metric': 'manhattan', 'n_neighbors': 5, 'wei...        0.44   \n",
       "\n",
       "   Training Score  \n",
       "0             0.4  "
      ]
     },
     "execution_count": 73,
     "metadata": {},
     "output_type": "execute_result"
    }
   ],
   "source": [
    "best_model_parameters_dataset(knn, knn_param_grid, datasets)"
   ]
  },
  {
   "cell_type": "markdown",
   "metadata": {},
   "source": [
    "### Multinomial Naive Bayes Classifier"
   ]
  },
  {
   "cell_type": "code",
   "execution_count": 97,
   "metadata": {},
   "outputs": [],
   "source": [
    "## Specify the classifier, in this case naive bayes\n",
    "nb = MultinomialNB()\n",
    "\n",
    "## Create a parameter grid to identify optimal parameters\n",
    "nb_param_grid = {'alpha':[0.5,0.8,1]}"
   ]
  },
  {
   "cell_type": "code",
   "execution_count": 98,
   "metadata": {},
   "outputs": [
    {
     "data": {
      "text/html": [
       "<div>\n",
       "<style scoped>\n",
       "    .dataframe tbody tr th:only-of-type {\n",
       "        vertical-align: middle;\n",
       "    }\n",
       "\n",
       "    .dataframe tbody tr th {\n",
       "        vertical-align: top;\n",
       "    }\n",
       "\n",
       "    .dataframe thead th {\n",
       "        text-align: right;\n",
       "    }\n",
       "</style>\n",
       "<table border=\"1\" class=\"dataframe\">\n",
       "  <thead>\n",
       "    <tr style=\"text-align: right;\">\n",
       "      <th></th>\n",
       "      <th>Dataset</th>\n",
       "      <th>Parameters</th>\n",
       "      <th>Test Score</th>\n",
       "      <th>Training Score</th>\n",
       "    </tr>\n",
       "  </thead>\n",
       "  <tbody>\n",
       "    <tr>\n",
       "      <th>0</th>\n",
       "      <td>tf_idf</td>\n",
       "      <td>{'alpha': 0.5}</td>\n",
       "      <td>0.66</td>\n",
       "      <td>0.59</td>\n",
       "    </tr>\n",
       "  </tbody>\n",
       "</table>\n",
       "</div>"
      ],
      "text/plain": [
       "  Dataset      Parameters  Test Score  Training Score\n",
       "0  tf_idf  {'alpha': 0.5}        0.66            0.59"
      ]
     },
     "execution_count": 98,
     "metadata": {},
     "output_type": "execute_result"
    }
   ],
   "source": [
    "best_model_parameters_dataset(nb, nb_param_grid, datasets)"
   ]
  },
  {
   "cell_type": "markdown",
   "metadata": {},
   "source": [
    "### Multinomial Logistic Regression"
   ]
  },
  {
   "cell_type": "code",
   "execution_count": 83,
   "metadata": {},
   "outputs": [],
   "source": [
    "## Specify the classifier, in this case LogisticRegression()\n",
    "logreg = LogisticRegression(random_state=55, max_iter=15000, multi_class='multinomial')\n",
    "\n",
    "## Create a parameter grid to identify optimal parameters\n",
    "logreg_param_grid = {'C':[1,2,10],\n",
    "                     'class_weight': ['balanced', None],\n",
    "                     'solver':['newton-cg', 'sag', 'saga','lbfgs']}"
   ]
  },
  {
   "cell_type": "code",
   "execution_count": 84,
   "metadata": {},
   "outputs": [
    {
     "name": "stderr",
     "output_type": "stream",
     "text": [
      "/Users/isobeldaley/anaconda3/lib/python3.7/site-packages/sklearn/linear_model/sag.py:337: ConvergenceWarning: The max_iter was reached which means the coef_ did not converge\n",
      "  \"the coef_ did not converge\", ConvergenceWarning)\n",
      "/Users/isobeldaley/anaconda3/lib/python3.7/site-packages/sklearn/linear_model/sag.py:337: ConvergenceWarning: The max_iter was reached which means the coef_ did not converge\n",
      "  \"the coef_ did not converge\", ConvergenceWarning)\n",
      "/Users/isobeldaley/anaconda3/lib/python3.7/site-packages/sklearn/linear_model/sag.py:337: ConvergenceWarning: The max_iter was reached which means the coef_ did not converge\n",
      "  \"the coef_ did not converge\", ConvergenceWarning)\n"
     ]
    },
    {
     "data": {
      "text/html": [
       "<div>\n",
       "<style scoped>\n",
       "    .dataframe tbody tr th:only-of-type {\n",
       "        vertical-align: middle;\n",
       "    }\n",
       "\n",
       "    .dataframe tbody tr th {\n",
       "        vertical-align: top;\n",
       "    }\n",
       "\n",
       "    .dataframe thead th {\n",
       "        text-align: right;\n",
       "    }\n",
       "</style>\n",
       "<table border=\"1\" class=\"dataframe\">\n",
       "  <thead>\n",
       "    <tr style=\"text-align: right;\">\n",
       "      <th></th>\n",
       "      <th>Dataset</th>\n",
       "      <th>Parameters</th>\n",
       "      <th>Test Score</th>\n",
       "      <th>Training Score</th>\n",
       "    </tr>\n",
       "  </thead>\n",
       "  <tbody>\n",
       "    <tr>\n",
       "      <th>0</th>\n",
       "      <td>tf_idf</td>\n",
       "      <td>{'C': 2, 'class_weight': 'balanced', 'solver':...</td>\n",
       "      <td>0.76</td>\n",
       "      <td>0.71</td>\n",
       "    </tr>\n",
       "  </tbody>\n",
       "</table>\n",
       "</div>"
      ],
      "text/plain": [
       "  Dataset                                         Parameters  Test Score  \\\n",
       "0  tf_idf  {'C': 2, 'class_weight': 'balanced', 'solver':...        0.76   \n",
       "\n",
       "   Training Score  \n",
       "0            0.71  "
      ]
     },
     "execution_count": 84,
     "metadata": {},
     "output_type": "execute_result"
    }
   ],
   "source": [
    "best_model_parameters_dataset(logreg, logreg_param_grid, datasets)"
   ]
  },
  {
   "cell_type": "markdown",
   "metadata": {},
   "source": [
    "### Random Forest"
   ]
  },
  {
   "cell_type": "code",
   "execution_count": 86,
   "metadata": {},
   "outputs": [],
   "source": [
    "## Define the classifier to be used, in this case RandomForestClassifier(), specify a random_state\n",
    "## so that the results are reproducible\n",
    "forest = RandomForestClassifier(random_state=55)\n",
    "\n",
    "## Specify the parameter grid to be assessed\n",
    "forest_param_grid = {'n_estimators': [4,10,50,75,150],\n",
    "                    'criterion': ['gini', 'entropy'],\n",
    "                  'max_depth':[None, 5, 10, 15],\n",
    "                  'class_weight': ['balanced', None],\n",
    "                  'bootstrap': [True, False]\n",
    "             }"
   ]
  },
  {
   "cell_type": "code",
   "execution_count": 87,
   "metadata": {},
   "outputs": [
    {
     "data": {
      "text/html": [
       "<div>\n",
       "<style scoped>\n",
       "    .dataframe tbody tr th:only-of-type {\n",
       "        vertical-align: middle;\n",
       "    }\n",
       "\n",
       "    .dataframe tbody tr th {\n",
       "        vertical-align: top;\n",
       "    }\n",
       "\n",
       "    .dataframe thead th {\n",
       "        text-align: right;\n",
       "    }\n",
       "</style>\n",
       "<table border=\"1\" class=\"dataframe\">\n",
       "  <thead>\n",
       "    <tr style=\"text-align: right;\">\n",
       "      <th></th>\n",
       "      <th>Dataset</th>\n",
       "      <th>Parameters</th>\n",
       "      <th>Test Score</th>\n",
       "      <th>Training Score</th>\n",
       "    </tr>\n",
       "  </thead>\n",
       "  <tbody>\n",
       "    <tr>\n",
       "      <th>0</th>\n",
       "      <td>tf_idf</td>\n",
       "      <td>{'bootstrap': False, 'class_weight': 'balanced...</td>\n",
       "      <td>0.75</td>\n",
       "      <td>0.68</td>\n",
       "    </tr>\n",
       "  </tbody>\n",
       "</table>\n",
       "</div>"
      ],
      "text/plain": [
       "  Dataset                                         Parameters  Test Score  \\\n",
       "0  tf_idf  {'bootstrap': False, 'class_weight': 'balanced...        0.75   \n",
       "\n",
       "   Training Score  \n",
       "0            0.68  "
      ]
     },
     "execution_count": 87,
     "metadata": {},
     "output_type": "execute_result"
    }
   ],
   "source": [
    "best_model_parameters_dataset(forest, forest_param_grid, datasets)"
   ]
  },
  {
   "cell_type": "markdown",
   "metadata": {},
   "source": [
    "### Support Vector Machine"
   ]
  },
  {
   "cell_type": "code",
   "execution_count": 88,
   "metadata": {},
   "outputs": [],
   "source": [
    "## Specify the classification model, in this case a support vector machine\n",
    "svm = SVC(gamma='auto', random_state=55)\n",
    "\n",
    "## Specify the parameter grid to be used during the GridSearchCV\n",
    "svm_param_grid = {'C':[1,5,10],\n",
    "                'class_weight':['balanced', None]}"
   ]
  },
  {
   "cell_type": "code",
   "execution_count": 90,
   "metadata": {},
   "outputs": [
    {
     "data": {
      "text/html": [
       "<div>\n",
       "<style scoped>\n",
       "    .dataframe tbody tr th:only-of-type {\n",
       "        vertical-align: middle;\n",
       "    }\n",
       "\n",
       "    .dataframe tbody tr th {\n",
       "        vertical-align: top;\n",
       "    }\n",
       "\n",
       "    .dataframe thead th {\n",
       "        text-align: right;\n",
       "    }\n",
       "</style>\n",
       "<table border=\"1\" class=\"dataframe\">\n",
       "  <thead>\n",
       "    <tr style=\"text-align: right;\">\n",
       "      <th></th>\n",
       "      <th>Dataset</th>\n",
       "      <th>Parameters</th>\n",
       "      <th>Test Score</th>\n",
       "      <th>Training Score</th>\n",
       "    </tr>\n",
       "  </thead>\n",
       "  <tbody>\n",
       "    <tr>\n",
       "      <th>0</th>\n",
       "      <td>tf_idf</td>\n",
       "      <td>{'C': 1, 'class_weight': None}</td>\n",
       "      <td>0.4</td>\n",
       "      <td>0.37</td>\n",
       "    </tr>\n",
       "  </tbody>\n",
       "</table>\n",
       "</div>"
      ],
      "text/plain": [
       "  Dataset                      Parameters  Test Score  Training Score\n",
       "0  tf_idf  {'C': 1, 'class_weight': None}         0.4            0.37"
      ]
     },
     "execution_count": 90,
     "metadata": {},
     "output_type": "execute_result"
    }
   ],
   "source": [
    "best_model_parameters_dataset(svm, svm_param_grid, datasets)"
   ]
  },
  {
   "cell_type": "markdown",
   "metadata": {},
   "source": [
    "### XG Boost"
   ]
  },
  {
   "cell_type": "code",
   "execution_count": 101,
   "metadata": {},
   "outputs": [
    {
     "data": {
      "text/plain": [
       "XGBClassifier(base_score=0.5, booster='gbtree', colsample_bylevel=1,\n",
       "              colsample_bynode=1, colsample_bytree=1, gamma=0,\n",
       "              learning_rate=0.1, max_delta_step=0, max_depth=3,\n",
       "              min_child_weight=1, missing=None, n_estimators=100, n_jobs=1,\n",
       "              nthread=None, objective='multi:softprob', random_state=0,\n",
       "              reg_alpha=0, reg_lambda=1, scale_pos_weight=1, seed=None,\n",
       "              silent=None, subsample=1, verbosity=1)"
      ]
     },
     "execution_count": 101,
     "metadata": {},
     "output_type": "execute_result"
    }
   ],
   "source": [
    "## Specify the classifier, in this case XG Boost\n",
    "boost = xgb.XGBClassifier()\n",
    "\n",
    "## Fit the model using the training data\n",
    "boost.fit(tf_idf_X_train, y_train)"
   ]
  },
  {
   "cell_type": "code",
   "execution_count": 103,
   "metadata": {},
   "outputs": [],
   "source": [
    "## Create predictions for the training and test datasets\n",
    "boost_preds_train = boost.predict(tf_idf_X_train)\n",
    "boost_preds_test = boost.predict(tf_idf_X_test)"
   ]
  },
  {
   "cell_type": "code",
   "execution_count": 104,
   "metadata": {},
   "outputs": [
    {
     "data": {
      "text/plain": [
       "0.7803149606299212"
      ]
     },
     "execution_count": 104,
     "metadata": {},
     "output_type": "execute_result"
    }
   ],
   "source": [
    "accuracy_score(y_train, boost_preds_train)"
   ]
  },
  {
   "cell_type": "code",
   "execution_count": 105,
   "metadata": {},
   "outputs": [
    {
     "data": {
      "text/plain": [
       "0.6992125984251969"
      ]
     },
     "execution_count": 105,
     "metadata": {},
     "output_type": "execute_result"
    }
   ],
   "source": [
    "accuracy_score(y_test, boost_preds_test)"
   ]
  },
  {
   "cell_type": "markdown",
   "metadata": {},
   "source": [
    "### Neural Network"
   ]
  },
  {
   "cell_type": "code",
   "execution_count": 245,
   "metadata": {},
   "outputs": [],
   "source": [
    "from sklearn.preprocessing import LabelEncoder\n",
    "from keras.utils.np_utils import to_categorical\n",
    "from keras.preprocessing.text import Tokenizer\n",
    "from keras import regularizers\n",
    "from keras.optimizers import SGD\n",
    "from keras.optimizers import RMSprop\n",
    "from keras.layers import Dropout"
   ]
  },
  {
   "cell_type": "code",
   "execution_count": 167,
   "metadata": {},
   "outputs": [
    {
     "data": {
      "text/plain": [
       "array([3, 2, 2, ..., 6, 6, 4])"
      ]
     },
     "execution_count": 167,
     "metadata": {},
     "output_type": "execute_result"
    }
   ],
   "source": [
    "le = LabelEncoder()\n",
    "le.fit(df['subject'])\n",
    "tweet_category = le.transform(df['subject'])\n",
    "tweet_category"
   ]
  },
  {
   "cell_type": "code",
   "execution_count": 168,
   "metadata": {},
   "outputs": [
    {
     "data": {
      "text/plain": [
       "array([[0., 0., 0., ..., 0., 0., 0.],\n",
       "       [0., 0., 1., ..., 0., 0., 0.],\n",
       "       [0., 0., 1., ..., 0., 0., 0.],\n",
       "       ...,\n",
       "       [0., 0., 0., ..., 0., 0., 1.],\n",
       "       [0., 0., 0., ..., 0., 0., 1.],\n",
       "       [0., 0., 0., ..., 1., 0., 0.]], dtype=float32)"
      ]
     },
     "execution_count": 168,
     "metadata": {},
     "output_type": "execute_result"
    }
   ],
   "source": [
    "tweet_onehot = to_categorical(tweet_category)\n",
    "tweet_onehot"
   ]
  },
  {
   "cell_type": "code",
   "execution_count": 171,
   "metadata": {},
   "outputs": [],
   "source": [
    "tweets = df['lemmatized_tweets_string']"
   ]
  },
  {
   "cell_type": "code",
   "execution_count": 174,
   "metadata": {},
   "outputs": [],
   "source": [
    "tokenizer = Tokenizer(num_words=2000)\n",
    "tokenizer.fit_on_texts(tweets)\n",
    "tokenized_X = tokenizer.texts_to_matrix(tweets,mode='binary')"
   ]
  },
  {
   "cell_type": "code",
   "execution_count": 316,
   "metadata": {},
   "outputs": [],
   "source": [
    "X_train, X_test, y_train, y_test = train_test_split(tokenized_X,tweet_onehot,test_size=0.2, random_state=213)"
   ]
  },
  {
   "cell_type": "code",
   "execution_count": 317,
   "metadata": {},
   "outputs": [],
   "source": [
    "X_train, X_val, y_train, y_val = train_test_split(X_train,y_train,test_size=0.2, random_state=213)"
   ]
  },
  {
   "cell_type": "code",
   "execution_count": 332,
   "metadata": {},
   "outputs": [],
   "source": [
    "epochs=20\n",
    "learning_rate = 0.2\n",
    "decay_rate = learning_rate / epochs\n",
    "momentum = 0.8\n",
    "\n",
    "sgd = SGD(lr=learning_rate, momentum=momentum, nesterov=False)"
   ]
  },
  {
   "cell_type": "code",
   "execution_count": 333,
   "metadata": {},
   "outputs": [],
   "source": [
    "model = models.Sequential()"
   ]
  },
  {
   "cell_type": "code",
   "execution_count": 334,
   "metadata": {},
   "outputs": [],
   "source": [
    "model.add(layers.Dense(50, activation='relu', input_shape=(2000,))) \n",
    "model.add(layers.Dense(25, activation='relu'))\n",
    "model.add(layers.Dense(50, activation='relu'))\n",
    "model.add(layers.Dense(7, activation='softmax'))"
   ]
  },
  {
   "cell_type": "code",
   "execution_count": 335,
   "metadata": {},
   "outputs": [],
   "source": [
    "model.compile(optimizer=sgd,\n",
    "              loss='categorical_crossentropy',\n",
    "              metrics=['accuracy'])"
   ]
  },
  {
   "cell_type": "code",
   "execution_count": 322,
   "metadata": {},
   "outputs": [
    {
     "name": "stdout",
     "output_type": "stream",
     "text": [
      "Train on 2032 samples, validate on 508 samples\n",
      "Epoch 1/20\n",
      "2032/2032 [==============================] - 0s 244us/step - loss: 1.7992 - accuracy: 0.3342 - val_loss: 1.6694 - val_accuracy: 0.3740\n",
      "Epoch 2/20\n",
      "2032/2032 [==============================] - 0s 26us/step - loss: 1.6519 - accuracy: 0.3661 - val_loss: 1.5706 - val_accuracy: 0.4213\n",
      "Epoch 3/20\n",
      "2032/2032 [==============================] - 0s 29us/step - loss: 1.4904 - accuracy: 0.4744 - val_loss: 1.3763 - val_accuracy: 0.5236\n",
      "Epoch 4/20\n",
      "2032/2032 [==============================] - 0s 28us/step - loss: 1.1964 - accuracy: 0.5989 - val_loss: 1.1734 - val_accuracy: 0.6161\n",
      "Epoch 5/20\n",
      "2032/2032 [==============================] - 0s 29us/step - loss: 0.9385 - accuracy: 0.6924 - val_loss: 1.2204 - val_accuracy: 0.6339\n",
      "Epoch 6/20\n",
      "2032/2032 [==============================] - 0s 26us/step - loss: 0.7757 - accuracy: 0.7451 - val_loss: 1.4377 - val_accuracy: 0.5787\n",
      "Epoch 7/20\n",
      "2032/2032 [==============================] - 0s 29us/step - loss: 0.6648 - accuracy: 0.7781 - val_loss: 1.0744 - val_accuracy: 0.6791\n",
      "Epoch 8/20\n",
      "2032/2032 [==============================] - 0s 26us/step - loss: 0.4657 - accuracy: 0.8529 - val_loss: 1.0991 - val_accuracy: 0.7008\n",
      "Epoch 9/20\n",
      "2032/2032 [==============================] - 0s 26us/step - loss: 0.3646 - accuracy: 0.8814 - val_loss: 1.1069 - val_accuracy: 0.6791\n",
      "Epoch 10/20\n",
      "2032/2032 [==============================] - 0s 28us/step - loss: 0.2665 - accuracy: 0.9124 - val_loss: 1.2459 - val_accuracy: 0.6988\n",
      "Epoch 11/20\n",
      "2032/2032 [==============================] - 0s 29us/step - loss: 0.2431 - accuracy: 0.9281 - val_loss: 1.3456 - val_accuracy: 0.6890\n",
      "Epoch 12/20\n",
      "2032/2032 [==============================] - 0s 29us/step - loss: 0.2262 - accuracy: 0.9267 - val_loss: 1.4173 - val_accuracy: 0.6417\n",
      "Epoch 13/20\n",
      "2032/2032 [==============================] - 0s 31us/step - loss: 0.1998 - accuracy: 0.9311 - val_loss: 1.3824 - val_accuracy: 0.6811\n",
      "Epoch 14/20\n",
      "2032/2032 [==============================] - 0s 29us/step - loss: 0.1680 - accuracy: 0.9478 - val_loss: 1.4981 - val_accuracy: 0.6949\n",
      "Epoch 15/20\n",
      "2032/2032 [==============================] - 0s 27us/step - loss: 0.1581 - accuracy: 0.9503 - val_loss: 1.4567 - val_accuracy: 0.6949\n",
      "Epoch 16/20\n",
      "2032/2032 [==============================] - 0s 28us/step - loss: 0.1275 - accuracy: 0.9582 - val_loss: 1.7318 - val_accuracy: 0.6811\n",
      "Epoch 17/20\n",
      "2032/2032 [==============================] - 0s 29us/step - loss: 0.1236 - accuracy: 0.9656 - val_loss: 1.7163 - val_accuracy: 0.6339\n",
      "Epoch 18/20\n",
      "2032/2032 [==============================] - 0s 30us/step - loss: 0.0983 - accuracy: 0.9724 - val_loss: 1.6817 - val_accuracy: 0.6811\n",
      "Epoch 19/20\n",
      "2032/2032 [==============================] - 0s 28us/step - loss: 0.0720 - accuracy: 0.9803 - val_loss: 1.7466 - val_accuracy: 0.6496\n",
      "Epoch 20/20\n",
      "2032/2032 [==============================] - 0s 29us/step - loss: 0.0762 - accuracy: 0.9754 - val_loss: 1.7447 - val_accuracy: 0.6909\n"
     ]
    }
   ],
   "source": [
    "history = model.fit(X_train,\n",
    "                    y_train,\n",
    "                    epochs=epochs,\n",
    "                    batch_size=200, validation_data=(X_val, y_val))"
   ]
  },
  {
   "cell_type": "code",
   "execution_count": 192,
   "metadata": {},
   "outputs": [
    {
     "data": {
      "text/plain": [
       "dict_keys(['val_loss', 'val_accuracy', 'loss', 'accuracy'])"
      ]
     },
     "execution_count": 192,
     "metadata": {},
     "output_type": "execute_result"
    }
   ],
   "source": [
    "history.history.keys()"
   ]
  },
  {
   "cell_type": "code",
   "execution_count": 323,
   "metadata": {},
   "outputs": [
    {
     "data": {
      "image/png": "[encoded data removed]",
      "text/plain": [
       "<Figure size 864x576 with 1 Axes>"
      ]
     },
     "metadata": {
      "needs_background": "light"
     },
     "output_type": "display_data"
    }
   ],
   "source": [
    "fig, ax = plt.subplots(figsize=(12, 8))\n",
    "\n",
    "acc_values = history.history['accuracy'] \n",
    "val_acc_values = history.history['val_accuracy']\n",
    "epochs = range(1,21)\n",
    "\n",
    "ax.plot(epochs, acc_values, label='Training acc')\n",
    "ax.plot(epochs, val_acc_values, label='Validation acc')\n",
    "ax.set_title('Training & validation accuracy')\n",
    "ax.set_xlabel('Epochs')\n",
    "ax.set_ylabel('Loss')\n",
    "ax.legend();"
   ]
  },
  {
   "cell_type": "code",
   "execution_count": 324,
   "metadata": {},
   "outputs": [],
   "source": [
    "preds = model.predict_classes(X_test)"
   ]
  },
  {
   "cell_type": "code",
   "execution_count": 325,
   "metadata": {},
   "outputs": [
    {
     "data": {
      "text/plain": [
       "0.6992125984251969"
      ]
     },
     "execution_count": 325,
     "metadata": {},
     "output_type": "execute_result"
    }
   ],
   "source": [
    "accuracy_score(decoded_y_test, preds)"
   ]
  },
  {
   "cell_type": "code",
   "execution_count": 210,
   "metadata": {},
   "outputs": [
    {
     "data": {
      "text/plain": [
       "array([[0., 0., 0., ..., 0., 1., 0.],\n",
       "       [0., 0., 0., ..., 0., 1., 0.],\n",
       "       [0., 0., 0., ..., 0., 0., 1.],\n",
       "       ...,\n",
       "       [0., 0., 0., ..., 0., 0., 0.],\n",
       "       [0., 0., 0., ..., 0., 1., 0.],\n",
       "       [0., 0., 0., ..., 0., 1., 0.]], dtype=float32)"
      ]
     },
     "execution_count": 210,
     "metadata": {},
     "output_type": "execute_result"
    }
   ],
   "source": [
    "y_test"
   ]
  },
  {
   "cell_type": "code",
   "execution_count": 272,
   "metadata": {},
   "outputs": [],
   "source": [
    "def decode(datum):\n",
    "    return np.argmax(datum)"
   ]
  },
  {
   "cell_type": "code",
   "execution_count": 274,
   "metadata": {},
   "outputs": [],
   "source": [
    "decoded_y_test = []\n",
    "for i in range(y_test.shape[0]):\n",
    "    decoded_y_test.append(decode(y_test[i]))\n",
    "    "
   ]
  },
  {
   "cell_type": "code",
   "execution_count": 275,
   "metadata": {},
   "outputs": [
    {
     "data": {
      "text/plain": [
       "[5,\n",
       " 5,\n",
       " 6,\n",
       " 5,\n",
       " 2,\n",
       " 5,\n",
       " 4,\n",
       " 1,\n",
       " 1,\n",
       " 5,\n",
       " 5,\n",
       " 5,\n",
       " 5,\n",
       " 5,\n",
       " 2,\n",
       " 2,\n",
       " 5,\n",
       " 2,\n",
       " 1,\n",
       " 2,\n",
       " 5,\n",
       " 5,\n",
       " 3,\n",
       " 6,\n",
       " 1,\n",
       " 5,\n",
       " 1,\n",
       " 3,\n",
       " 5,\n",
       " 1,\n",
       " 4,\n",
       " 6,\n",
       " 3,\n",
       " 2,\n",
       " 2,\n",
       " 5,\n",
       " 2,\n",
       " 5,\n",
       " 6,\n",
       " 5,\n",
       " 3,\n",
       " 4,\n",
       " 4,\n",
       " 2,\n",
       " 4,\n",
       " 2,\n",
       " 3,\n",
       " 5,\n",
       " 1,\n",
       " 2,\n",
       " 1,\n",
       " 5,\n",
       " 4,\n",
       " 5,\n",
       " 2,\n",
       " 2,\n",
       " 2,\n",
       " 5,\n",
       " 1,\n",
       " 2,\n",
       " 5,\n",
       " 2,\n",
       " 4,\n",
       " 4,\n",
       " 2,\n",
       " 3,\n",
       " 5,\n",
       " 2,\n",
       " 5,\n",
       " 6,\n",
       " 2,\n",
       " 2,\n",
       " 3,\n",
       " 5,\n",
       " 5,\n",
       " 5,\n",
       " 1,\n",
       " 1,\n",
       " 5,\n",
       " 5,\n",
       " 4,\n",
       " 2,\n",
       " 2,\n",
       " 2,\n",
       " 1,\n",
       " 4,\n",
       " 2,\n",
       " 1,\n",
       " 3,\n",
       " 4,\n",
       " 5,\n",
       " 3,\n",
       " 6,\n",
       " 5,\n",
       " 5,\n",
       " 1,\n",
       " 4,\n",
       " 2,\n",
       " 1,\n",
       " 3,\n",
       " 2,\n",
       " 2,\n",
       " 1,\n",
       " 3,\n",
       " 3,\n",
       " 5,\n",
       " 1,\n",
       " 3,\n",
       " 5,\n",
       " 6,\n",
       " 5,\n",
       " 1,\n",
       " 4,\n",
       " 5,\n",
       " 5,\n",
       " 5,\n",
       " 5,\n",
       " 5,\n",
       " 3,\n",
       " 5,\n",
       " 5,\n",
       " 5,\n",
       " 1,\n",
       " 1,\n",
       " 2,\n",
       " 2,\n",
       " 5,\n",
       " 2,\n",
       " 4,\n",
       " 3,\n",
       " 5,\n",
       " 5,\n",
       " 5,\n",
       " 2,\n",
       " 1,\n",
       " 5,\n",
       " 2,\n",
       " 5,\n",
       " 6,\n",
       " 5,\n",
       " 5,\n",
       " 1,\n",
       " 5,\n",
       " 1,\n",
       " 6,\n",
       " 2,\n",
       " 2,\n",
       " 1,\n",
       " 5,\n",
       " 5,\n",
       " 5,\n",
       " 3,\n",
       " 5,\n",
       " 1,\n",
       " 5,\n",
       " 5,\n",
       " 5,\n",
       " 5,\n",
       " 2,\n",
       " 1,\n",
       " 2,\n",
       " 5,\n",
       " 6,\n",
       " 5,\n",
       " 1,\n",
       " 6,\n",
       " 6,\n",
       " 4,\n",
       " 4,\n",
       " 2,\n",
       " 0,\n",
       " 6,\n",
       " 4,\n",
       " 2,\n",
       " 3,\n",
       " 4,\n",
       " 2,\n",
       " 5,\n",
       " 6,\n",
       " 5,\n",
       " 5,\n",
       " 4,\n",
       " 5,\n",
       " 5,\n",
       " 3,\n",
       " 1,\n",
       " 1,\n",
       " 5,\n",
       " 1,\n",
       " 3,\n",
       " 2,\n",
       " 5,\n",
       " 5,\n",
       " 2,\n",
       " 3,\n",
       " 5,\n",
       " 2,\n",
       " 5,\n",
       " 5,\n",
       " 6,\n",
       " 1,\n",
       " 1,\n",
       " 5,\n",
       " 4,\n",
       " 5,\n",
       " 4,\n",
       " 1,\n",
       " 5,\n",
       " 5,\n",
       " 5,\n",
       " 4,\n",
       " 1,\n",
       " 5,\n",
       " 1,\n",
       " 1,\n",
       " 5,\n",
       " 2,\n",
       " 2,\n",
       " 4,\n",
       " 5,\n",
       " 5,\n",
       " 3,\n",
       " 4,\n",
       " 5,\n",
       " 6,\n",
       " 5,\n",
       " 6,\n",
       " 5,\n",
       " 6,\n",
       " 6,\n",
       " 2,\n",
       " 5,\n",
       " 2,\n",
       " 5,\n",
       " 2,\n",
       " 5,\n",
       " 5,\n",
       " 1,\n",
       " 5,\n",
       " 5,\n",
       " 1,\n",
       " 2,\n",
       " 3,\n",
       " 2,\n",
       " 5,\n",
       " 1,\n",
       " 5,\n",
       " 1,\n",
       " 3,\n",
       " 2,\n",
       " 5,\n",
       " 2,\n",
       " 1,\n",
       " 1,\n",
       " 5,\n",
       " 4,\n",
       " 5,\n",
       " 4,\n",
       " 2,\n",
       " 0,\n",
       " 2,\n",
       " 5,\n",
       " 5,\n",
       " 6,\n",
       " 2,\n",
       " 2,\n",
       " 5,\n",
       " 5,\n",
       " 1,\n",
       " 1,\n",
       " 5,\n",
       " 5,\n",
       " 6,\n",
       " 5,\n",
       " 5,\n",
       " 5,\n",
       " 5,\n",
       " 5,\n",
       " 5,\n",
       " 4,\n",
       " 2,\n",
       " 2,\n",
       " 5,\n",
       " 6,\n",
       " 1,\n",
       " 1,\n",
       " 5,\n",
       " 5,\n",
       " 6,\n",
       " 5,\n",
       " 5,\n",
       " 4,\n",
       " 2,\n",
       " 4,\n",
       " 6,\n",
       " 4,\n",
       " 6,\n",
       " 2,\n",
       " 2,\n",
       " 0,\n",
       " 6,\n",
       " 5,\n",
       " 5,\n",
       " 1,\n",
       " 4,\n",
       " 5,\n",
       " 4,\n",
       " 3,\n",
       " 2,\n",
       " 1,\n",
       " 2,\n",
       " 2,\n",
       " 5,\n",
       " 5,\n",
       " 2,\n",
       " 5,\n",
       " 6,\n",
       " 5,\n",
       " 5,\n",
       " 3,\n",
       " 0,\n",
       " 2,\n",
       " 5,\n",
       " 2,\n",
       " 5,\n",
       " 0,\n",
       " 1,\n",
       " 4,\n",
       " 1,\n",
       " 5,\n",
       " 5,\n",
       " 6,\n",
       " 4,\n",
       " 2,\n",
       " 5,\n",
       " 2,\n",
       " 2,\n",
       " 3,\n",
       " 3,\n",
       " 1,\n",
       " 4,\n",
       " 4,\n",
       " 4,\n",
       " 0,\n",
       " 5,\n",
       " 4,\n",
       " 5,\n",
       " 5,\n",
       " 2,\n",
       " 2,\n",
       " 3,\n",
       " 5,\n",
       " 1,\n",
       " 4,\n",
       " 5,\n",
       " 5,\n",
       " 5,\n",
       " 5,\n",
       " 6,\n",
       " 2,\n",
       " 1,\n",
       " 5,\n",
       " 3,\n",
       " 6,\n",
       " 4,\n",
       " 5,\n",
       " 6,\n",
       " 5,\n",
       " 3,\n",
       " 5,\n",
       " 2,\n",
       " 6,\n",
       " 2,\n",
       " 6,\n",
       " 5,\n",
       " 1,\n",
       " 2,\n",
       " 2,\n",
       " 1,\n",
       " 2,\n",
       " 5,\n",
       " 5,\n",
       " 1,\n",
       " 6,\n",
       " 2,\n",
       " 2,\n",
       " 1,\n",
       " 5,\n",
       " 2,\n",
       " 3,\n",
       " 4,\n",
       " 6,\n",
       " 1,\n",
       " 2,\n",
       " 3,\n",
       " 5,\n",
       " 5,\n",
       " 2,\n",
       " 5,\n",
       " 4,\n",
       " 5,\n",
       " 4,\n",
       " 4,\n",
       " 5,\n",
       " 2,\n",
       " 1,\n",
       " 4,\n",
       " 5,\n",
       " 3,\n",
       " 6,\n",
       " 1,\n",
       " 1,\n",
       " 2,\n",
       " 5,\n",
       " 5,\n",
       " 5,\n",
       " 5,\n",
       " 6,\n",
       " 5,\n",
       " 5,\n",
       " 2,\n",
       " 4,\n",
       " 2,\n",
       " 2,\n",
       " 2,\n",
       " 5,\n",
       " 4,\n",
       " 2,\n",
       " 2,\n",
       " 6,\n",
       " 5,\n",
       " 1,\n",
       " 5,\n",
       " 5,\n",
       " 5,\n",
       " 5,\n",
       " 5,\n",
       " 5,\n",
       " 6,\n",
       " 5,\n",
       " 5,\n",
       " 5,\n",
       " 0,\n",
       " 5,\n",
       " 5,\n",
       " 5,\n",
       " 2,\n",
       " 5,\n",
       " 5,\n",
       " 2,\n",
       " 5,\n",
       " 6,\n",
       " 2,\n",
       " 5,\n",
       " 3,\n",
       " 5,\n",
       " 1,\n",
       " 5,\n",
       " 5,\n",
       " 4,\n",
       " 2,\n",
       " 1,\n",
       " 5,\n",
       " 5,\n",
       " 5,\n",
       " 5,\n",
       " 3,\n",
       " 5,\n",
       " 2,\n",
       " 5,\n",
       " 1,\n",
       " 5,\n",
       " 1,\n",
       " 6,\n",
       " 2,\n",
       " 5,\n",
       " 2,\n",
       " 2,\n",
       " 3,\n",
       " 5,\n",
       " 5,\n",
       " 2,\n",
       " 6,\n",
       " 5,\n",
       " 4,\n",
       " 2,\n",
       " 5,\n",
       " 1,\n",
       " 6,\n",
       " 4,\n",
       " 5,\n",
       " 5,\n",
       " 2,\n",
       " 5,\n",
       " 2,\n",
       " 5,\n",
       " 1,\n",
       " 3,\n",
       " 5,\n",
       " 5,\n",
       " 5,\n",
       " 4,\n",
       " 3,\n",
       " 1,\n",
       " 5,\n",
       " 6,\n",
       " 2,\n",
       " 5,\n",
       " 4,\n",
       " 5,\n",
       " 3,\n",
       " 3,\n",
       " 5,\n",
       " 2,\n",
       " 5,\n",
       " 4,\n",
       " 5,\n",
       " 2,\n",
       " 2,\n",
       " 5,\n",
       " 5,\n",
       " 5,\n",
       " 1,\n",
       " 5,\n",
       " 4,\n",
       " 2,\n",
       " 5,\n",
       " 5,\n",
       " 6,\n",
       " 3,\n",
       " 5,\n",
       " 1,\n",
       " 5,\n",
       " 5,\n",
       " 2,\n",
       " 2,\n",
       " 5,\n",
       " 5,\n",
       " 4,\n",
       " 6,\n",
       " 5,\n",
       " 6,\n",
       " 4,\n",
       " 5,\n",
       " 5,\n",
       " 3,\n",
       " 1,\n",
       " 3,\n",
       " 5,\n",
       " 3,\n",
       " 1,\n",
       " 2,\n",
       " 2,\n",
       " 5,\n",
       " 1,\n",
       " 5,\n",
       " 1,\n",
       " 2,\n",
       " 5,\n",
       " 1,\n",
       " 4,\n",
       " 2,\n",
       " 1,\n",
       " 0,\n",
       " 5,\n",
       " 5,\n",
       " 5,\n",
       " 5,\n",
       " 0,\n",
       " 5,\n",
       " 5,\n",
       " 5,\n",
       " 2,\n",
       " 1,\n",
       " 4,\n",
       " 5,\n",
       " 5,\n",
       " 5,\n",
       " 5,\n",
       " 2,\n",
       " 5,\n",
       " 1,\n",
       " 2,\n",
       " 2,\n",
       " 2,\n",
       " 1,\n",
       " 3,\n",
       " 1,\n",
       " 4,\n",
       " 6,\n",
       " 3,\n",
       " 5,\n",
       " 4,\n",
       " 5,\n",
       " 5,\n",
       " 4,\n",
       " 1,\n",
       " 5,\n",
       " 5,\n",
       " 6,\n",
       " 6,\n",
       " 5,\n",
       " 5,\n",
       " 5,\n",
       " 4,\n",
       " 2,\n",
       " 5,\n",
       " 6,\n",
       " 1,\n",
       " 5,\n",
       " 5,\n",
       " 4,\n",
       " 2,\n",
       " 2,\n",
       " 4,\n",
       " 1,\n",
       " 2,\n",
       " 5,\n",
       " 5,\n",
       " 4,\n",
       " 2,\n",
       " 4,\n",
       " 5,\n",
       " 5,\n",
       " 5,\n",
       " 5,\n",
       " 2,\n",
       " 5,\n",
       " 2,\n",
       " 5,\n",
       " 2,\n",
       " 0,\n",
       " 3,\n",
       " 5,\n",
       " 5]"
      ]
     },
     "execution_count": 275,
     "metadata": {},
     "output_type": "execute_result"
    }
   ],
   "source": []
  },
  {
   "cell_type": "markdown",
   "metadata": {},
   "source": [
    "## Label Unlabelled Data"
   ]
  },
  {
   "cell_type": "code",
   "execution_count": 305,
   "metadata": {},
   "outputs": [],
   "source": [
    "unlabelled_df = pd.read_pickle('cleaned_unlabelled_tweets')"
   ]
  },
  {
   "cell_type": "code",
   "execution_count": 306,
   "metadata": {},
   "outputs": [
    {
     "data": {
      "text/html": [
       "<div>\n",
       "<style scoped>\n",
       "    .dataframe tbody tr th:only-of-type {\n",
       "        vertical-align: middle;\n",
       "    }\n",
       "\n",
       "    .dataframe tbody tr th {\n",
       "        vertical-align: top;\n",
       "    }\n",
       "\n",
       "    .dataframe thead th {\n",
       "        text-align: right;\n",
       "    }\n",
       "</style>\n",
       "<table border=\"1\" class=\"dataframe\">\n",
       "  <thead>\n",
       "    <tr style=\"text-align: right;\">\n",
       "      <th></th>\n",
       "      <th>network</th>\n",
       "      <th>datetime</th>\n",
       "      <th>original_tweet</th>\n",
       "      <th>subject</th>\n",
       "      <th>sentiment</th>\n",
       "      <th>lemmatized_tweets_tokens</th>\n",
       "      <th>lemmatized_tweets_string</th>\n",
       "    </tr>\n",
       "  </thead>\n",
       "  <tbody>\n",
       "    <tr>\n",
       "      <th>39</th>\n",
       "      <td>@VodafoneUK</td>\n",
       "      <td>2019-12-04 01:20:56</td>\n",
       "      <td>@avipan_lko @VodafoneIN @VodafoneGroup @Vodafo...</td>\n",
       "      <td></td>\n",
       "      <td>0.0</td>\n",
       "      <td>[]</td>\n",
       "      <td></td>\n",
       "    </tr>\n",
       "    <tr>\n",
       "      <th>41</th>\n",
       "      <td>@VodafoneUK</td>\n",
       "      <td>2019-12-04 00:48:17</td>\n",
       "      <td>@danielrome18 @VodafoneUK fucking hell 😱</td>\n",
       "      <td></td>\n",
       "      <td>-0.6</td>\n",
       "      <td>[fucking, hell]</td>\n",
       "      <td>fucking hell</td>\n",
       "    </tr>\n",
       "    <tr>\n",
       "      <th>56</th>\n",
       "      <td>@VodafoneUK</td>\n",
       "      <td>2019-12-03 22:46:47</td>\n",
       "      <td>@VodafoneUK I was hoping you’d say that.</td>\n",
       "      <td></td>\n",
       "      <td>0.0</td>\n",
       "      <td>[hoping, youd, say]</td>\n",
       "      <td>hoping youd say</td>\n",
       "    </tr>\n",
       "    <tr>\n",
       "      <th>61</th>\n",
       "      <td>@VodafoneUK</td>\n",
       "      <td>2019-12-03 22:38:07</td>\n",
       "      <td>@VodafoneUK please explain https://t.co/PhHJdM...</td>\n",
       "      <td></td>\n",
       "      <td>0.0</td>\n",
       "      <td>[please, explain]</td>\n",
       "      <td>please explain</td>\n",
       "    </tr>\n",
       "    <tr>\n",
       "      <th>65</th>\n",
       "      <td>@VodafoneUK</td>\n",
       "      <td>2019-12-03 22:22:46</td>\n",
       "      <td>@Townsley85 @VodafoneUK Hear, hear!</td>\n",
       "      <td></td>\n",
       "      <td>0.0</td>\n",
       "      <td>[hear, hear]</td>\n",
       "      <td>hear hear</td>\n",
       "    </tr>\n",
       "  </tbody>\n",
       "</table>\n",
       "</div>"
      ],
      "text/plain": [
       "        network            datetime  \\\n",
       "39  @VodafoneUK 2019-12-04 01:20:56   \n",
       "41  @VodafoneUK 2019-12-04 00:48:17   \n",
       "56  @VodafoneUK 2019-12-03 22:46:47   \n",
       "61  @VodafoneUK 2019-12-03 22:38:07   \n",
       "65  @VodafoneUK 2019-12-03 22:22:46   \n",
       "\n",
       "                                       original_tweet subject  sentiment  \\\n",
       "39  @avipan_lko @VodafoneIN @VodafoneGroup @Vodafo...                0.0   \n",
       "41           @danielrome18 @VodafoneUK fucking hell 😱               -0.6   \n",
       "56           @VodafoneUK I was hoping you’d say that.                0.0   \n",
       "61  @VodafoneUK please explain https://t.co/PhHJdM...                0.0   \n",
       "65                @Townsley85 @VodafoneUK Hear, hear!                0.0   \n",
       "\n",
       "   lemmatized_tweets_tokens lemmatized_tweets_string  \n",
       "39                       []                           \n",
       "41          [fucking, hell]             fucking hell  \n",
       "56      [hoping, youd, say]          hoping youd say  \n",
       "61        [please, explain]           please explain  \n",
       "65             [hear, hear]                hear hear  "
      ]
     },
     "execution_count": 306,
     "metadata": {},
     "output_type": "execute_result"
    }
   ],
   "source": [
    "unlabelled_df.head()"
   ]
  },
  {
   "cell_type": "code",
   "execution_count": 307,
   "metadata": {},
   "outputs": [],
   "source": [
    "unlabelled_tweets = unlabelled_df['lemmatized_tweets_string']"
   ]
  },
  {
   "cell_type": "code",
   "execution_count": 308,
   "metadata": {},
   "outputs": [],
   "source": [
    "unlabelled_X = tokenizer.texts_to_matrix(unlabelled_tweets,mode='binary')"
   ]
  },
  {
   "cell_type": "code",
   "execution_count": 309,
   "metadata": {},
   "outputs": [],
   "source": [
    "preds = model.predict_classes(unlabelled_X)"
   ]
  },
  {
   "cell_type": "code",
   "execution_count": 310,
   "metadata": {},
   "outputs": [
    {
     "data": {
      "text/plain": [
       "array([[0., 0., 0., ..., 0., 1., 0.],\n",
       "       [0., 0., 0., ..., 0., 1., 0.],\n",
       "       [0., 0., 0., ..., 0., 1., 0.],\n",
       "       ...,\n",
       "       [0., 0., 1., ..., 0., 0., 0.],\n",
       "       [0., 0., 0., ..., 0., 0., 1.],\n",
       "       [0., 0., 0., ..., 1., 0., 0.]], dtype=float32)"
      ]
     },
     "execution_count": 310,
     "metadata": {},
     "output_type": "execute_result"
    }
   ],
   "source": [
    "preds_onehot = to_categorical(preds)\n",
    "preds_onehot"
   ]
  },
  {
   "cell_type": "code",
   "execution_count": 327,
   "metadata": {},
   "outputs": [],
   "source": [
    "X = np.append(arr=X_train, values=unlabelled_X, axis=0)"
   ]
  },
  {
   "cell_type": "code",
   "execution_count": 326,
   "metadata": {},
   "outputs": [],
   "source": [
    "y = np.append(arr=y_train, values=preds_onehot, axis=0)"
   ]
  },
  {
   "cell_type": "code",
   "execution_count": 330,
   "metadata": {},
   "outputs": [
    {
     "data": {
      "text/plain": [
       "11428"
      ]
     },
     "execution_count": 330,
     "metadata": {},
     "output_type": "execute_result"
    }
   ],
   "source": [
    "len(y)"
   ]
  },
  {
   "cell_type": "markdown",
   "metadata": {},
   "source": [
    "## Re-Run Model"
   ]
  },
  {
   "cell_type": "code",
   "execution_count": 336,
   "metadata": {},
   "outputs": [
    {
     "name": "stdout",
     "output_type": "stream",
     "text": [
      "Train on 11428 samples, validate on 508 samples\n",
      "Epoch 1/20\n",
      "11428/11428 [==============================] - 1s 62us/step - loss: 1.2724 - accuracy: 0.5661 - val_loss: 1.0215 - val_accuracy: 0.6319\n",
      "Epoch 2/20\n",
      "11428/11428 [==============================] - 0s 19us/step - loss: 0.6440 - accuracy: 0.7813 - val_loss: 0.7826 - val_accuracy: 0.7579\n",
      "Epoch 3/20\n",
      "11428/11428 [==============================] - 0s 19us/step - loss: 0.4076 - accuracy: 0.8564 - val_loss: 0.7803 - val_accuracy: 0.7795\n",
      "Epoch 4/20\n",
      "11428/11428 [==============================] - 0s 19us/step - loss: 0.2837 - accuracy: 0.9004 - val_loss: 0.7563 - val_accuracy: 0.7894\n",
      "Epoch 5/20\n",
      "11428/11428 [==============================] - 0s 19us/step - loss: 0.2031 - accuracy: 0.9277 - val_loss: 0.9918 - val_accuracy: 0.7835\n",
      "Epoch 6/20\n",
      "11428/11428 [==============================] - 0s 20us/step - loss: 0.1815 - accuracy: 0.9357 - val_loss: 0.9270 - val_accuracy: 0.7795\n",
      "Epoch 7/20\n",
      "11428/11428 [==============================] - 0s 20us/step - loss: 0.0915 - accuracy: 0.9701 - val_loss: 0.8054 - val_accuracy: 0.8169\n",
      "Epoch 8/20\n",
      "11428/11428 [==============================] - 0s 19us/step - loss: 0.0548 - accuracy: 0.9840 - val_loss: 0.8466 - val_accuracy: 0.8130\n",
      "Epoch 9/20\n",
      "11428/11428 [==============================] - 0s 19us/step - loss: 0.0578 - accuracy: 0.9830 - val_loss: 0.9130 - val_accuracy: 0.8228\n",
      "Epoch 10/20\n",
      "11428/11428 [==============================] - 0s 19us/step - loss: 0.0829 - accuracy: 0.9744 - val_loss: 1.0658 - val_accuracy: 0.8110\n",
      "Epoch 11/20\n",
      "11428/11428 [==============================] - 0s 19us/step - loss: 0.0427 - accuracy: 0.9877 - val_loss: 1.1505 - val_accuracy: 0.8130\n",
      "Epoch 12/20\n",
      "11428/11428 [==============================] - 0s 19us/step - loss: 0.0343 - accuracy: 0.9907 - val_loss: 1.0782 - val_accuracy: 0.8031\n",
      "Epoch 13/20\n",
      "11428/11428 [==============================] - 0s 19us/step - loss: 0.0217 - accuracy: 0.9961 - val_loss: 1.0731 - val_accuracy: 0.8130\n",
      "Epoch 14/20\n",
      "11428/11428 [==============================] - 0s 19us/step - loss: 0.0168 - accuracy: 0.9973 - val_loss: 1.1610 - val_accuracy: 0.8091\n",
      "Epoch 15/20\n",
      "11428/11428 [==============================] - 0s 19us/step - loss: 0.0188 - accuracy: 0.9962 - val_loss: 1.1516 - val_accuracy: 0.8091\n",
      "Epoch 16/20\n",
      "11428/11428 [==============================] - 0s 19us/step - loss: 0.0190 - accuracy: 0.9945 - val_loss: 1.0972 - val_accuracy: 0.8091\n",
      "Epoch 17/20\n",
      "11428/11428 [==============================] - 0s 20us/step - loss: 0.0132 - accuracy: 0.9969 - val_loss: 1.1324 - val_accuracy: 0.8150\n",
      "Epoch 18/20\n",
      "11428/11428 [==============================] - 0s 19us/step - loss: 0.0133 - accuracy: 0.9966 - val_loss: 1.1671 - val_accuracy: 0.8130\n",
      "Epoch 19/20\n",
      "11428/11428 [==============================] - 0s 18us/step - loss: 0.0144 - accuracy: 0.9961 - val_loss: 1.1887 - val_accuracy: 0.8071\n",
      "Epoch 20/20\n",
      "11428/11428 [==============================] - 0s 21us/step - loss: 0.0116 - accuracy: 0.9975 - val_loss: 1.2037 - val_accuracy: 0.8031\n"
     ]
    }
   ],
   "source": [
    "history = model.fit(X,\n",
    "                    y,\n",
    "                    epochs=epochs,\n",
    "                    batch_size=200, validation_data=(X_val, y_val))"
   ]
  },
  {
   "cell_type": "code",
   "execution_count": 338,
   "metadata": {},
   "outputs": [],
   "source": [
    "preds = model.predict_classes(X_test)"
   ]
  },
  {
   "cell_type": "code",
   "execution_count": 339,
   "metadata": {},
   "outputs": [
    {
     "data": {
      "text/plain": [
       "0.7133858267716535"
      ]
     },
     "execution_count": 339,
     "metadata": {},
     "output_type": "execute_result"
    }
   ],
   "source": [
    "accuracy_score(decoded_y_test, preds)"
   ]
  }
 ],
 "metadata": {
  "kernelspec": {
   "display_name": "Python 3",
   "language": "python",
   "name": "python3"
  },
  "language_info": {
   "codemirror_mode": {
    "name": "ipython",
    "version": 3
   },
   "file_extension": ".py",
   "mimetype": "text/x-python",
   "name": "python",
   "nbconvert_exporter": "python",
   "pygments_lexer": "ipython3",
   "version": "3.7.3"
  }
 },
 "nbformat": 4,
 "nbformat_minor": 2
}
