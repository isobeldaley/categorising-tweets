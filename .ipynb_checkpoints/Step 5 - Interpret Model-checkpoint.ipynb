{
 "cells": [
  {
   "cell_type": "markdown",
   "metadata": {},
   "source": [
    "## Import Libraries"
   ]
  },
  {
   "cell_type": "markdown",
   "metadata": {},
   "source": [
    "All libraries required to create a model capable of classifying tweets by category are imported.  These are described in the comments below."
   ]
  },
  {
   "cell_type": "code",
   "execution_count": 77,
   "metadata": {},
   "outputs": [],
   "source": [
    "## Pickle allows Python objects to be saved for later use, and retrieved\n",
    "import pickle\n",
    "\n",
    "## Works with Pickle to load sklearn models\n",
    "from sklearn.externals import joblib\n",
    "\n",
    "## Pandas required to manipulate data into user-friendly data structure\n",
    "import pandas as pd\n",
    "\n",
    "import numpy as np"
   ]
  },
  {
   "cell_type": "markdown",
   "metadata": {},
   "source": [
    "## Set Pandas Display Options"
   ]
  },
  {
   "cell_type": "markdown",
   "metadata": {},
   "source": [
    "Pandas display settings are chosen to ensure that the full contents of each column can be seen."
   ]
  },
  {
   "cell_type": "code",
   "execution_count": 61,
   "metadata": {},
   "outputs": [],
   "source": [
    "## Set width of pandas dataframe to ensure entire Tweet is displayed\n",
    "pd.set_option('display.max_colwidth', 3000)"
   ]
  },
  {
   "cell_type": "markdown",
   "metadata": {},
   "source": [
    "## Create Colour Class to Format Text"
   ]
  },
  {
   "cell_type": "markdown",
   "metadata": {},
   "source": [
    "A class is created to enable text to be printed in bold and with an underline.  This is used later in this workbook."
   ]
  },
  {
   "cell_type": "code",
   "execution_count": 106,
   "metadata": {},
   "outputs": [],
   "source": [
    "## Define class to enable text to be emboldened and underlined\n",
    "class colour:\n",
    "   BOLD = '\\033[1m'\n",
    "   UNDERLINE = '\\033[4m'\n",
    "   END = '\\033[0m'"
   ]
  },
  {
   "cell_type": "markdown",
   "metadata": {},
   "source": [
    "## Load Saved Model"
   ]
  },
  {
   "cell_type": "markdown",
   "metadata": {},
   "source": [
    "The logistic regression model, compiled during **[Step 4 - Model Data](https://github.com/isobeldaley/categorising-tweets/blob/master/Step%204%20-%20Model%20Data.ipynb)** is loaded using Pickle."
   ]
  },
  {
   "cell_type": "code",
   "execution_count": 62,
   "metadata": {},
   "outputs": [],
   "source": [
    "## Load logistic regression model using Pickle\n",
    "model = joblib.load('model.pkl')"
   ]
  },
  {
   "cell_type": "markdown",
   "metadata": {},
   "source": [
    "## Load Test Data"
   ]
  },
  {
   "cell_type": "markdown",
   "metadata": {},
   "source": [
    "Next, to understand how this model performs when classifying tweets, the test data (obtained during **[Step 4 - Model Data](https://github.com/isobeldaley/categorising-tweets/blob/master/Step%204%20-%20Model%20Data.ipynb)** is loaded using Pickle.  "
   ]
  },
  {
   "cell_type": "code",
   "execution_count": 63,
   "metadata": {},
   "outputs": [],
   "source": [
    "## Load X_test, y_test and X_test vectorized using tf-idf vectorization in step 4\n",
    "X_test = pickle.load(open(\"X_test.pkl\", \"rb\"))\n",
    "y_test = pickle.load(open(\"y_test.pkl\", \"rb\"))\n",
    "tf_idf_X_test = pickle.load(open(\"tf_idf_X_test.pkl\", \"rb\"))"
   ]
  },
  {
   "cell_type": "markdown",
   "metadata": {},
   "source": [
    "In addition, the table containing the original tweet and sentiment rating is loaded (this was created in **[Step 2 - Scrub Data](https://github.com/isobeldaley/categorising-tweets/blob/master/Step%202%20-%20Scrub%20Data.ipynb)**)."
   ]
  },
  {
   "cell_type": "code",
   "execution_count": 64,
   "metadata": {},
   "outputs": [],
   "source": [
    "## Load table containing original tweet and sentiment rating\n",
    "df = pd.read_pickle('cleaned_labelled_tweets')"
   ]
  },
  {
   "cell_type": "markdown",
   "metadata": {},
   "source": [
    "## Select a Random Sample of Tweets"
   ]
  },
  {
   "cell_type": "markdown",
   "metadata": {},
   "source": [
    "To understand how well this model works, a sample of 10 tweets are selected from the test data.  Predicted categories will then be generated for these tweets."
   ]
  },
  {
   "cell_type": "code",
   "execution_count": 65,
   "metadata": {},
   "outputs": [
    {
     "data": {
      "text/plain": [
       "9460                                         customer warned charged 35.65 turning airplane mode appox 4mins whilst visiting u last week absolute disgrace justify charge expect retain loyal customer overcharged\n",
       "10443    ordered new phone yesterday received email confirming order say full swing order number.. paid next day delivery still heard nothing check ive tried call customer service attempt live chat nothing work\n",
       "6881                                                                                                                                            messing around yet wifi tv box lit like xmas tree fml thank god 4g\n",
       "5787                                                                                                                                                                                            yes ive moved voxi\n",
       "778                                                                                                                                                                                           would treat customer\n",
       "9793                                                                                                           hey im struggling signal continuously 4g yet never get apps download send message connect wifi work\n",
       "5627                                                                                                                                                                                            ahh ok dan thought\n",
       "929                appalling customer service trying unlock phone code u sent n't working tried route make direct contact impossible rip rate 'ca n't approach delivers worst/most frustrating customer experience\n",
       "5779                                                                                                                                                                   googled number bottom email slimy so-and-so\n",
       "5614                                                                                                                                                                                 sorted 16 hour ago messaged u\n",
       "Name: lemmatized_tweets_string, dtype: object"
      ]
     },
     "execution_count": 65,
     "metadata": {},
     "output_type": "execute_result"
    }
   ],
   "source": [
    "## Select a sample of 10 tweets from the test dataset (NB: What is shown below if the cleaned/lemmatized tweet)\n",
    "X_test[215:225]"
   ]
  },
  {
   "cell_type": "markdown",
   "metadata": {},
   "source": [
    "To provide a complete comparison, the original tweet, alongside the TextBlob sentiment rating is extracted:"
   ]
  },
  {
   "cell_type": "code",
   "execution_count": 66,
   "metadata": {},
   "outputs": [],
   "source": [
    "## Select original tweet and sentiment for each of the tweets above\n",
    "df = df.loc[[9460,10443,6881,5787,778,9793,5627,929,5779,5614],['original_tweet','sentiment']]"
   ]
  },
  {
   "cell_type": "markdown",
   "metadata": {},
   "source": [
    "## Process Tweets Through Model"
   ]
  },
  {
   "cell_type": "markdown",
   "metadata": {},
   "source": [
    "Next, the model is used to generate predictions for each of the selected test tweets."
   ]
  },
  {
   "cell_type": "code",
   "execution_count": 67,
   "metadata": {},
   "outputs": [],
   "source": [
    "## Isolate the vectorized test tweets for which predictions will be made\n",
    "tweets_to_process = tf_idf_X_test[215:225]"
   ]
  },
  {
   "cell_type": "code",
   "execution_count": 68,
   "metadata": {},
   "outputs": [],
   "source": [
    "## Generate predictions for each of the test tweets using the model\n",
    "predictions = model.predict(tweets_to_process)"
   ]
  },
  {
   "cell_type": "markdown",
   "metadata": {},
   "source": [
    "## Compare Predicted Category & Sentiment to Original Tweet"
   ]
  },
  {
   "cell_type": "markdown",
   "metadata": {},
   "source": [
    "Before comparing the original tweet with the predicted category and sentiment, the results are combined in a single dataframe."
   ]
  },
  {
   "cell_type": "code",
   "execution_count": 71,
   "metadata": {},
   "outputs": [],
   "source": [
    "## Combine predicted category/sentiment and original tweet in single dataframe\n",
    "results_df = pd.DataFrame({'Tweet': df['original_tweet'], 'Actual Category': y_test[215:225], \n",
    "                   'Predicted Category': predictions, \n",
    "                   'Predicted Sentiment':df['sentiment']})"
   ]
  },
  {
   "cell_type": "markdown",
   "metadata": {},
   "source": [
    "Then, the results are printed for comparison."
   ]
  },
  {
   "cell_type": "code",
   "execution_count": 72,
   "metadata": {},
   "outputs": [
    {
     "data": {
      "text/html": [
       "<div>\n",
       "<style scoped>\n",
       "    .dataframe tbody tr th:only-of-type {\n",
       "        vertical-align: middle;\n",
       "    }\n",
       "\n",
       "    .dataframe tbody tr th {\n",
       "        vertical-align: top;\n",
       "    }\n",
       "\n",
       "    .dataframe thead th {\n",
       "        text-align: right;\n",
       "    }\n",
       "</style>\n",
       "<table border=\"1\" class=\"dataframe\">\n",
       "  <thead>\n",
       "    <tr style=\"text-align: right;\">\n",
       "      <th></th>\n",
       "      <th>Tweet</th>\n",
       "      <th>Actual Category</th>\n",
       "      <th>Predicted Category</th>\n",
       "      <th>Predicted Sentiment</th>\n",
       "    </tr>\n",
       "  </thead>\n",
       "  <tbody>\n",
       "    <tr>\n",
       "      <th>9460</th>\n",
       "      <td>O2 customers be warned!! I was charged £35.65 for turning airplane mode off for appox 4mins whilst visiting the US last week!! 😡 @O2 This is an absolute disgrace - how can you justify these charges and expect to retain loyal customers? #o2 #overcharged</td>\n",
       "      <td>contract</td>\n",
       "      <td>customer service</td>\n",
       "      <td>0.177778</td>\n",
       "    </tr>\n",
       "    <tr>\n",
       "      <th>10443</th>\n",
       "      <td>@O2 ordered a new phone yesterday received an email confirming the order to say it’s in full swing with an order number.. i paid for next day delivery and still have heard nothing can you check this for me? I’ve tried to call customer services and attempt live chat nothing works!</td>\n",
       "      <td>device</td>\n",
       "      <td>device</td>\n",
       "      <td>0.164205</td>\n",
       "    </tr>\n",
       "    <tr>\n",
       "      <th>6881</th>\n",
       "      <td>@virginmedia messing around yet again. No wifi. TV box lit up like a Xmas tree. Fml. Thank god for @ThreeUK 4G</td>\n",
       "      <td>network</td>\n",
       "      <td>network</td>\n",
       "      <td>0.000000</td>\n",
       "    </tr>\n",
       "    <tr>\n",
       "      <th>5787</th>\n",
       "      <td>@EE Yes, I’ve moved to Voxi.</td>\n",
       "      <td>other</td>\n",
       "      <td>other</td>\n",
       "      <td>0.000000</td>\n",
       "    </tr>\n",
       "    <tr>\n",
       "      <th>778</th>\n",
       "      <td>Would @VodafoneUK treat customers the same? https://t.co/2xIaJudZbu</td>\n",
       "      <td>other</td>\n",
       "      <td>customer service</td>\n",
       "      <td>0.000000</td>\n",
       "    </tr>\n",
       "    <tr>\n",
       "      <th>9793</th>\n",
       "      <td>@O2 hey, I’m struggling with your signal. I continuously have 4G yet never can get on apps, download or send messages. Have to connect to WiFi to work.</td>\n",
       "      <td>network</td>\n",
       "      <td>network</td>\n",
       "      <td>0.000000</td>\n",
       "    </tr>\n",
       "    <tr>\n",
       "      <th>5627</th>\n",
       "      <td>@DannyStradomsky @EE Ahh ok dan!! Thought so 👍🏻</td>\n",
       "      <td>other</td>\n",
       "      <td>other</td>\n",
       "      <td>0.781250</td>\n",
       "    </tr>\n",
       "    <tr>\n",
       "      <th>929</th>\n",
       "      <td>@VodafoneUK Vodafone has appalling customer service. Am trying to unlock my phone with code U sent me which ISN'T WORKING. I have tried all routes to make direct contact and it is impossible!  Your rip off rates and 'can't do' approach delivers the worst/most frustrating customer experience.</td>\n",
       "      <td>customer service</td>\n",
       "      <td>customer service</td>\n",
       "      <td>-0.370833</td>\n",
       "    </tr>\n",
       "    <tr>\n",
       "      <th>5779</th>\n",
       "      <td>@William31567 @EE @netflix @actionfrauduk @CumbrianRambler @glocky9 @ChrisJCoates @Catstycam @theJeremyVine @PaulKingstonITV @WalksBritain @walkingbookscom @BBC_Cumbria @Mounta1n_Mike I googled the number at the bottom of the email there are some slimy so-and-so’s https://t.co/4mKr2ibhMh</td>\n",
       "      <td>other</td>\n",
       "      <td>other</td>\n",
       "      <td>0.000000</td>\n",
       "    </tr>\n",
       "    <tr>\n",
       "      <th>5614</th>\n",
       "      <td>@EE Sorted now. It was 16 hours ago I messaged u</td>\n",
       "      <td>customer service</td>\n",
       "      <td>customer service</td>\n",
       "      <td>0.000000</td>\n",
       "    </tr>\n",
       "  </tbody>\n",
       "</table>\n",
       "</div>"
      ],
      "text/plain": [
       "                                                                                                                                                                                                                                                                                                      Tweet  \\\n",
       "9460                                           O2 customers be warned!! I was charged £35.65 for turning airplane mode off for appox 4mins whilst visiting the US last week!! 😡 @O2 This is an absolute disgrace - how can you justify these charges and expect to retain loyal customers? #o2 #overcharged   \n",
       "10443              @O2 ordered a new phone yesterday received an email confirming the order to say it’s in full swing with an order number.. i paid for next day delivery and still have heard nothing can you check this for me? I’ve tried to call customer services and attempt live chat nothing works!   \n",
       "6881                                                                                                                                                                                         @virginmedia messing around yet again. No wifi. TV box lit up like a Xmas tree. Fml. Thank god for @ThreeUK 4G   \n",
       "5787                                                                                                                                                                                                                                                                           @EE Yes, I’ve moved to Voxi.   \n",
       "778                                                                                                                                                                                                                                     Would @VodafoneUK treat customers the same? https://t.co/2xIaJudZbu   \n",
       "9793                                                                                                                                                @O2 hey, I’m struggling with your signal. I continuously have 4G yet never can get on apps, download or send messages. Have to connect to WiFi to work.   \n",
       "5627                                                                                                                                                                                                                                                        @DannyStradomsky @EE Ahh ok dan!! Thought so 👍🏻   \n",
       "929    @VodafoneUK Vodafone has appalling customer service. Am trying to unlock my phone with code U sent me which ISN'T WORKING. I have tried all routes to make direct contact and it is impossible!  Your rip off rates and 'can't do' approach delivers the worst/most frustrating customer experience.   \n",
       "5779       @William31567 @EE @netflix @actionfrauduk @CumbrianRambler @glocky9 @ChrisJCoates @Catstycam @theJeremyVine @PaulKingstonITV @WalksBritain @walkingbookscom @BBC_Cumbria @Mounta1n_Mike I googled the number at the bottom of the email there are some slimy so-and-so’s https://t.co/4mKr2ibhMh   \n",
       "5614                                                                                                                                                                                                                                                       @EE Sorted now. It was 16 hours ago I messaged u   \n",
       "\n",
       "        Actual Category Predicted Category  Predicted Sentiment  \n",
       "9460           contract   customer service             0.177778  \n",
       "10443            device             device             0.164205  \n",
       "6881            network            network             0.000000  \n",
       "5787              other              other             0.000000  \n",
       "778               other   customer service             0.000000  \n",
       "9793            network            network             0.000000  \n",
       "5627              other              other             0.781250  \n",
       "929    customer service   customer service            -0.370833  \n",
       "5779              other              other             0.000000  \n",
       "5614   customer service   customer service             0.000000  "
      ]
     },
     "execution_count": 72,
     "metadata": {},
     "output_type": "execute_result"
    }
   ],
   "source": [
    "## Display results \n",
    "results_df"
   ]
  },
  {
   "cell_type": "markdown",
   "metadata": {},
   "source": [
    "The performance of the model appears to be reasonable.  On 8 out of 10 occasions the category is correctly predicted. \n",
    "\n",
    "There are two tweets that are labelled \"customer service\" when the human has labelled them \"contract\" and \"other\".  However, upon deeper reading of the tweet, it could be argued that either or both could have been labelled \"customer service\"."
   ]
  },
  {
   "cell_type": "markdown",
   "metadata": {},
   "source": [
    "Performance of the sentiment rating is more difficult to judge.  The first tweet is clearly negative, and yet has a mildly positive sentiment rating of 0.18.  Meanwhile, the majority of tweets have been given a neutral rating.  More work may be needed to fine tune this element of the project."
   ]
  },
  {
   "cell_type": "markdown",
   "metadata": {},
   "source": [
    "## On-the-Pulse Measure of Customer Satisfaction"
   ]
  },
  {
   "cell_type": "markdown",
   "metadata": {},
   "source": [
    "At the outset, it was stated that an objective of this project was to provide mobile networks with an on-the-pulse measure of customer satisfaction.  To understand how this would work, measures are provided for the demo data above."
   ]
  },
  {
   "cell_type": "markdown",
   "metadata": {},
   "source": [
    "### Subject"
   ]
  },
  {
   "cell_type": "markdown",
   "metadata": {},
   "source": [
    "First, a dataframe is created showing the proportion of tweets relating to each subject category."
   ]
  },
  {
   "cell_type": "code",
   "execution_count": 99,
   "metadata": {},
   "outputs": [],
   "source": [
    "## Create a dataframe to show the proportion of tweets relating to each category\n",
    "categories = pd.DataFrame({'Proportion of Tweets (%)':results_df['Predicted Category'].value_counts(normalize=True)})\n",
    "categories['Proportion of Tweets (%)'] = (categories['Proportion of Tweets (%)']*100).astype(int)"
   ]
  },
  {
   "cell_type": "code",
   "execution_count": 104,
   "metadata": {},
   "outputs": [
    {
     "name": "stdout",
     "output_type": "stream",
     "text": [
      "\u001b[1m\u001b[4mProportion of Tweets by Category\u001b[0m\n"
     ]
    },
    {
     "data": {
      "text/html": [
       "<div>\n",
       "<style scoped>\n",
       "    .dataframe tbody tr th:only-of-type {\n",
       "        vertical-align: middle;\n",
       "    }\n",
       "\n",
       "    .dataframe tbody tr th {\n",
       "        vertical-align: top;\n",
       "    }\n",
       "\n",
       "    .dataframe thead th {\n",
       "        text-align: right;\n",
       "    }\n",
       "</style>\n",
       "<table border=\"1\" class=\"dataframe\">\n",
       "  <thead>\n",
       "    <tr style=\"text-align: right;\">\n",
       "      <th></th>\n",
       "      <th>Proportion of Tweets (%)</th>\n",
       "    </tr>\n",
       "  </thead>\n",
       "  <tbody>\n",
       "    <tr>\n",
       "      <th>customer service</th>\n",
       "      <td>40</td>\n",
       "    </tr>\n",
       "    <tr>\n",
       "      <th>other</th>\n",
       "      <td>30</td>\n",
       "    </tr>\n",
       "    <tr>\n",
       "      <th>network</th>\n",
       "      <td>20</td>\n",
       "    </tr>\n",
       "    <tr>\n",
       "      <th>device</th>\n",
       "      <td>10</td>\n",
       "    </tr>\n",
       "  </tbody>\n",
       "</table>\n",
       "</div>"
      ],
      "text/plain": [
       "                  Proportion of Tweets (%)\n",
       "customer service                        40\n",
       "other                                   30\n",
       "network                                 20\n",
       "device                                  10"
      ]
     },
     "execution_count": 104,
     "metadata": {},
     "output_type": "execute_result"
    }
   ],
   "source": [
    "## Display the proportion of tweets relating to each category\n",
    "print(colour.BOLD+colour.UNDERLINE +'Proportion of Tweets by Category'+colour.END)\n",
    "categories"
   ]
  },
  {
   "cell_type": "markdown",
   "metadata": {},
   "source": [
    "### Sentiment"
   ]
  },
  {
   "cell_type": "markdown",
   "metadata": {},
   "source": [
    "Next, the mean sentiment for all tweets is assessed:"
   ]
  },
  {
   "cell_type": "code",
   "execution_count": 107,
   "metadata": {},
   "outputs": [
    {
     "name": "stdout",
     "output_type": "stream",
     "text": [
      "\u001b[1m\u001b[4mMean Sentiment of Tweets\u001b[0m\n"
     ]
    },
    {
     "data": {
      "text/plain": [
       "0.08"
      ]
     },
     "execution_count": 107,
     "metadata": {},
     "output_type": "execute_result"
    }
   ],
   "source": [
    "## Print the mean sentiment for all tweets\n",
    "print(colour.BOLD+colour.UNDERLINE +'Mean Sentiment of Tweets'+colour.END)\n",
    "round(np.mean(results_df['Predicted Sentiment']),2)"
   ]
  },
  {
   "cell_type": "markdown",
   "metadata": {},
   "source": [
    "## Recommendations"
   ]
  },
  {
   "cell_type": "markdown",
   "metadata": {},
   "source": [
    "Having demonstrated its potential, we recommend that this model is used in the following ways:\n",
    "\n",
    "1. To pre-categorize tweets.  This will enable all questions/issues to be directed to the correct person/department and handled efficiently.\n",
    "\n",
    "2. To provide a measure of the proportion of tweets relating to each subject category.  This will help mobile network operators to quickly identify and address specific (e.g. persistent problems with customer service, or poor network coverage).\n",
    "\n",
    "3.  To provide an on-the pulse measure of customer satisfaction, by considering the distribution of sentiment ratings.\n",
    "\n",
    "This approach will enable more effective management of customer communications via social media, rapid assessment of customer sentiment/issues.\n"
   ]
  },
  {
   "cell_type": "markdown",
   "metadata": {},
   "source": [
    "## Future Work"
   ]
  },
  {
   "cell_type": "markdown",
   "metadata": {},
   "source": [
    "There are a number of areas that would merit further investigation in the future.  These are detailed below."
   ]
  },
  {
   "attachments": {},
   "cell_type": "markdown",
   "metadata": {},
   "source": [
    "\n",
    "### Labelling & Categorisation\n",
    "\n",
    "For this project, we had access to 4,377 labelled tweets.  It is highly likely that model performance could be improved if the labelled dataset was significantly expanded.  Given the appropriate time and resources, it is recommended that this is done prior to deploying the model.  \n",
    "\n",
    "Moreover, it was noted that a large proportion of tweets were categorised as \"Other\".  This suggests that more detailed categorisation may be needed.  \n",
    "\n",
    "### Tweets & Replies\n",
    "\n",
    "This model considered tweets individually.  However, tweets are often part of a longer conversation between a service agent and a customer.  It may be useful to broaden the model to consider original tweets alongside any replies.  This would help operators understand how many tweets and how much time was required to resolve an issue/question.  This is a crucial component of customer service.  \n",
    "\n",
    "### Sentiment Analysis\n",
    "\n",
    "Finally, it was noted that the sentiment analysis was often inaccurate.  An alternative means of modelling sentiment should be considered to improve performance of this element of the model. "
   ]
  }
 ],
 "metadata": {
  "kernelspec": {
   "display_name": "Python 3",
   "language": "python",
   "name": "python3"
  },
  "language_info": {
   "codemirror_mode": {
    "name": "ipython",
    "version": 3
   },
   "file_extension": ".py",
   "mimetype": "text/x-python",
   "name": "python",
   "nbconvert_exporter": "python",
   "pygments_lexer": "ipython3",
   "version": "3.7.3"
  }
 },
 "nbformat": 4,
 "nbformat_minor": 2
}
